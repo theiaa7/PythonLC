{
  "cells": [
    {
      "cell_type": "markdown",
      "metadata": {
        "id": "view-in-github",
        "colab_type": "text"
      },
      "source": [
        "<a href=\"https://colab.research.google.com/github/theiaa7/PythonLC/blob/main/P3_Data_Cleansing_text_%26_Lexical_Analysis.ipynb\" target=\"_parent\"><img src=\"https://colab.research.google.com/assets/colab-badge.svg\" alt=\"Open In Colab\"/></a>"
      ]
    },
    {
      "cell_type": "code",
      "execution_count": null,
      "metadata": {
        "id": "clihAZzCuIJt"
      },
      "outputs": [],
      "source": [
        "# It is defined by the kaggle/python Docker image: https://github.com/kaggle/docker-python\n",
        "\n",
        "import numpy as np # pemakaian linear algebra\n",
        "import pandas as pd # data processing, CSV file I/O (e.g. pd.read_csv)\n",
        "from tqdm import tqdm # looping\n",
        "\n",
        "pd.options.display.max_colwidth = 200 #max display lebar dari column nya\n",
        "\n",
        "import warnings\n",
        "warnings.filterwarnings('ignore')"
      ]
    },
    {
      "cell_type": "markdown",
      "metadata": {
        "id": "k6xDcOEVum9Y"
      },
      "source": [
        "# Contents\n",
        "\n",
        "*   Read the dataset (corpus)\n",
        "*   Data Cleaning\n"
      ]
    },
    {
      "cell_type": "markdown",
      "metadata": {
        "id": "zstbRXUo0YCf"
      },
      "source": [
        "# Read the Dataset\n",
        "Dataset link : https://www.kaggle.com/c/medical-notes/data. /- https://www.mtsamples.com/"
      ]
    },
    {
      "cell_type": "code",
      "execution_count": null,
      "metadata": {
        "colab": {
          "background_save": true,
          "base_uri": "https://localhost:8080/",
          "height": 38
        },
        "id": "CnOux-NzzQyZ",
        "outputId": "2e139c92-b3a8-4b0b-eb51-7c42ed9ad684"
      },
      "outputs": [
        {
          "data": {
            "text/html": [
              "\n",
              "     <input type=\"file\" id=\"files-b8834922-96db-40dc-8623-ab516c988f62\" name=\"files[]\" multiple disabled\n",
              "        style=\"border:none\" />\n",
              "     <output id=\"result-b8834922-96db-40dc-8623-ab516c988f62\">\n",
              "      Upload widget is only available when the cell has been executed in the\n",
              "      current browser session. Please rerun this cell to enable.\n",
              "      </output>\n",
              "      <script>// Copyright 2017 Google LLC\n",
              "//\n",
              "// Licensed under the Apache License, Version 2.0 (the \"License\");\n",
              "// you may not use this file except in compliance with the License.\n",
              "// You may obtain a copy of the License at\n",
              "//\n",
              "//      http://www.apache.org/licenses/LICENSE-2.0\n",
              "//\n",
              "// Unless required by applicable law or agreed to in writing, software\n",
              "// distributed under the License is distributed on an \"AS IS\" BASIS,\n",
              "// WITHOUT WARRANTIES OR CONDITIONS OF ANY KIND, either express or implied.\n",
              "// See the License for the specific language governing permissions and\n",
              "// limitations under the License.\n",
              "\n",
              "/**\n",
              " * @fileoverview Helpers for google.colab Python module.\n",
              " */\n",
              "(function(scope) {\n",
              "function span(text, styleAttributes = {}) {\n",
              "  const element = document.createElement('span');\n",
              "  element.textContent = text;\n",
              "  for (const key of Object.keys(styleAttributes)) {\n",
              "    element.style[key] = styleAttributes[key];\n",
              "  }\n",
              "  return element;\n",
              "}\n",
              "\n",
              "// Max number of bytes which will be uploaded at a time.\n",
              "const MAX_PAYLOAD_SIZE = 100 * 1024;\n",
              "\n",
              "function _uploadFiles(inputId, outputId) {\n",
              "  const steps = uploadFilesStep(inputId, outputId);\n",
              "  const outputElement = document.getElementById(outputId);\n",
              "  // Cache steps on the outputElement to make it available for the next call\n",
              "  // to uploadFilesContinue from Python.\n",
              "  outputElement.steps = steps;\n",
              "\n",
              "  return _uploadFilesContinue(outputId);\n",
              "}\n",
              "\n",
              "// This is roughly an async generator (not supported in the browser yet),\n",
              "// where there are multiple asynchronous steps and the Python side is going\n",
              "// to poll for completion of each step.\n",
              "// This uses a Promise to block the python side on completion of each step,\n",
              "// then passes the result of the previous step as the input to the next step.\n",
              "function _uploadFilesContinue(outputId) {\n",
              "  const outputElement = document.getElementById(outputId);\n",
              "  const steps = outputElement.steps;\n",
              "\n",
              "  const next = steps.next(outputElement.lastPromiseValue);\n",
              "  return Promise.resolve(next.value.promise).then((value) => {\n",
              "    // Cache the last promise value to make it available to the next\n",
              "    // step of the generator.\n",
              "    outputElement.lastPromiseValue = value;\n",
              "    return next.value.response;\n",
              "  });\n",
              "}\n",
              "\n",
              "/**\n",
              " * Generator function which is called between each async step of the upload\n",
              " * process.\n",
              " * @param {string} inputId Element ID of the input file picker element.\n",
              " * @param {string} outputId Element ID of the output display.\n",
              " * @return {!Iterable<!Object>} Iterable of next steps.\n",
              " */\n",
              "function* uploadFilesStep(inputId, outputId) {\n",
              "  const inputElement = document.getElementById(inputId);\n",
              "  inputElement.disabled = false;\n",
              "\n",
              "  const outputElement = document.getElementById(outputId);\n",
              "  outputElement.innerHTML = '';\n",
              "\n",
              "  const pickedPromise = new Promise((resolve) => {\n",
              "    inputElement.addEventListener('change', (e) => {\n",
              "      resolve(e.target.files);\n",
              "    });\n",
              "  });\n",
              "\n",
              "  const cancel = document.createElement('button');\n",
              "  inputElement.parentElement.appendChild(cancel);\n",
              "  cancel.textContent = 'Cancel upload';\n",
              "  const cancelPromise = new Promise((resolve) => {\n",
              "    cancel.onclick = () => {\n",
              "      resolve(null);\n",
              "    };\n",
              "  });\n",
              "\n",
              "  // Wait for the user to pick the files.\n",
              "  const files = yield {\n",
              "    promise: Promise.race([pickedPromise, cancelPromise]),\n",
              "    response: {\n",
              "      action: 'starting',\n",
              "    }\n",
              "  };\n",
              "\n",
              "  cancel.remove();\n",
              "\n",
              "  // Disable the input element since further picks are not allowed.\n",
              "  inputElement.disabled = true;\n",
              "\n",
              "  if (!files) {\n",
              "    return {\n",
              "      response: {\n",
              "        action: 'complete',\n",
              "      }\n",
              "    };\n",
              "  }\n",
              "\n",
              "  for (const file of files) {\n",
              "    const li = document.createElement('li');\n",
              "    li.append(span(file.name, {fontWeight: 'bold'}));\n",
              "    li.append(span(\n",
              "        `(${file.type || 'n/a'}) - ${file.size} bytes, ` +\n",
              "        `last modified: ${\n",
              "            file.lastModifiedDate ? file.lastModifiedDate.toLocaleDateString() :\n",
              "                                    'n/a'} - `));\n",
              "    const percent = span('0% done');\n",
              "    li.appendChild(percent);\n",
              "\n",
              "    outputElement.appendChild(li);\n",
              "\n",
              "    const fileDataPromise = new Promise((resolve) => {\n",
              "      const reader = new FileReader();\n",
              "      reader.onload = (e) => {\n",
              "        resolve(e.target.result);\n",
              "      };\n",
              "      reader.readAsArrayBuffer(file);\n",
              "    });\n",
              "    // Wait for the data to be ready.\n",
              "    let fileData = yield {\n",
              "      promise: fileDataPromise,\n",
              "      response: {\n",
              "        action: 'continue',\n",
              "      }\n",
              "    };\n",
              "\n",
              "    // Use a chunked sending to avoid message size limits. See b/62115660.\n",
              "    let position = 0;\n",
              "    do {\n",
              "      const length = Math.min(fileData.byteLength - position, MAX_PAYLOAD_SIZE);\n",
              "      const chunk = new Uint8Array(fileData, position, length);\n",
              "      position += length;\n",
              "\n",
              "      const base64 = btoa(String.fromCharCode.apply(null, chunk));\n",
              "      yield {\n",
              "        response: {\n",
              "          action: 'append',\n",
              "          file: file.name,\n",
              "          data: base64,\n",
              "        },\n",
              "      };\n",
              "\n",
              "      let percentDone = fileData.byteLength === 0 ?\n",
              "          100 :\n",
              "          Math.round((position / fileData.byteLength) * 100);\n",
              "      percent.textContent = `${percentDone}% done`;\n",
              "\n",
              "    } while (position < fileData.byteLength);\n",
              "  }\n",
              "\n",
              "  // All done.\n",
              "  yield {\n",
              "    response: {\n",
              "      action: 'complete',\n",
              "    }\n",
              "  };\n",
              "}\n",
              "\n",
              "scope.google = scope.google || {};\n",
              "scope.google.colab = scope.google.colab || {};\n",
              "scope.google.colab._files = {\n",
              "  _uploadFiles,\n",
              "  _uploadFilesContinue,\n",
              "};\n",
              "})(self);\n",
              "</script> "
            ],
            "text/plain": [
              "<IPython.core.display.HTML object>"
            ]
          },
          "metadata": {},
          "output_type": "display_data"
        },
        {
          "ename": "TypeError",
          "evalue": "ignored",
          "output_type": "error",
          "traceback": [
            "\u001b[0;31m---------------------------------------------------------------------------\u001b[0m",
            "\u001b[0;31mTypeError\u001b[0m                                 Traceback (most recent call last)",
            "\u001b[0;32m<ipython-input-2-21dc3c638f66>\u001b[0m in \u001b[0;36m<cell line: 2>\u001b[0;34m()\u001b[0m\n\u001b[1;32m      1\u001b[0m \u001b[0;32mfrom\u001b[0m \u001b[0mgoogle\u001b[0m\u001b[0;34m.\u001b[0m\u001b[0mcolab\u001b[0m \u001b[0;32mimport\u001b[0m \u001b[0mfiles\u001b[0m\u001b[0;34m\u001b[0m\u001b[0;34m\u001b[0m\u001b[0m\n\u001b[0;32m----> 2\u001b[0;31m \u001b[0muploaded\u001b[0m \u001b[0;34m=\u001b[0m \u001b[0mfiles\u001b[0m\u001b[0;34m.\u001b[0m\u001b[0mupload\u001b[0m\u001b[0;34m(\u001b[0m\u001b[0;34m)\u001b[0m\u001b[0;34m\u001b[0m\u001b[0;34m\u001b[0m\u001b[0m\n\u001b[0m",
            "\u001b[0;32m/usr/local/lib/python3.10/dist-packages/google/colab/files.py\u001b[0m in \u001b[0;36mupload\u001b[0;34m()\u001b[0m\n\u001b[1;32m     67\u001b[0m   \"\"\"\n\u001b[1;32m     68\u001b[0m \u001b[0;34m\u001b[0m\u001b[0m\n\u001b[0;32m---> 69\u001b[0;31m   \u001b[0muploaded_files\u001b[0m \u001b[0;34m=\u001b[0m \u001b[0m_upload_files\u001b[0m\u001b[0;34m(\u001b[0m\u001b[0mmultiple\u001b[0m\u001b[0;34m=\u001b[0m\u001b[0;32mTrue\u001b[0m\u001b[0;34m)\u001b[0m\u001b[0;34m\u001b[0m\u001b[0;34m\u001b[0m\u001b[0m\n\u001b[0m\u001b[1;32m     70\u001b[0m   \u001b[0;31m# Mapping from original filename to filename as saved locally.\u001b[0m\u001b[0;34m\u001b[0m\u001b[0;34m\u001b[0m\u001b[0m\n\u001b[1;32m     71\u001b[0m   \u001b[0mlocal_filenames\u001b[0m \u001b[0;34m=\u001b[0m \u001b[0mdict\u001b[0m\u001b[0;34m(\u001b[0m\u001b[0;34m)\u001b[0m\u001b[0;34m\u001b[0m\u001b[0;34m\u001b[0m\u001b[0m\n",
            "\u001b[0;32m/usr/local/lib/python3.10/dist-packages/google/colab/files.py\u001b[0m in \u001b[0;36m_upload_files\u001b[0;34m(multiple)\u001b[0m\n\u001b[1;32m    158\u001b[0m   \u001b[0mfiles\u001b[0m \u001b[0;34m=\u001b[0m \u001b[0m_collections\u001b[0m\u001b[0;34m.\u001b[0m\u001b[0mdefaultdict\u001b[0m\u001b[0;34m(\u001b[0m\u001b[0mbytes\u001b[0m\u001b[0;34m)\u001b[0m\u001b[0;34m\u001b[0m\u001b[0;34m\u001b[0m\u001b[0m\n\u001b[1;32m    159\u001b[0m \u001b[0;34m\u001b[0m\u001b[0m\n\u001b[0;32m--> 160\u001b[0;31m   \u001b[0;32mwhile\u001b[0m \u001b[0mresult\u001b[0m\u001b[0;34m[\u001b[0m\u001b[0;34m'action'\u001b[0m\u001b[0;34m]\u001b[0m \u001b[0;34m!=\u001b[0m \u001b[0;34m'complete'\u001b[0m\u001b[0;34m:\u001b[0m\u001b[0;34m\u001b[0m\u001b[0;34m\u001b[0m\u001b[0m\n\u001b[0m\u001b[1;32m    161\u001b[0m     result = _output.eval_js(\n\u001b[1;32m    162\u001b[0m         'google.colab._files._uploadFilesContinue(\"{output_id}\")'.format(\n",
            "\u001b[0;31mTypeError\u001b[0m: 'NoneType' object is not subscriptable"
          ]
        }
      ],
      "source": [
        "from google.colab import files\n",
        "uploaded = files.upload()"
      ]
    },
    {
      "cell_type": "code",
      "execution_count": null,
      "metadata": {
        "colab": {
          "base_uri": "https://localhost:8080/",
          "height": 1000
        },
        "id": "IeXBDR42zl73",
        "outputId": "cd283c94-8e36-40aa-ac72-e0adc8276df8"
      },
      "outputs": [
        {
          "data": {
            "text/html": [
              "\n",
              "  <div id=\"df-6320a563-6723-420b-9b2e-3aa8105291ef\">\n",
              "    <div class=\"colab-df-container\">\n",
              "      <div>\n",
              "<style scoped>\n",
              "    .dataframe tbody tr th:only-of-type {\n",
              "        vertical-align: middle;\n",
              "    }\n",
              "\n",
              "    .dataframe tbody tr th {\n",
              "        vertical-align: top;\n",
              "    }\n",
              "\n",
              "    .dataframe thead th {\n",
              "        text-align: right;\n",
              "    }\n",
              "</style>\n",
              "<table border=\"1\" class=\"dataframe\">\n",
              "  <thead>\n",
              "    <tr style=\"text-align: right;\">\n",
              "      <th></th>\n",
              "      <th>text</th>\n",
              "      <th>label</th>\n",
              "      <th>clean_text</th>\n",
              "    </tr>\n",
              "  </thead>\n",
              "  <tbody>\n",
              "    <tr>\n",
              "      <th>0</th>\n",
              "      <td>\\n \\n \\n \\n \\n &lt;B&gt;CC:&lt;/B&gt; Difficulty with word finding.\\n \\n &lt;B&gt;HX: &lt;/B&gt;This 27y/o RHF experienced sudden onset word finding difficulty and slurred speech on the evening of 2/19/96. She denied any...</td>\n",
              "      <td>Neurology</td>\n",
              "      <td>difficulty word find . rhf experience sudden onset word find difficulty slurred speech evening 2/19/96 . deny associate dysphagia , diplopia , numbness weakness extremity . go sleep symptom 2/19/9...</td>\n",
              "    </tr>\n",
              "    <tr>\n",
              "      <th>1</th>\n",
              "      <td>\\n \\n \\n \\n \\n &lt;B&gt;PREOPERATIVE DIAGNOSIS: &lt;/B&gt; Ganglion of the left wrist.\\n \\n &lt;B&gt;POSTOPERATIVE DIAGNOSIS: &lt;/B&gt; Ganglion of the left wrist.\\n \\n &lt;B&gt;OPERATION: &lt;/B&gt; Excision of ganglion.\\n \\n &lt;B&gt;A...</td>\n",
              "      <td>Orthopedic</td>\n",
              "      <td>preoperative ganglion left wrist . postoperative ganglion left wrist . excision ganglion . general . estimate blood less 5 ml . successful anesthetic , patient position operating table . tournique...</td>\n",
              "    </tr>\n",
              "    <tr>\n",
              "      <th>2</th>\n",
              "      <td>\\n \\n \\n \\n \\n &lt;B&gt;PREOPERATIVE DIAGNOSIS: &lt;/B&gt; Cervical myelopathy, C3-4, secondary to stenosis from herniated nucleus pulposus, C3-4.\\n \\n &lt;B&gt;POSTOPERATIVE DIAGNOSES: &lt;/B&gt; Cervical myelopathy, C3...</td>\n",
              "      <td>Orthopedic</td>\n",
              "      <td>preoperative cervical myelopathy , c3 - 4 , secondary stenosis herniated nucleus pulposus , c3 - 4 . postoperative cervical myelopathy , c3 - 4 , secondary stenosis herniated nucleus pulposus , c3...</td>\n",
              "    </tr>\n",
              "    <tr>\n",
              "      <th>3</th>\n",
              "      <td>\\n \\n \\n \\n \\n &lt;B&gt;EXAM:&lt;/B&gt;MRI LEFT SHOULDER\\n \\n &lt;B&gt;CLINICAL:&lt;/B&gt;This is a 69-year-old male with pain in the shoulder. Evaluate for rotator cuff tear.\\n \\n &lt;B&gt;FINDINGS:&lt;/B&gt;\\n \\n Examination was p...</td>\n",
              "      <td>Radiology</td>\n",
              "      <td>mri leave shoulder 69-year - old male pain shoulder . evaluate rotator cuff tear . examination perform 9/1/05 . mark supraspinatus tendinosis extensive tearing substance tendon articular surface ,...</td>\n",
              "    </tr>\n",
              "    <tr>\n",
              "      <th>4</th>\n",
              "      <td>\\n \\n \\n \\n \\n &lt;B&gt;HISTORY OF PRESENT ILLNESS: &lt;/B&gt; The patient is a 57-year-old female being seen today for evaluation of pain and symptoms related to a recurrent bunion deformity in bilateral fee...</td>\n",
              "      <td>Orthopedic</td>\n",
              "      <td>history present patient 57-year - old female see today evaluation pain symptom relate recurrent bunion deformity bilateral foot , great leave . patient state increase symptom pain discomfort assoc...</td>\n",
              "    </tr>\n",
              "    <tr>\n",
              "      <th>...</th>\n",
              "      <td>...</td>\n",
              "      <td>...</td>\n",
              "      <td>...</td>\n",
              "    </tr>\n",
              "    <tr>\n",
              "      <th>813</th>\n",
              "      <td>\\n \\n \\n \\n \\n &lt;B&gt;EXAM: &lt;/B&gt; CT chest with contrast.\\n \\n &lt;B&gt;HISTORY: &lt;/B&gt; Abnormal chest x-ray, which demonstrated a region of consolidation versus mass in the right upper lobe.\\n \\n &lt;B&gt;TECHNIQUE...</td>\n",
              "      <td>Radiology</td>\n",
              "      <td>ct chest contrast . abnormal chest x - ray , demonstrate region consolidation mass right upper lobe . post contrast - enhance spiral image obtain chest . several , discrete , patchy air - space op...</td>\n",
              "    </tr>\n",
              "    <tr>\n",
              "      <th>814</th>\n",
              "      <td>\\n \\n \\n \\n \\n &lt;B&gt;CC:&lt;/B&gt; Episodic mental status change and RUE numbness, and chorea (found on exam).\\n \\n &lt;B&gt;HX:&lt;/B&gt; This 78y/o RHM was referred for an episode of unusual behavior and RUE numbnes...</td>\n",
              "      <td>Radiology</td>\n",
              "      <td>episodic mental status change numbness , chorea find exam . 78y rhm refer episode unusual behavior numbness . 9/91 , experience loss consciousness , generalize weakness , headache vomiting . evalu...</td>\n",
              "    </tr>\n",
              "    <tr>\n",
              "      <th>815</th>\n",
              "      <td>\\n \\n \\n \\n \\n &lt;B&gt;PROCEDURE IN DETAIL: &lt;/B&gt; Following premedication with Vistaril 50 mg and Atropine 0.4 mg IM, the patient received Versed 5.0 mg intravenously after Cetacaine spray to the poster...</td>\n",
              "      <td>Gastroenterology</td>\n",
              "      <td>procedure follow premedication vistaril 50 mg atropine 0.4 mg , patient receive versed 5.0 mg cetacaine spray posterior palate . olympus video gastroscope introduce upper esophagus pass direct vis...</td>\n",
              "    </tr>\n",
              "    <tr>\n",
              "      <th>816</th>\n",
              "      <td>\\n \\n \\n \\n \\n &lt;B&gt;REASON FOR VISIT: &lt;/B&gt; Overactive bladder with microscopic hematuria.\\n \\n &lt;B&gt;HISTORY OF PRESENT ILLNESS: &lt;/B&gt; The patient is a 56-year-old noted to have microscopic hematuria wi...</td>\n",
              "      <td>Urology</td>\n",
              "      <td>reason overactive bladder microscopic hematuria . history present patient 56-year - old note microscopic hematuria overactive bladder . cystoscopy perform unremarkable . continue episode frequency...</td>\n",
              "    </tr>\n",
              "    <tr>\n",
              "      <th>817</th>\n",
              "      <td>\\n \\n \\n \\n \\n &lt;B&gt;HISTORY:&lt;/B&gt;  The patient is a 46-year-old right-handed gentleman with a past medical history of a left L5-S1 lumbar microdiskectomy in 1998 with complete resolution of left leg ...</td>\n",
              "      <td>Neurology</td>\n",
              "      <td>patient 46-year - old right - handed gentleman medical history left l5-s1 lumbar microdiskectomy 1998 complete resolution left leg symptom , present four - month history gradual onset right - side...</td>\n",
              "    </tr>\n",
              "  </tbody>\n",
              "</table>\n",
              "<p>818 rows × 3 columns</p>\n",
              "</div>\n",
              "      <button class=\"colab-df-convert\" onclick=\"convertToInteractive('df-6320a563-6723-420b-9b2e-3aa8105291ef')\"\n",
              "              title=\"Convert this dataframe to an interactive table.\"\n",
              "              style=\"display:none;\">\n",
              "        \n",
              "  <svg xmlns=\"http://www.w3.org/2000/svg\" height=\"24px\"viewBox=\"0 0 24 24\"\n",
              "       width=\"24px\">\n",
              "    <path d=\"M0 0h24v24H0V0z\" fill=\"none\"/>\n",
              "    <path d=\"M18.56 5.44l.94 2.06.94-2.06 2.06-.94-2.06-.94-.94-2.06-.94 2.06-2.06.94zm-11 1L8.5 8.5l.94-2.06 2.06-.94-2.06-.94L8.5 2.5l-.94 2.06-2.06.94zm10 10l.94 2.06.94-2.06 2.06-.94-2.06-.94-.94-2.06-.94 2.06-2.06.94z\"/><path d=\"M17.41 7.96l-1.37-1.37c-.4-.4-.92-.59-1.43-.59-.52 0-1.04.2-1.43.59L10.3 9.45l-7.72 7.72c-.78.78-.78 2.05 0 2.83L4 21.41c.39.39.9.59 1.41.59.51 0 1.02-.2 1.41-.59l7.78-7.78 2.81-2.81c.8-.78.8-2.07 0-2.86zM5.41 20L4 18.59l7.72-7.72 1.47 1.35L5.41 20z\"/>\n",
              "  </svg>\n",
              "      </button>\n",
              "      \n",
              "  <style>\n",
              "    .colab-df-container {\n",
              "      display:flex;\n",
              "      flex-wrap:wrap;\n",
              "      gap: 12px;\n",
              "    }\n",
              "\n",
              "    .colab-df-convert {\n",
              "      background-color: #E8F0FE;\n",
              "      border: none;\n",
              "      border-radius: 50%;\n",
              "      cursor: pointer;\n",
              "      display: none;\n",
              "      fill: #1967D2;\n",
              "      height: 32px;\n",
              "      padding: 0 0 0 0;\n",
              "      width: 32px;\n",
              "    }\n",
              "\n",
              "    .colab-df-convert:hover {\n",
              "      background-color: #E2EBFA;\n",
              "      box-shadow: 0px 1px 2px rgba(60, 64, 67, 0.3), 0px 1px 3px 1px rgba(60, 64, 67, 0.15);\n",
              "      fill: #174EA6;\n",
              "    }\n",
              "\n",
              "    [theme=dark] .colab-df-convert {\n",
              "      background-color: #3B4455;\n",
              "      fill: #D2E3FC;\n",
              "    }\n",
              "\n",
              "    [theme=dark] .colab-df-convert:hover {\n",
              "      background-color: #434B5C;\n",
              "      box-shadow: 0px 1px 3px 1px rgba(0, 0, 0, 0.15);\n",
              "      filter: drop-shadow(0px 1px 2px rgba(0, 0, 0, 0.3));\n",
              "      fill: #FFFFFF;\n",
              "    }\n",
              "  </style>\n",
              "\n",
              "      <script>\n",
              "        const buttonEl =\n",
              "          document.querySelector('#df-6320a563-6723-420b-9b2e-3aa8105291ef button.colab-df-convert');\n",
              "        buttonEl.style.display =\n",
              "          google.colab.kernel.accessAllowed ? 'block' : 'none';\n",
              "\n",
              "        async function convertToInteractive(key) {\n",
              "          const element = document.querySelector('#df-6320a563-6723-420b-9b2e-3aa8105291ef');\n",
              "          const dataTable =\n",
              "            await google.colab.kernel.invokeFunction('convertToInteractive',\n",
              "                                                     [key], {});\n",
              "          if (!dataTable) return;\n",
              "\n",
              "          const docLinkHtml = 'Like what you see? Visit the ' +\n",
              "            '<a target=\"_blank\" href=https://colab.research.google.com/notebooks/data_table.ipynb>data table notebook</a>'\n",
              "            + ' to learn more about interactive tables.';\n",
              "          element.innerHTML = '';\n",
              "          dataTable['output_type'] = 'display_data';\n",
              "          await google.colab.output.renderOutput(dataTable, element);\n",
              "          const docLink = document.createElement('div');\n",
              "          docLink.innerHTML = docLinkHtml;\n",
              "          element.appendChild(docLink);\n",
              "        }\n",
              "      </script>\n",
              "    </div>\n",
              "  </div>\n",
              "  "
            ],
            "text/plain": [
              "                                                                                                                                                                                                        text  \\\n",
              "0    \\n \\n \\n \\n \\n <B>CC:</B> Difficulty with word finding.\\n \\n <B>HX: </B>This 27y/o RHF experienced sudden onset word finding difficulty and slurred speech on the evening of 2/19/96. She denied any...   \n",
              "1    \\n \\n \\n \\n \\n <B>PREOPERATIVE DIAGNOSIS: </B> Ganglion of the left wrist.\\n \\n <B>POSTOPERATIVE DIAGNOSIS: </B> Ganglion of the left wrist.\\n \\n <B>OPERATION: </B> Excision of ganglion.\\n \\n <B>A...   \n",
              "2    \\n \\n \\n \\n \\n <B>PREOPERATIVE DIAGNOSIS: </B> Cervical myelopathy, C3-4, secondary to stenosis from herniated nucleus pulposus, C3-4.\\n \\n <B>POSTOPERATIVE DIAGNOSES: </B> Cervical myelopathy, C3...   \n",
              "3    \\n \\n \\n \\n \\n <B>EXAM:</B>MRI LEFT SHOULDER\\n \\n <B>CLINICAL:</B>This is a 69-year-old male with pain in the shoulder. Evaluate for rotator cuff tear.\\n \\n <B>FINDINGS:</B>\\n \\n Examination was p...   \n",
              "4    \\n \\n \\n \\n \\n <B>HISTORY OF PRESENT ILLNESS: </B> The patient is a 57-year-old female being seen today for evaluation of pain and symptoms related to a recurrent bunion deformity in bilateral fee...   \n",
              "..                                                                                                                                                                                                       ...   \n",
              "813  \\n \\n \\n \\n \\n <B>EXAM: </B> CT chest with contrast.\\n \\n <B>HISTORY: </B> Abnormal chest x-ray, which demonstrated a region of consolidation versus mass in the right upper lobe.\\n \\n <B>TECHNIQUE...   \n",
              "814  \\n \\n \\n \\n \\n <B>CC:</B> Episodic mental status change and RUE numbness, and chorea (found on exam).\\n \\n <B>HX:</B> This 78y/o RHM was referred for an episode of unusual behavior and RUE numbnes...   \n",
              "815  \\n \\n \\n \\n \\n <B>PROCEDURE IN DETAIL: </B> Following premedication with Vistaril 50 mg and Atropine 0.4 mg IM, the patient received Versed 5.0 mg intravenously after Cetacaine spray to the poster...   \n",
              "816  \\n \\n \\n \\n \\n <B>REASON FOR VISIT: </B> Overactive bladder with microscopic hematuria.\\n \\n <B>HISTORY OF PRESENT ILLNESS: </B> The patient is a 56-year-old noted to have microscopic hematuria wi...   \n",
              "817  \\n \\n \\n \\n \\n <B>HISTORY:</B>  The patient is a 46-year-old right-handed gentleman with a past medical history of a left L5-S1 lumbar microdiskectomy in 1998 with complete resolution of left leg ...   \n",
              "\n",
              "                label  \\\n",
              "0           Neurology   \n",
              "1          Orthopedic   \n",
              "2          Orthopedic   \n",
              "3           Radiology   \n",
              "4          Orthopedic   \n",
              "..                ...   \n",
              "813         Radiology   \n",
              "814         Radiology   \n",
              "815  Gastroenterology   \n",
              "816           Urology   \n",
              "817         Neurology   \n",
              "\n",
              "                                                                                                                                                                                                  clean_text  \n",
              "0    difficulty word find . rhf experience sudden onset word find difficulty slurred speech evening 2/19/96 . deny associate dysphagia , diplopia , numbness weakness extremity . go sleep symptom 2/19/9...  \n",
              "1    preoperative ganglion left wrist . postoperative ganglion left wrist . excision ganglion . general . estimate blood less 5 ml . successful anesthetic , patient position operating table . tournique...  \n",
              "2    preoperative cervical myelopathy , c3 - 4 , secondary stenosis herniated nucleus pulposus , c3 - 4 . postoperative cervical myelopathy , c3 - 4 , secondary stenosis herniated nucleus pulposus , c3...  \n",
              "3    mri leave shoulder 69-year - old male pain shoulder . evaluate rotator cuff tear . examination perform 9/1/05 . mark supraspinatus tendinosis extensive tearing substance tendon articular surface ,...  \n",
              "4    history present patient 57-year - old female see today evaluation pain symptom relate recurrent bunion deformity bilateral foot , great leave . patient state increase symptom pain discomfort assoc...  \n",
              "..                                                                                                                                                                                                       ...  \n",
              "813  ct chest contrast . abnormal chest x - ray , demonstrate region consolidation mass right upper lobe . post contrast - enhance spiral image obtain chest . several , discrete , patchy air - space op...  \n",
              "814  episodic mental status change numbness , chorea find exam . 78y rhm refer episode unusual behavior numbness . 9/91 , experience loss consciousness , generalize weakness , headache vomiting . evalu...  \n",
              "815  procedure follow premedication vistaril 50 mg atropine 0.4 mg , patient receive versed 5.0 mg cetacaine spray posterior palate . olympus video gastroscope introduce upper esophagus pass direct vis...  \n",
              "816  reason overactive bladder microscopic hematuria . history present patient 56-year - old note microscopic hematuria overactive bladder . cystoscopy perform unremarkable . continue episode frequency...  \n",
              "817  patient 46-year - old right - handed gentleman medical history left l5-s1 lumbar microdiskectomy 1998 complete resolution left leg symptom , present four - month history gradual onset right - side...  \n",
              "\n",
              "[818 rows x 3 columns]"
            ]
          },
          "execution_count": 3,
          "metadata": {},
          "output_type": "execute_result"
        }
      ],
      "source": [
        "import io\n",
        "df = pd.read_csv(io.StringIO(uploaded['Cleaned_POS_Medical_Notes.csv'].decode('utf-8')))\n",
        "# io.StringIO, ngubah semua character yang ada di filenya menjadi string jadi data ini text-only data\n",
        "# decode('utf-8') ini buat decoder kode universal untuk internasionalisasi dan mampu mengodekan seluruh set karakter Unicode\n",
        "df"
      ]
    },
    {
      "cell_type": "code",
      "execution_count": null,
      "metadata": {
        "colab": {
          "base_uri": "https://localhost:8080/"
        },
        "id": "y3jzPTNk0gZm",
        "outputId": "b0cca274-6d70-475c-8f81-d4facfb405a4"
      },
      "outputs": [
        {
          "data": {
            "text/plain": [
              "Index(['text', 'label', 'clean_text'], dtype='object')"
            ]
          },
          "execution_count": 4,
          "metadata": {},
          "output_type": "execute_result"
        }
      ],
      "source": [
        "df.columns # check field"
      ]
    },
    {
      "cell_type": "code",
      "execution_count": null,
      "metadata": {
        "colab": {
          "base_uri": "https://localhost:8080/",
          "height": 597
        },
        "id": "4UWHeiEu0kxn",
        "outputId": "c7c71ab7-8739-40e7-e559-a78cf2bd149f"
      },
      "outputs": [
        {
          "data": {
            "text/html": [
              "\n",
              "  <div id=\"df-eea09959-e3b8-49cb-b8b7-556528cb9928\">\n",
              "    <div class=\"colab-df-container\">\n",
              "      <div>\n",
              "<style scoped>\n",
              "    .dataframe tbody tr th:only-of-type {\n",
              "        vertical-align: middle;\n",
              "    }\n",
              "\n",
              "    .dataframe tbody tr th {\n",
              "        vertical-align: top;\n",
              "    }\n",
              "\n",
              "    .dataframe thead th {\n",
              "        text-align: right;\n",
              "    }\n",
              "</style>\n",
              "<table border=\"1\" class=\"dataframe\">\n",
              "  <thead>\n",
              "    <tr style=\"text-align: right;\">\n",
              "      <th></th>\n",
              "      <th>text</th>\n",
              "      <th>label</th>\n",
              "      <th>clean_text</th>\n",
              "    </tr>\n",
              "  </thead>\n",
              "  <tbody>\n",
              "    <tr>\n",
              "      <th>0</th>\n",
              "      <td>\\n \\n \\n \\n \\n &lt;B&gt;CC:&lt;/B&gt; Difficulty with word finding.\\n \\n &lt;B&gt;HX: &lt;/B&gt;This 27y/o RHF experienced sudden onset word finding difficulty and slurred speech on the evening of 2/19/96. She denied any...</td>\n",
              "      <td>Neurology</td>\n",
              "      <td>difficulty word find . rhf experience sudden onset word find difficulty slurred speech evening 2/19/96 . deny associate dysphagia , diplopia , numbness weakness extremity . go sleep symptom 2/19/9...</td>\n",
              "    </tr>\n",
              "    <tr>\n",
              "      <th>1</th>\n",
              "      <td>\\n \\n \\n \\n \\n &lt;B&gt;PREOPERATIVE DIAGNOSIS: &lt;/B&gt; Ganglion of the left wrist.\\n \\n &lt;B&gt;POSTOPERATIVE DIAGNOSIS: &lt;/B&gt; Ganglion of the left wrist.\\n \\n &lt;B&gt;OPERATION: &lt;/B&gt; Excision of ganglion.\\n \\n &lt;B&gt;A...</td>\n",
              "      <td>Orthopedic</td>\n",
              "      <td>preoperative ganglion left wrist . postoperative ganglion left wrist . excision ganglion . general . estimate blood less 5 ml . successful anesthetic , patient position operating table . tournique...</td>\n",
              "    </tr>\n",
              "    <tr>\n",
              "      <th>2</th>\n",
              "      <td>\\n \\n \\n \\n \\n &lt;B&gt;PREOPERATIVE DIAGNOSIS: &lt;/B&gt; Cervical myelopathy, C3-4, secondary to stenosis from herniated nucleus pulposus, C3-4.\\n \\n &lt;B&gt;POSTOPERATIVE DIAGNOSES: &lt;/B&gt; Cervical myelopathy, C3...</td>\n",
              "      <td>Orthopedic</td>\n",
              "      <td>preoperative cervical myelopathy , c3 - 4 , secondary stenosis herniated nucleus pulposus , c3 - 4 . postoperative cervical myelopathy , c3 - 4 , secondary stenosis herniated nucleus pulposus , c3...</td>\n",
              "    </tr>\n",
              "    <tr>\n",
              "      <th>3</th>\n",
              "      <td>\\n \\n \\n \\n \\n &lt;B&gt;EXAM:&lt;/B&gt;MRI LEFT SHOULDER\\n \\n &lt;B&gt;CLINICAL:&lt;/B&gt;This is a 69-year-old male with pain in the shoulder. Evaluate for rotator cuff tear.\\n \\n &lt;B&gt;FINDINGS:&lt;/B&gt;\\n \\n Examination was p...</td>\n",
              "      <td>Radiology</td>\n",
              "      <td>mri leave shoulder 69-year - old male pain shoulder . evaluate rotator cuff tear . examination perform 9/1/05 . mark supraspinatus tendinosis extensive tearing substance tendon articular surface ,...</td>\n",
              "    </tr>\n",
              "    <tr>\n",
              "      <th>4</th>\n",
              "      <td>\\n \\n \\n \\n \\n &lt;B&gt;HISTORY OF PRESENT ILLNESS: &lt;/B&gt; The patient is a 57-year-old female being seen today for evaluation of pain and symptoms related to a recurrent bunion deformity in bilateral fee...</td>\n",
              "      <td>Orthopedic</td>\n",
              "      <td>history present patient 57-year - old female see today evaluation pain symptom relate recurrent bunion deformity bilateral foot , great leave . patient state increase symptom pain discomfort assoc...</td>\n",
              "    </tr>\n",
              "  </tbody>\n",
              "</table>\n",
              "</div>\n",
              "      <button class=\"colab-df-convert\" onclick=\"convertToInteractive('df-eea09959-e3b8-49cb-b8b7-556528cb9928')\"\n",
              "              title=\"Convert this dataframe to an interactive table.\"\n",
              "              style=\"display:none;\">\n",
              "        \n",
              "  <svg xmlns=\"http://www.w3.org/2000/svg\" height=\"24px\"viewBox=\"0 0 24 24\"\n",
              "       width=\"24px\">\n",
              "    <path d=\"M0 0h24v24H0V0z\" fill=\"none\"/>\n",
              "    <path d=\"M18.56 5.44l.94 2.06.94-2.06 2.06-.94-2.06-.94-.94-2.06-.94 2.06-2.06.94zm-11 1L8.5 8.5l.94-2.06 2.06-.94-2.06-.94L8.5 2.5l-.94 2.06-2.06.94zm10 10l.94 2.06.94-2.06 2.06-.94-2.06-.94-.94-2.06-.94 2.06-2.06.94z\"/><path d=\"M17.41 7.96l-1.37-1.37c-.4-.4-.92-.59-1.43-.59-.52 0-1.04.2-1.43.59L10.3 9.45l-7.72 7.72c-.78.78-.78 2.05 0 2.83L4 21.41c.39.39.9.59 1.41.59.51 0 1.02-.2 1.41-.59l7.78-7.78 2.81-2.81c.8-.78.8-2.07 0-2.86zM5.41 20L4 18.59l7.72-7.72 1.47 1.35L5.41 20z\"/>\n",
              "  </svg>\n",
              "      </button>\n",
              "      \n",
              "  <style>\n",
              "    .colab-df-container {\n",
              "      display:flex;\n",
              "      flex-wrap:wrap;\n",
              "      gap: 12px;\n",
              "    }\n",
              "\n",
              "    .colab-df-convert {\n",
              "      background-color: #E8F0FE;\n",
              "      border: none;\n",
              "      border-radius: 50%;\n",
              "      cursor: pointer;\n",
              "      display: none;\n",
              "      fill: #1967D2;\n",
              "      height: 32px;\n",
              "      padding: 0 0 0 0;\n",
              "      width: 32px;\n",
              "    }\n",
              "\n",
              "    .colab-df-convert:hover {\n",
              "      background-color: #E2EBFA;\n",
              "      box-shadow: 0px 1px 2px rgba(60, 64, 67, 0.3), 0px 1px 3px 1px rgba(60, 64, 67, 0.15);\n",
              "      fill: #174EA6;\n",
              "    }\n",
              "\n",
              "    [theme=dark] .colab-df-convert {\n",
              "      background-color: #3B4455;\n",
              "      fill: #D2E3FC;\n",
              "    }\n",
              "\n",
              "    [theme=dark] .colab-df-convert:hover {\n",
              "      background-color: #434B5C;\n",
              "      box-shadow: 0px 1px 3px 1px rgba(0, 0, 0, 0.15);\n",
              "      filter: drop-shadow(0px 1px 2px rgba(0, 0, 0, 0.3));\n",
              "      fill: #FFFFFF;\n",
              "    }\n",
              "  </style>\n",
              "\n",
              "      <script>\n",
              "        const buttonEl =\n",
              "          document.querySelector('#df-eea09959-e3b8-49cb-b8b7-556528cb9928 button.colab-df-convert');\n",
              "        buttonEl.style.display =\n",
              "          google.colab.kernel.accessAllowed ? 'block' : 'none';\n",
              "\n",
              "        async function convertToInteractive(key) {\n",
              "          const element = document.querySelector('#df-eea09959-e3b8-49cb-b8b7-556528cb9928');\n",
              "          const dataTable =\n",
              "            await google.colab.kernel.invokeFunction('convertToInteractive',\n",
              "                                                     [key], {});\n",
              "          if (!dataTable) return;\n",
              "\n",
              "          const docLinkHtml = 'Like what you see? Visit the ' +\n",
              "            '<a target=\"_blank\" href=https://colab.research.google.com/notebooks/data_table.ipynb>data table notebook</a>'\n",
              "            + ' to learn more about interactive tables.';\n",
              "          element.innerHTML = '';\n",
              "          dataTable['output_type'] = 'display_data';\n",
              "          await google.colab.output.renderOutput(dataTable, element);\n",
              "          const docLink = document.createElement('div');\n",
              "          docLink.innerHTML = docLinkHtml;\n",
              "          element.appendChild(docLink);\n",
              "        }\n",
              "      </script>\n",
              "    </div>\n",
              "  </div>\n",
              "  "
            ],
            "text/plain": [
              "                                                                                                                                                                                                      text  \\\n",
              "0  \\n \\n \\n \\n \\n <B>CC:</B> Difficulty with word finding.\\n \\n <B>HX: </B>This 27y/o RHF experienced sudden onset word finding difficulty and slurred speech on the evening of 2/19/96. She denied any...   \n",
              "1  \\n \\n \\n \\n \\n <B>PREOPERATIVE DIAGNOSIS: </B> Ganglion of the left wrist.\\n \\n <B>POSTOPERATIVE DIAGNOSIS: </B> Ganglion of the left wrist.\\n \\n <B>OPERATION: </B> Excision of ganglion.\\n \\n <B>A...   \n",
              "2  \\n \\n \\n \\n \\n <B>PREOPERATIVE DIAGNOSIS: </B> Cervical myelopathy, C3-4, secondary to stenosis from herniated nucleus pulposus, C3-4.\\n \\n <B>POSTOPERATIVE DIAGNOSES: </B> Cervical myelopathy, C3...   \n",
              "3  \\n \\n \\n \\n \\n <B>EXAM:</B>MRI LEFT SHOULDER\\n \\n <B>CLINICAL:</B>This is a 69-year-old male with pain in the shoulder. Evaluate for rotator cuff tear.\\n \\n <B>FINDINGS:</B>\\n \\n Examination was p...   \n",
              "4  \\n \\n \\n \\n \\n <B>HISTORY OF PRESENT ILLNESS: </B> The patient is a 57-year-old female being seen today for evaluation of pain and symptoms related to a recurrent bunion deformity in bilateral fee...   \n",
              "\n",
              "        label  \\\n",
              "0   Neurology   \n",
              "1  Orthopedic   \n",
              "2  Orthopedic   \n",
              "3   Radiology   \n",
              "4  Orthopedic   \n",
              "\n",
              "                                                                                                                                                                                                clean_text  \n",
              "0  difficulty word find . rhf experience sudden onset word find difficulty slurred speech evening 2/19/96 . deny associate dysphagia , diplopia , numbness weakness extremity . go sleep symptom 2/19/9...  \n",
              "1  preoperative ganglion left wrist . postoperative ganglion left wrist . excision ganglion . general . estimate blood less 5 ml . successful anesthetic , patient position operating table . tournique...  \n",
              "2  preoperative cervical myelopathy , c3 - 4 , secondary stenosis herniated nucleus pulposus , c3 - 4 . postoperative cervical myelopathy , c3 - 4 , secondary stenosis herniated nucleus pulposus , c3...  \n",
              "3  mri leave shoulder 69-year - old male pain shoulder . evaluate rotator cuff tear . examination perform 9/1/05 . mark supraspinatus tendinosis extensive tearing substance tendon articular surface ,...  \n",
              "4  history present patient 57-year - old female see today evaluation pain symptom relate recurrent bunion deformity bilateral foot , great leave . patient state increase symptom pain discomfort assoc...  "
            ]
          },
          "execution_count": 5,
          "metadata": {},
          "output_type": "execute_result"
        }
      ],
      "source": [
        "df.head(5) # check head data"
      ]
    },
    {
      "cell_type": "code",
      "execution_count": null,
      "metadata": {
        "colab": {
          "base_uri": "https://localhost:8080/"
        },
        "id": "ylxc_E9A1amQ",
        "outputId": "9a3a0e82-3d44-4927-f579-85998f61af2b"
      },
      "outputs": [
        {
          "data": {
            "text/plain": [
              "(818, 3)"
            ]
          },
          "execution_count": 6,
          "metadata": {},
          "output_type": "execute_result"
        }
      ],
      "source": [
        "df.shape # check total row + column"
      ]
    },
    {
      "cell_type": "markdown",
      "metadata": {
        "id": "6j4g9Qs01kDw"
      },
      "source": [
        "## Basic data cleaning\n",
        "Data teks yang berbentuk bahasa menghasilkan banyak keabu-abuan di dalamnya. Kita perlu membersihkan data terlebih dahulu untuk dapat mengetahui statistical/machine learning model yang tepat. beberapa dibawah ini adalah teknik yang digunakan :\n",
        "\n",
        "Using RegEx (regular expressions) untuk identifying text tidak relevan untuk dibuang.\n",
        "Standardizing/normalizing teks untuk - singkatan, dan ejaan yang salah seperti typo\n",
        "dan untuk social media data - membuang smileys emote, email ids jika tidak diperlukan"
      ]
    },
    {
      "cell_type": "code",
      "execution_count": null,
      "metadata": {
        "colab": {
          "base_uri": "https://localhost:8080/",
          "height": 200
        },
        "id": "hP-GIUAW1lWA",
        "outputId": "1b85d2f1-63c1-4261-bea1-adbac4ab6a21"
      },
      "outputs": [
        {
          "output_type": "error",
          "ename": "NameError",
          "evalue": "ignored",
          "traceback": [
            "\u001b[0;31m---------------------------------------------------------------------------\u001b[0m",
            "\u001b[0;31mNameError\u001b[0m                                 Traceback (most recent call last)",
            "\u001b[0;32m<ipython-input-1-351d0aabaf7a>\u001b[0m in \u001b[0;36m<cell line: 1>\u001b[0;34m()\u001b[0m\n\u001b[0;32m----> 1\u001b[0;31m \u001b[0msample_text\u001b[0m \u001b[0;34m=\u001b[0m \u001b[0mdf\u001b[0m\u001b[0;34m.\u001b[0m\u001b[0mtext\u001b[0m\u001b[0;34m.\u001b[0m\u001b[0miloc\u001b[0m\u001b[0;34m[\u001b[0m\u001b[0;36m3\u001b[0m\u001b[0;34m]\u001b[0m \u001b[0;31m# buat variable sample_text dengan bentuk text dari iloc = index location ke-3\u001b[0m\u001b[0;34m\u001b[0m\u001b[0;34m\u001b[0m\u001b[0m\n\u001b[0m\u001b[1;32m      2\u001b[0m \u001b[0mprint\u001b[0m\u001b[0;34m(\u001b[0m\u001b[0msample_text\u001b[0m\u001b[0;34m)\u001b[0m\u001b[0;34m\u001b[0m\u001b[0;34m\u001b[0m\u001b[0m\n\u001b[1;32m      3\u001b[0m \u001b[0;31m# dibawah ini isi text yang telah di decode dengan utf-8\u001b[0m\u001b[0;34m\u001b[0m\u001b[0;34m\u001b[0m\u001b[0m\n",
            "\u001b[0;31mNameError\u001b[0m: name 'df' is not defined"
          ]
        }
      ],
      "source": [
        "sample_text = df.text.iloc[3] # buat variable sample_text dengan bentuk text dari iloc = index location ke-3\n",
        "print(sample_text)\n",
        "# dibawah ini isi text yang telah di decode dengan utf-8"
      ]
    },
    {
      "cell_type": "code",
      "execution_count": null,
      "metadata": {
        "id": "DNTz5Nxy2EKp"
      },
      "outputs": [],
      "source": [
        "import re # re ini regular expression yang tadi di atas di jelasin\n",
        "def remove_html(text): #define variable fungsi remove html/html tag dalam bentuk dari variable apapun yang berbentuk text\n",
        "    text = text.replace(\"\\n\",\" \") #yang ini tiap ada baris baru pake /n di ganti pake spasi aja yang ada di var text\n",
        "    pattern = re.compile('<.*?>') #semua HTML tags\n",
        "    return pattern.sub(r'', text) #return"
      ]
    },
    {
      "cell_type": "code",
      "execution_count": null,
      "metadata": {
        "colab": {
          "base_uri": "https://localhost:8080/"
        },
        "id": "Yw6dSSFR2Kby",
        "outputId": "f6c3f016-055a-4bf9-e7bb-0ff6da11ee35"
      },
      "outputs": [
        {
          "name": "stdout",
          "output_type": "stream",
          "text": [
            "          EXAM:MRI LEFT SHOULDER    CLINICAL:This is a 69-year-old male with pain in the shoulder. Evaluate for rotator cuff tear.    FINDINGS:    Examination was performed on 9/1/05.    There is marked supraspinatus tendinosis and extensive tearing of the substance of the tendon and articular surface, extending into the myotendinous junction as well. There is still a small rim of tendon along the bursal surface, although there may be a small tear at the level of the rotator interval. There is no retracted tendon or muscular atrophy (series #6 images #6-17).    Normal infraspinatus tendon.    There is subscapularis tendinosis with fraying and partial tearing of the superior most fibers extending to the level of the rotator interval (series #9 images #8-13; series #3 images #8-14). There is no complete tear, gap or fiber retraction and there is no muscular atrophy.    There is tendinosis and superficial tearing of the long biceps tendon within the bicipital groove, and there is high grade (near complete) partial tearing of the intracapsular portion of the tendon. The biceps anchor is intact. There are degenerative changes in the greater tuberosity of the humerus but there is no fracture or subluxation.    There is degeneration of the superior labrum and there is a small nondisplaced tear in the posterior superior labrum at the one to two o’clock position (series #6 images #12-14; series #3 images #8-10; series #9 images #5-8). There is a small sublabral foramen at the eleven o’clock position (series #9 image #6). There is no osseous Bankart lesion.    Normal superior, middle and inferior glenohumeral ligaments.    There is hypertrophic osteoarthropathy of the acromioclavicular joint with narrowing of the subacromial space and flattening of the superior surface of the supraspinatus musculotendinous junction, which in the appropriate clinical setting is an MRI manifestation of an impinging lesion (series #8 images #3-12).    Normal coracoacromial, coracohumeral and coracoclavicular ligaments. There is minimal fluid within the glenohumeral joint. There is no atrophy of the deltoid muscle.    IMPRESSION:  There is extensive supraspinatus tendinosis and partial tearing as described. There is no retracted tendon or muscular atrophy, but there may be a small tear along the anterior edge of the tendon at the level of the rotator interval, and this associated partial tearing of the superior most fibers of the subscapularis tendon.  There is also a high-grade partial tear of the long biceps tendon as it courses under the transverse humeral ligament. There is no evidence of a complete tear or retracted tendon. Small nondisplaced posterior superior labral tear. Outlet narrowing from the acromioclavicular joint, which in the appropriate clinical setting is an MRI manifestation of an impinging lesion.               \n"
          ]
        }
      ],
      "source": [
        "sample_text_processed = remove_html(sample_text) #var baru jalanin fungsi dari var remove_html dengan parameter sample_text\n",
        "print(sample_text_processed)"
      ]
    },
    {
      "cell_type": "markdown",
      "metadata": {
        "id": "CehipjEy2U_r"
      },
      "source": [
        "Membuat fungsi untuk menghilangkan Heading"
      ]
    },
    {
      "cell_type": "code",
      "execution_count": null,
      "metadata": {
        "id": "vkAt7y1k2NFa"
      },
      "outputs": [],
      "source": [
        "def remove_headings(text):\n",
        "    pattern = re.compile('\\w+:')\n",
        "    return pattern.sub(r'', text)"
      ]
    },
    {
      "cell_type": "code",
      "execution_count": null,
      "metadata": {
        "colab": {
          "base_uri": "https://localhost:8080/"
        },
        "id": "k6mdk5Ql2VmV",
        "outputId": "72350162-56cf-414b-9c52-d76818391b3c"
      },
      "outputs": [
        {
          "name": "stdout",
          "output_type": "stream",
          "text": [
            "          MRI LEFT SHOULDER    This is a 69-year-old male with pain in the shoulder. Evaluate for rotator cuff tear.        Examination was performed on 9/1/05.    There is marked supraspinatus tendinosis and extensive tearing of the substance of the tendon and articular surface, extending into the myotendinous junction as well. There is still a small rim of tendon along the bursal surface, although there may be a small tear at the level of the rotator interval. There is no retracted tendon or muscular atrophy (series #6 images #6-17).    Normal infraspinatus tendon.    There is subscapularis tendinosis with fraying and partial tearing of the superior most fibers extending to the level of the rotator interval (series #9 images #8-13; series #3 images #8-14). There is no complete tear, gap or fiber retraction and there is no muscular atrophy.    There is tendinosis and superficial tearing of the long biceps tendon within the bicipital groove, and there is high grade (near complete) partial tearing of the intracapsular portion of the tendon. The biceps anchor is intact. There are degenerative changes in the greater tuberosity of the humerus but there is no fracture or subluxation.    There is degeneration of the superior labrum and there is a small nondisplaced tear in the posterior superior labrum at the one to two o’clock position (series #6 images #12-14; series #3 images #8-10; series #9 images #5-8). There is a small sublabral foramen at the eleven o’clock position (series #9 image #6). There is no osseous Bankart lesion.    Normal superior, middle and inferior glenohumeral ligaments.    There is hypertrophic osteoarthropathy of the acromioclavicular joint with narrowing of the subacromial space and flattening of the superior surface of the supraspinatus musculotendinous junction, which in the appropriate clinical setting is an MRI manifestation of an impinging lesion (series #8 images #3-12).    Normal coracoacromial, coracohumeral and coracoclavicular ligaments. There is minimal fluid within the glenohumeral joint. There is no atrophy of the deltoid muscle.      There is extensive supraspinatus tendinosis and partial tearing as described. There is no retracted tendon or muscular atrophy, but there may be a small tear along the anterior edge of the tendon at the level of the rotator interval, and this associated partial tearing of the superior most fibers of the subscapularis tendon.  There is also a high-grade partial tear of the long biceps tendon as it courses under the transverse humeral ligament. There is no evidence of a complete tear or retracted tendon. Small nondisplaced posterior superior labral tear. Outlet narrowing from the acromioclavicular joint, which in the appropriate clinical setting is an MRI manifestation of an impinging lesion.               \n"
          ]
        }
      ],
      "source": [
        "sample_text_processed = remove_headings(sample_text_processed)\n",
        "print (sample_text_processed)\n",
        "# liat EXAM : <~ ini adalah heading yang hilang dari contoh sebelumnya"
      ]
    },
    {
      "cell_type": "markdown",
      "metadata": {
        "id": "j-RUVBr_2gCI"
      },
      "source": [
        "Remove &quot marks dan character lain. mengganti double spasi dengan single"
      ]
    },
    {
      "cell_type": "code",
      "execution_count": null,
      "metadata": {
        "id": "tsMZwdSD2bnV"
      },
      "outputs": [],
      "source": [
        "def replace_mult_spaces(text):\n",
        "    text = text.replace(\"&quot\",\"\")\n",
        "    pattern = re.compile(' +')\n",
        "    text = pattern.sub(r' ', text)\n",
        "    text = text.strip()\n",
        "    return text\n",
        "\n",
        "def replace_other_chars(text):\n",
        "    pattern = re.compile(r'[()!@&;#]')\n",
        "    text = pattern.sub(r'', text)\n",
        "    return text"
      ]
    },
    {
      "cell_type": "code",
      "execution_count": null,
      "metadata": {
        "colab": {
          "base_uri": "https://localhost:8080/"
        },
        "id": "o76Q7D8G2jmQ",
        "outputId": "f9d72c2b-1c3e-44dc-c19d-1ef2879cceb9"
      },
      "outputs": [
        {
          "name": "stdout",
          "output_type": "stream",
          "text": [
            "MRI LEFT SHOULDER This is a 69-year-old male with pain in the shoulder. Evaluate for rotator cuff tear. Examination was performed on 9/1/05. There is marked supraspinatus tendinosis and extensive tearing of the substance of the tendon and articular surface, extending into the myotendinous junction as well. There is still a small rim of tendon along the bursal surface, although there may be a small tear at the level of the rotator interval. There is no retracted tendon or muscular atrophy (series #6 images #6-17). Normal infraspinatus tendon. There is subscapularis tendinosis with fraying and partial tearing of the superior most fibers extending to the level of the rotator interval (series #9 images #8-13; series #3 images #8-14). There is no complete tear, gap or fiber retraction and there is no muscular atrophy. There is tendinosis and superficial tearing of the long biceps tendon within the bicipital groove, and there is high grade (near complete) partial tearing of the intracapsular portion of the tendon. The biceps anchor is intact. There are degenerative changes in the greater tuberosity of the humerus but there is no fracture or subluxation. There is degeneration of the superior labrum and there is a small nondisplaced tear in the posterior superior labrum at the one to two o’clock position (series #6 images #12-14; series #3 images #8-10; series #9 images #5-8). There is a small sublabral foramen at the eleven o’clock position (series #9 image #6). There is no osseous Bankart lesion. Normal superior, middle and inferior glenohumeral ligaments. There is hypertrophic osteoarthropathy of the acromioclavicular joint with narrowing of the subacromial space and flattening of the superior surface of the supraspinatus musculotendinous junction, which in the appropriate clinical setting is an MRI manifestation of an impinging lesion (series #8 images #3-12). Normal coracoacromial, coracohumeral and coracoclavicular ligaments. There is minimal fluid within the glenohumeral joint. There is no atrophy of the deltoid muscle. There is extensive supraspinatus tendinosis and partial tearing as described. There is no retracted tendon or muscular atrophy, but there may be a small tear along the anterior edge of the tendon at the level of the rotator interval, and this associated partial tearing of the superior most fibers of the subscapularis tendon. There is also a high-grade partial tear of the long biceps tendon as it courses under the transverse humeral ligament. There is no evidence of a complete tear or retracted tendon. Small nondisplaced posterior superior labral tear. Outlet narrowing from the acromioclavicular joint, which in the appropriate clinical setting is an MRI manifestation of an impinging lesion.\n"
          ]
        }
      ],
      "source": [
        "sample_text_processed = replace_mult_spaces(sample_text_processed)\n",
        "print (sample_text_processed)"
      ]
    },
    {
      "cell_type": "code",
      "execution_count": null,
      "metadata": {
        "colab": {
          "base_uri": "https://localhost:8080/"
        },
        "id": "xLsknSWA2uM2",
        "outputId": "0e271cc2-8191-4988-ee63-ca6fd90370bc"
      },
      "outputs": [
        {
          "name": "stdout",
          "output_type": "stream",
          "text": [
            "MRI LEFT SHOULDER This is a 69-year-old male with pain in the shoulder. Evaluate for rotator cuff tear. Examination was performed on 9/1/05. There is marked supraspinatus tendinosis and extensive tearing of the substance of the tendon and articular surface, extending into the myotendinous junction as well. There is still a small rim of tendon along the bursal surface, although there may be a small tear at the level of the rotator interval. There is no retracted tendon or muscular atrophy series 6 images 6-17. Normal infraspinatus tendon. There is subscapularis tendinosis with fraying and partial tearing of the superior most fibers extending to the level of the rotator interval series 9 images 8-13 series 3 images 8-14. There is no complete tear, gap or fiber retraction and there is no muscular atrophy. There is tendinosis and superficial tearing of the long biceps tendon within the bicipital groove, and there is high grade near complete partial tearing of the intracapsular portion of the tendon. The biceps anchor is intact. There are degenerative changes in the greater tuberosity of the humerus but there is no fracture or subluxation. There is degeneration of the superior labrum and there is a small nondisplaced tear in the posterior superior labrum at the one to two o’clock position series 6 images 12-14 series 3 images 8-10 series 9 images 5-8. There is a small sublabral foramen at the eleven o’clock position series 9 image 6. There is no osseous Bankart lesion. Normal superior, middle and inferior glenohumeral ligaments. There is hypertrophic osteoarthropathy of the acromioclavicular joint with narrowing of the subacromial space and flattening of the superior surface of the supraspinatus musculotendinous junction, which in the appropriate clinical setting is an MRI manifestation of an impinging lesion series 8 images 3-12. Normal coracoacromial, coracohumeral and coracoclavicular ligaments. There is minimal fluid within the glenohumeral joint. There is no atrophy of the deltoid muscle. There is extensive supraspinatus tendinosis and partial tearing as described. There is no retracted tendon or muscular atrophy, but there may be a small tear along the anterior edge of the tendon at the level of the rotator interval, and this associated partial tearing of the superior most fibers of the subscapularis tendon. There is also a high-grade partial tear of the long biceps tendon as it courses under the transverse humeral ligament. There is no evidence of a complete tear or retracted tendon. Small nondisplaced posterior superior labral tear. Outlet narrowing from the acromioclavicular joint, which in the appropriate clinical setting is an MRI manifestation of an impinging lesion.\n"
          ]
        }
      ],
      "source": [
        "sample_text_processed = replace_other_chars(sample_text_processed)\n",
        "print (sample_text_processed)"
      ]
    },
    {
      "cell_type": "markdown",
      "metadata": {
        "id": "O7nDsTCV2zX5"
      },
      "source": [
        "Membuat fungsi untuk membuat clean-text dalam 1 function lalu membuat semua text lower case (huruf kecil)."
      ]
    },
    {
      "cell_type": "code",
      "execution_count": null,
      "metadata": {
        "id": "34ATEb722v5h"
      },
      "outputs": [],
      "source": [
        "def clean_text(text):\n",
        "    text = remove_html(text)\n",
        "    text = remove_headings(text)\n",
        "    text = replace_mult_spaces(text)\n",
        "    text = replace_other_chars(text)\n",
        "    text = text.lower()\n",
        "    return text"
      ]
    },
    {
      "cell_type": "code",
      "execution_count": null,
      "metadata": {
        "colab": {
          "base_uri": "https://localhost:8080/"
        },
        "id": "PKOBooKH24LF",
        "outputId": "2c40ebaf-a889-40f2-a68d-ae60ed86545a"
      },
      "outputs": [
        {
          "name": "stdout",
          "output_type": "stream",
          "text": [
            "mri left shoulder this is a 69-year-old male with pain in the shoulder. evaluate for rotator cuff tear. examination was performed on 9/1/05. there is marked supraspinatus tendinosis and extensive tearing of the substance of the tendon and articular surface, extending into the myotendinous junction as well. there is still a small rim of tendon along the bursal surface, although there may be a small tear at the level of the rotator interval. there is no retracted tendon or muscular atrophy series 6 images 6-17. normal infraspinatus tendon. there is subscapularis tendinosis with fraying and partial tearing of the superior most fibers extending to the level of the rotator interval series 9 images 8-13 series 3 images 8-14. there is no complete tear, gap or fiber retraction and there is no muscular atrophy. there is tendinosis and superficial tearing of the long biceps tendon within the bicipital groove, and there is high grade near complete partial tearing of the intracapsular portion of the tendon. the biceps anchor is intact. there are degenerative changes in the greater tuberosity of the humerus but there is no fracture or subluxation. there is degeneration of the superior labrum and there is a small nondisplaced tear in the posterior superior labrum at the one to two o’clock position series 6 images 12-14 series 3 images 8-10 series 9 images 5-8. there is a small sublabral foramen at the eleven o’clock position series 9 image 6. there is no osseous bankart lesion. normal superior, middle and inferior glenohumeral ligaments. there is hypertrophic osteoarthropathy of the acromioclavicular joint with narrowing of the subacromial space and flattening of the superior surface of the supraspinatus musculotendinous junction, which in the appropriate clinical setting is an mri manifestation of an impinging lesion series 8 images 3-12. normal coracoacromial, coracohumeral and coracoclavicular ligaments. there is minimal fluid within the glenohumeral joint. there is no atrophy of the deltoid muscle. there is extensive supraspinatus tendinosis and partial tearing as described. there is no retracted tendon or muscular atrophy, but there may be a small tear along the anterior edge of the tendon at the level of the rotator interval, and this associated partial tearing of the superior most fibers of the subscapularis tendon. there is also a high-grade partial tear of the long biceps tendon as it courses under the transverse humeral ligament. there is no evidence of a complete tear or retracted tendon. small nondisplaced posterior superior labral tear. outlet narrowing from the acromioclavicular joint, which in the appropriate clinical setting is an mri manifestation of an impinging lesion.\n"
          ]
        }
      ],
      "source": [
        "clean = clean_text(sample_text)\n",
        "print(clean)"
      ]
    },
    {
      "cell_type": "markdown",
      "metadata": {
        "id": "sVW10CNL3b73"
      },
      "source": [
        "## **Basic descriptive analysis on the texts**\n",
        "dibawah ada perbandingan nya, semua process diatas itu udah di looping dengan defining function text, sample_processed_text ataupun sample_text itu cuma buat kita ambil sample untuk melihat process didalam 1 index location"
      ]
    },
    {
      "cell_type": "code",
      "execution_count": null,
      "metadata": {
        "colab": {
          "base_uri": "https://localhost:8080/"
        },
        "id": "KljSIt2aOvHJ",
        "outputId": "b34b0c79-08d1-4745-8e2c-c06d288cfcec"
      },
      "outputs": [
        {
          "data": {
            "text/plain": [
              "0      difficulty word find . rhf experience sudden onset word find difficulty slurred speech evening 2/19/96 . deny associate dysphagia , diplopia , numbness weakness extremity . go sleep symptom 2/19/9...\n",
              "1      preoperative ganglion left wrist . postoperative ganglion left wrist . excision ganglion . general . estimate blood less 5 ml . successful anesthetic , patient position operating table . tournique...\n",
              "2      preoperative cervical myelopathy , c3 - 4 , secondary stenosis herniated nucleus pulposus , c3 - 4 . postoperative cervical myelopathy , c3 - 4 , secondary stenosis herniated nucleus pulposus , c3...\n",
              "3      mri leave shoulder 69-year - old male pain shoulder . evaluate rotator cuff tear . examination perform 9/1/05 . mark supraspinatus tendinosis extensive tearing substance tendon articular surface ,...\n",
              "4      history present patient 57-year - old female see today evaluation pain symptom relate recurrent bunion deformity bilateral foot , great leave . patient state increase symptom pain discomfort assoc...\n",
              "                                                                                                        ...                                                                                                   \n",
              "813    ct chest contrast . abnormal chest x - ray , demonstrate region consolidation mass right upper lobe . post contrast - enhance spiral image obtain chest . several , discrete , patchy air - space op...\n",
              "814    episodic mental status change numbness , chorea find exam . 78y rhm refer episode unusual behavior numbness . 9/91 , experience loss consciousness , generalize weakness , headache vomiting . evalu...\n",
              "815    procedure follow premedication vistaril 50 mg atropine 0.4 mg , patient receive versed 5.0 mg cetacaine spray posterior palate . olympus video gastroscope introduce upper esophagus pass direct vis...\n",
              "816    reason overactive bladder microscopic hematuria . history present patient 56-year - old note microscopic hematuria overactive bladder . cystoscopy perform unremarkable . continue episode frequency...\n",
              "817    patient 46-year - old right - handed gentleman medical history left l5-s1 lumbar microdiskectomy 1998 complete resolution left leg symptom , present four - month history gradual onset right - side...\n",
              "Name: clean_text, Length: 818, dtype: object"
            ]
          },
          "execution_count": 15,
          "metadata": {},
          "output_type": "execute_result"
        }
      ],
      "source": [
        "df.clean_text"
      ]
    },
    {
      "cell_type": "code",
      "execution_count": null,
      "metadata": {
        "colab": {
          "base_uri": "https://localhost:8080/"
        },
        "id": "Zx5G_aK2PnhL",
        "outputId": "523eba66-255a-4b5e-e1a5-177f862cdc86"
      },
      "outputs": [
        {
          "data": {
            "text/plain": [
              "0      \\n \\n \\n \\n \\n <B>CC:</B> Difficulty with word finding.\\n \\n <B>HX: </B>This 27y/o RHF experienced sudden onset word finding difficulty and slurred speech on the evening of 2/19/96. She denied any...\n",
              "1      \\n \\n \\n \\n \\n <B>PREOPERATIVE DIAGNOSIS: </B> Ganglion of the left wrist.\\n \\n <B>POSTOPERATIVE DIAGNOSIS: </B> Ganglion of the left wrist.\\n \\n <B>OPERATION: </B> Excision of ganglion.\\n \\n <B>A...\n",
              "2      \\n \\n \\n \\n \\n <B>PREOPERATIVE DIAGNOSIS: </B> Cervical myelopathy, C3-4, secondary to stenosis from herniated nucleus pulposus, C3-4.\\n \\n <B>POSTOPERATIVE DIAGNOSES: </B> Cervical myelopathy, C3...\n",
              "3      \\n \\n \\n \\n \\n <B>EXAM:</B>MRI LEFT SHOULDER\\n \\n <B>CLINICAL:</B>This is a 69-year-old male with pain in the shoulder. Evaluate for rotator cuff tear.\\n \\n <B>FINDINGS:</B>\\n \\n Examination was p...\n",
              "4      \\n \\n \\n \\n \\n <B>HISTORY OF PRESENT ILLNESS: </B> The patient is a 57-year-old female being seen today for evaluation of pain and symptoms related to a recurrent bunion deformity in bilateral fee...\n",
              "                                                                                                        ...                                                                                                   \n",
              "813    \\n \\n \\n \\n \\n <B>EXAM: </B> CT chest with contrast.\\n \\n <B>HISTORY: </B> Abnormal chest x-ray, which demonstrated a region of consolidation versus mass in the right upper lobe.\\n \\n <B>TECHNIQUE...\n",
              "814    \\n \\n \\n \\n \\n <B>CC:</B> Episodic mental status change and RUE numbness, and chorea (found on exam).\\n \\n <B>HX:</B> This 78y/o RHM was referred for an episode of unusual behavior and RUE numbnes...\n",
              "815    \\n \\n \\n \\n \\n <B>PROCEDURE IN DETAIL: </B> Following premedication with Vistaril 50 mg and Atropine 0.4 mg IM, the patient received Versed 5.0 mg intravenously after Cetacaine spray to the poster...\n",
              "816    \\n \\n \\n \\n \\n <B>REASON FOR VISIT: </B> Overactive bladder with microscopic hematuria.\\n \\n <B>HISTORY OF PRESENT ILLNESS: </B> The patient is a 56-year-old noted to have microscopic hematuria wi...\n",
              "817    \\n \\n \\n \\n \\n <B>HISTORY:</B>  The patient is a 46-year-old right-handed gentleman with a past medical history of a left L5-S1 lumbar microdiskectomy in 1998 with complete resolution of left leg ...\n",
              "Name: text, Length: 818, dtype: object"
            ]
          },
          "execution_count": 16,
          "metadata": {},
          "output_type": "execute_result"
        }
      ],
      "source": [
        "df.text"
      ]
    },
    {
      "cell_type": "code",
      "execution_count": null,
      "metadata": {
        "colab": {
          "base_uri": "https://localhost:8080/",
          "height": 452
        },
        "id": "iEyfCzDg3K-e",
        "outputId": "1d84d427-36f4-447e-dd9e-6f634c3b87ec"
      },
      "outputs": [
        {
          "data": {
            "image/png": "[encoded data removed]",
            "text/plain": [
              "<Figure size 640x480 with 1 Axes>"
            ]
          },
          "metadata": {},
          "output_type": "display_data"
        }
      ],
      "source": [
        "import matplotlib.pyplot as plt\n",
        "\n",
        "df.text.apply(len).plot.hist()\n",
        "df.clean_text.apply(len).plot.hist()\n",
        "plt.title(\"Distribusi total karakter dalam file\")\n",
        "plt.legend([\"sesudah\",\"sebelum\"])\n",
        "plt.show()\n",
        "# x = density, y = freq\n",
        "# maksudnya density itu, 0-5000, yang dalam 1 index ada 0-5000 kata itu ada berapa banyak\n",
        "# frequency, contohnya lihat pada bar 0 density text, terdapat 500+ index yang mempunyai 0 character pada text nya\n",
        "# pada mark 5000 density, bisa diliat sebelum < 100 data, tapi sesudah > 200 data\n",
        "# maka bisa disimpulkan, penggunaan spasi yang tidak dibutuhkan dan karakter pemisah telah di buang"
      ]
    },
    {
      "cell_type": "code",
      "execution_count": null,
      "metadata": {
        "colab": {
          "base_uri": "https://localhost:8080/"
        },
        "id": "yfw-4jG8RK7L",
        "outputId": "e451fcd3-cb3a-4147-9d53-aabc063225e7"
      },
      "outputs": [
        {
          "data": {
            "text/plain": [
              "0      5594\n",
              "1      1664\n",
              "2      6914\n",
              "3      2880\n",
              "4      3367\n",
              "       ... \n",
              "813     864\n",
              "814    5888\n",
              "815     733\n",
              "816    1269\n",
              "817    1947\n",
              "Name: text, Length: 818, dtype: int64"
            ]
          },
          "execution_count": 19,
          "metadata": {},
          "output_type": "execute_result"
        }
      ],
      "source": [
        "df.text.apply(len)"
      ]
    },
    {
      "cell_type": "code",
      "execution_count": null,
      "metadata": {
        "colab": {
          "base_uri": "https://localhost:8080/"
        },
        "id": "BiNmaPwCSW-h",
        "outputId": "b779167b-5828-4d04-ad3a-a2a6d0c110f9"
      },
      "outputs": [
        {
          "data": {
            "text/plain": [
              "0      3866\n",
              "1       997\n",
              "2      4428\n",
              "3      1975\n",
              "4      2227\n",
              "       ... \n",
              "813     564\n",
              "814    4303\n",
              "815     484\n",
              "816     734\n",
              "817    1372\n",
              "Name: clean_text, Length: 818, dtype: int64"
            ]
          },
          "execution_count": 20,
          "metadata": {},
          "output_type": "execute_result"
        }
      ],
      "source": [
        "df.clean_text.apply(len)"
      ]
    },
    {
      "cell_type": "markdown",
      "metadata": {
        "id": "6rCgC9fqB21v"
      },
      "source": [
        "# Lexical Analysis\n",
        "# Stemming & Lemmatization\n",
        "\n",
        "\n",
        "1.   Stemming adalah proses untuk mengambil akar kata atau kata dasar dari sebuah kata.\n",
        "2.   Lemmatization adalah proses mengubah sebuah kata ke bentuk dasarnya atau kata dasar yang sesuai dengan kamus atau aturan morfologi bahasa tertentu.\n",
        "\n",
        "\n",
        "\n",
        "\n",
        "![image.png](data:image/png;base64,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)\n"
      ]
    },
    {
      "cell_type": "code",
      "execution_count": null,
      "metadata": {
        "colab": {
          "base_uri": "https://localhost:8080/"
        },
        "id": "Bgk3mE1tCcDh",
        "outputId": "6e623afd-3ef3-4215-a99b-ec8a2f613bc1"
      },
      "outputs": [
        {
          "name": "stdout",
          "output_type": "stream",
          "text": [
            "preoperative ganglion left wrist . postoperative ganglion left wrist . excision ganglion . general . estimate blood less 5 ml . successful anesthetic , patient position operating table . tourniquet apply upper arm . extremity preppe usual manner surgical procedure drape . superficial vessel exsanguinate elastic wrap tourniquet inflate usual arm pressure . curved incision make present ganglion dorsal aspect wrist . blunt sharp dissection , dissect extensor tendon stalk appear arise distal radiocapitellar joint dorsal capsule excise ganglion specimen remove submit . small superficial vessel electrocoagulate instill close skin 4 0 prolene , area 6 7 ml 0.25 marcaine epinephrine . jackson - pratt drain insert tourniquet release , keep deflate 5 10 minute pass activate remove recovery room . dressing apply hand xeroform , 4x4s , abd , kerlix , elastic wrap volar fiberglass splint . tourniquet release . circulation return finger . patient allow awaken leave operating room good condition .\n"
          ]
        }
      ],
      "source": [
        "sample_text = df.clean_text.iloc[1]\n",
        "print(sample_text) #seperti biasa sample text"
      ]
    },
    {
      "cell_type": "code",
      "execution_count": null,
      "metadata": {
        "id": "3vOh31YtFIZW"
      },
      "outputs": [],
      "source": [
        "import nltk # library nltk\n",
        "\n",
        "def simple_stemmer(text):\n",
        "    ps = nltk.stem.SnowballStemmer('english') # algoritma stemming snowballstemmer\n",
        "    text = ' '.join([ps.stem(word) for word in text.split()])\n",
        "    #ps = porterstemmer cuma istilah aja, tapi di join nya pake spasi karena ' '\n",
        "    return text"
      ]
    },
    {
      "cell_type": "code",
      "execution_count": null,
      "metadata": {
        "colab": {
          "base_uri": "https://localhost:8080/"
        },
        "id": "UdpalWukFTE6",
        "outputId": "2bd1d446-bf8a-4640-b706-0b277c758697"
      },
      "outputs": [
        {
          "name": "stdout",
          "output_type": "stream",
          "text": [
            "preoper ganglion left wrist . postop ganglion left wrist . excis ganglion . general . estim blood less 5 ml . success anesthet , patient posit oper tabl . tourniquet appli upper arm . extrem prepp usual manner surgic procedur drape . superfici vessel exsanguin elast wrap tourniquet inflat usual arm pressur . curv incis make present ganglion dorsal aspect wrist . blunt sharp dissect , dissect extensor tendon stalk appear aris distal radiocapitellar joint dorsal capsul excis ganglion specimen remov submit . small superfici vessel electrocoagul instil close skin 4 0 prolen , area 6 7 ml 0.25 marcain epinephrin . jackson - pratt drain insert tourniquet releas , keep deflat 5 10 minut pass activ remov recoveri room . dress appli hand xeroform , 4x4s , abd , kerlix , elast wrap volar fiberglass splint . tourniquet releas . circul return finger . patient allow awaken leav oper room good condit .\n"
          ]
        }
      ],
      "source": [
        "stemmed_text = simple_stemmer(sample_text)\n",
        "print (stemmed_text)"
      ]
    },
    {
      "cell_type": "code",
      "execution_count": null,
      "metadata": {
        "colab": {
          "base_uri": "https://localhost:8080/"
        },
        "id": "TOGJ05N1Fd_H",
        "outputId": "a01d0794-fcf9-4efa-c819-e3139532d17f"
      },
      "outputs": [
        {
          "name": "stdout",
          "output_type": "stream",
          "text": [
            "/usr/local/lib/python3.9/dist-packages/torch/cuda/__init__.py:497: UserWarning: Can't initialize NVML\n",
            "  warnings.warn(\"Can't initialize NVML\")\n",
            "2023-04-03 16:31:15.301351: I tensorflow/core/platform/cpu_feature_guard.cc:182] This TensorFlow binary is optimized to use available CPU instructions in performance-critical operations.\n",
            "To enable the following instructions: AVX2 FMA, in other operations, rebuild TensorFlow with the appropriate compiler flags.\n",
            "2023-04-03 16:31:16.547679: W tensorflow/compiler/tf2tensorrt/utils/py_utils.cc:38] TF-TRT Warning: Could not find TensorRT\n",
            "2023-04-03 16:31:18.417868: E tensorflow/compiler/xla/stream_executor/cuda/cuda_driver.cc:266] failed call to cuInit: CUDA_ERROR_NO_DEVICE: no CUDA-capable device is detected\n",
            "Looking in indexes: https://pypi.org/simple, https://us-python.pkg.dev/colab-wheels/public/simple/\n",
            "Collecting en-core-web-lg==3.5.0\n",
            "  Downloading https://github.com/explosion/spacy-models/releases/download/en_core_web_lg-3.5.0/en_core_web_lg-3.5.0-py3-none-any.whl (587.7 MB)\n",
            "\u001b[2K     \u001b[90m━━━━━━━━━━━━━━━━━━━━━━━━━━━━━━━━━━━━━━━\u001b[0m \u001b[32m587.7/587.7 MB\u001b[0m \u001b[31m2.2 MB/s\u001b[0m eta \u001b[36m0:00:00\u001b[0m\n",
            "\u001b[?25hRequirement already satisfied: spacy<3.6.0,>=3.5.0 in /usr/local/lib/python3.9/dist-packages (from en-core-web-lg==3.5.0) (3.5.1)\n",
            "Requirement already satisfied: srsly<3.0.0,>=2.4.3 in /usr/local/lib/python3.9/dist-packages (from spacy<3.6.0,>=3.5.0->en-core-web-lg==3.5.0) (2.4.6)\n",
            "Requirement already satisfied: pathy>=0.10.0 in /usr/local/lib/python3.9/dist-packages (from spacy<3.6.0,>=3.5.0->en-core-web-lg==3.5.0) (0.10.1)\n",
            "Requirement already satisfied: cymem<2.1.0,>=2.0.2 in /usr/local/lib/python3.9/dist-packages (from spacy<3.6.0,>=3.5.0->en-core-web-lg==3.5.0) (2.0.7)\n",
            "Requirement already satisfied: numpy>=1.15.0 in /usr/local/lib/python3.9/dist-packages (from spacy<3.6.0,>=3.5.0->en-core-web-lg==3.5.0) (1.22.4)\n",
            "Requirement already satisfied: thinc<8.2.0,>=8.1.8 in /usr/local/lib/python3.9/dist-packages (from spacy<3.6.0,>=3.5.0->en-core-web-lg==3.5.0) (8.1.9)\n",
            "Requirement already satisfied: spacy-legacy<3.1.0,>=3.0.11 in /usr/local/lib/python3.9/dist-packages (from spacy<3.6.0,>=3.5.0->en-core-web-lg==3.5.0) (3.0.12)\n",
            "Requirement already satisfied: langcodes<4.0.0,>=3.2.0 in /usr/local/lib/python3.9/dist-packages (from spacy<3.6.0,>=3.5.0->en-core-web-lg==3.5.0) (3.3.0)\n",
            "Requirement already satisfied: preshed<3.1.0,>=3.0.2 in /usr/local/lib/python3.9/dist-packages (from spacy<3.6.0,>=3.5.0->en-core-web-lg==3.5.0) (3.0.8)\n",
            "Requirement already satisfied: jinja2 in /usr/local/lib/python3.9/dist-packages (from spacy<3.6.0,>=3.5.0->en-core-web-lg==3.5.0) (3.1.2)\n",
            "Requirement already satisfied: smart-open<7.0.0,>=5.2.1 in /usr/local/lib/python3.9/dist-packages (from spacy<3.6.0,>=3.5.0->en-core-web-lg==3.5.0) (6.3.0)\n",
            "Requirement already satisfied: spacy-loggers<2.0.0,>=1.0.0 in /usr/local/lib/python3.9/dist-packages (from spacy<3.6.0,>=3.5.0->en-core-web-lg==3.5.0) (1.0.4)\n",
            "Requirement already satisfied: catalogue<2.1.0,>=2.0.6 in /usr/local/lib/python3.9/dist-packages (from spacy<3.6.0,>=3.5.0->en-core-web-lg==3.5.0) (2.0.8)\n",
            "Requirement already satisfied: typer<0.8.0,>=0.3.0 in /usr/local/lib/python3.9/dist-packages (from spacy<3.6.0,>=3.5.0->en-core-web-lg==3.5.0) (0.7.0)\n",
            "Requirement already satisfied: murmurhash<1.1.0,>=0.28.0 in /usr/local/lib/python3.9/dist-packages (from spacy<3.6.0,>=3.5.0->en-core-web-lg==3.5.0) (1.0.9)\n",
            "Requirement already satisfied: packaging>=20.0 in /usr/local/lib/python3.9/dist-packages (from spacy<3.6.0,>=3.5.0->en-core-web-lg==3.5.0) (23.0)\n",
            "Requirement already satisfied: wasabi<1.2.0,>=0.9.1 in /usr/local/lib/python3.9/dist-packages (from spacy<3.6.0,>=3.5.0->en-core-web-lg==3.5.0) (1.1.1)\n",
            "Requirement already satisfied: tqdm<5.0.0,>=4.38.0 in /usr/local/lib/python3.9/dist-packages (from spacy<3.6.0,>=3.5.0->en-core-web-lg==3.5.0) (4.65.0)\n",
            "Requirement already satisfied: pydantic!=1.8,!=1.8.1,<1.11.0,>=1.7.4 in /usr/local/lib/python3.9/dist-packages (from spacy<3.6.0,>=3.5.0->en-core-web-lg==3.5.0) (1.10.7)\n",
            "Requirement already satisfied: requests<3.0.0,>=2.13.0 in /usr/local/lib/python3.9/dist-packages (from spacy<3.6.0,>=3.5.0->en-core-web-lg==3.5.0) (2.27.1)\n",
            "Requirement already satisfied: setuptools in /usr/local/lib/python3.9/dist-packages (from spacy<3.6.0,>=3.5.0->en-core-web-lg==3.5.0) (67.6.1)\n",
            "Requirement already satisfied: typing-extensions>=4.2.0 in /usr/local/lib/python3.9/dist-packages (from pydantic!=1.8,!=1.8.1,<1.11.0,>=1.7.4->spacy<3.6.0,>=3.5.0->en-core-web-lg==3.5.0) (4.5.0)\n",
            "Requirement already satisfied: charset-normalizer~=2.0.0 in /usr/local/lib/python3.9/dist-packages (from requests<3.0.0,>=2.13.0->spacy<3.6.0,>=3.5.0->en-core-web-lg==3.5.0) (2.0.12)\n",
            "Requirement already satisfied: idna<4,>=2.5 in /usr/local/lib/python3.9/dist-packages (from requests<3.0.0,>=2.13.0->spacy<3.6.0,>=3.5.0->en-core-web-lg==3.5.0) (3.4)\n",
            "Requirement already satisfied: urllib3<1.27,>=1.21.1 in /usr/local/lib/python3.9/dist-packages (from requests<3.0.0,>=2.13.0->spacy<3.6.0,>=3.5.0->en-core-web-lg==3.5.0) (1.26.15)\n",
            "Requirement already satisfied: certifi>=2017.4.17 in /usr/local/lib/python3.9/dist-packages (from requests<3.0.0,>=2.13.0->spacy<3.6.0,>=3.5.0->en-core-web-lg==3.5.0) (2022.12.7)\n",
            "Requirement already satisfied: blis<0.8.0,>=0.7.8 in /usr/local/lib/python3.9/dist-packages (from thinc<8.2.0,>=8.1.8->spacy<3.6.0,>=3.5.0->en-core-web-lg==3.5.0) (0.7.9)\n",
            "Requirement already satisfied: confection<1.0.0,>=0.0.1 in /usr/local/lib/python3.9/dist-packages (from thinc<8.2.0,>=8.1.8->spacy<3.6.0,>=3.5.0->en-core-web-lg==3.5.0) (0.0.4)\n",
            "Requirement already satisfied: click<9.0.0,>=7.1.1 in /usr/local/lib/python3.9/dist-packages (from typer<0.8.0,>=0.3.0->spacy<3.6.0,>=3.5.0->en-core-web-lg==3.5.0) (8.1.3)\n",
            "Requirement already satisfied: MarkupSafe>=2.0 in /usr/local/lib/python3.9/dist-packages (from jinja2->spacy<3.6.0,>=3.5.0->en-core-web-lg==3.5.0) (2.1.2)\n",
            "Installing collected packages: en-core-web-lg\n",
            "Successfully installed en-core-web-lg-3.5.0\n",
            "\u001b[38;5;2m✔ Download and installation successful\u001b[0m\n",
            "You can now load the package via spacy.load('en_core_web_lg')\n"
          ]
        }
      ],
      "source": [
        "!python -m spacy download en_core_web_lg #spacy buat lematize nya"
      ]
    },
    {
      "cell_type": "code",
      "execution_count": null,
      "metadata": {
        "id": "gwR-aYPWF_Fu"
      },
      "outputs": [],
      "source": [
        "import spacy\n",
        "nlp = spacy.load('en_core_web_lg')\n",
        "#ini nlp load dari lib spacy nya\n",
        "\n",
        "def simple_lemmatizer(text):\n",
        "    text = nlp(text)\n",
        "    text = ' '.join([word.lemma_\n",
        "                     if word.lemma_ != '-PRON-'\n",
        "                     else word.text for word in text])\n",
        "    # sama kek stemming, tapi algoritmanya pake dari spacy, coba dipahami masing\"\n",
        "    return text"
      ]
    },
    {
      "cell_type": "code",
      "execution_count": null,
      "metadata": {
        "colab": {
          "base_uri": "https://localhost:8080/"
        },
        "id": "SiVQAT8P-TD4",
        "outputId": "d05707f4-f1ca-4033-a605-0a159e442553"
      },
      "outputs": [
        {
          "name": "stdout",
          "output_type": "stream",
          "text": [
            "preoperative ganglion left wrist . postoperative ganglion left wrist . excision ganglion . general . estimate blood less 5 ml . successful anesthetic , patient position operating table . tourniquet apply upper arm . extremity preppe usual manner surgical procedure drape . superficial vessel exsanguinate elastic wrap tourniquet inflate usual arm pressure . curved incision make present ganglion dorsal aspect wrist . blunt sharp dissection , dissect extensor tendon stalk appear arise distal radiocapitellar joint dorsal capsule excise ganglion specimen remove submit . small superficial vessel electrocoagulate instill close skin 4 0 prolene , area 6 7 ml 0.25 marcaine epinephrine . jackson - pratt drain insert tourniquet release , keep deflate 5 10 minute pass activate remove recovery room . dressing apply hand xeroform , 4x4s , abd , kerlix , elastic wrap volar fiberglass splint . tourniquet release . circulation return finger . patient allow awaken leave operating room good condition .\n"
          ]
        }
      ],
      "source": [
        "print(sample_text) #right -> kanan / betul"
      ]
    },
    {
      "cell_type": "code",
      "execution_count": null,
      "metadata": {
        "colab": {
          "base_uri": "https://localhost:8080/"
        },
        "id": "2RzU-j7JGCeb",
        "outputId": "0abb6b00-1ae3-4355-80f8-cb9ebfc2f937"
      },
      "outputs": [
        {
          "name": "stdout",
          "output_type": "stream",
          "text": [
            "preoperative ganglion leave wrist . postoperative ganglion leave wrist . excision ganglion . general . estimate blood less 5 ml . successful anesthetic , patient position operating table . tourniquet apply upper arm . extremity preppe usual manner surgical procedure drape . superficial vessel exsanguinate elastic wrap tourniquet inflate usual arm pressure . curved incision make present ganglion dorsal aspect wrist . blunt sharp dissection , dissect extensor tendon stalk appear arise distal radiocapitellar joint dorsal capsule excise ganglion specimen remove submit . small superficial vessel electrocoagulate instill close skin 4 0 prolene , area 6 7 ml 0.25 marcaine epinephrine . jackson - pratt drain insert tourniquet release , keep deflate 5 10 minute pass activate remove recovery room . dress apply hand xeroform , 4x4s , abd , kerlix , elastic wrap volar fiberglass splint . tourniquet release . circulation return finger . patient allow awaken leave operating room good condition .\n"
          ]
        }
      ],
      "source": [
        "lemmatized_text = simple_lemmatizer(sample_text)\n",
        "print (lemmatized_text)"
      ]
    },
    {
      "cell_type": "markdown",
      "metadata": {
        "id": "QpOAh8M5Ga1I"
      },
      "source": [
        "# Tokenization\n",
        "Proses membagi teks menjadi unit-unit yang lebih kecil yang disebut token, seperti kata, frasa, simbol, atau tanda baca."
      ]
    },
    {
      "cell_type": "code",
      "execution_count": null,
      "metadata": {
        "colab": {
          "base_uri": "https://localhost:8080/"
        },
        "id": "F9arNTLXHjXr",
        "outputId": "48fdd160-f68f-4c34-fc31-ce6838a8ae3c"
      },
      "outputs": [
        {
          "name": "stdout",
          "output_type": "stream",
          "text": [
            "preoperative ADJ\n",
            "ganglion NOUN\n",
            "left VERB\n",
            "wrist NOUN\n",
            ". PUNCT\n",
            "postoperative ADJ\n",
            "ganglion NOUN\n",
            "left VERB\n",
            "wrist NOUN\n",
            ". PUNCT\n",
            "excision NOUN\n",
            "ganglion NOUN\n",
            ". PUNCT\n",
            "general ADJ\n",
            ". PUNCT\n",
            "estimate VERB\n",
            "blood NOUN\n",
            "less ADJ\n",
            "5 NUM\n",
            "ml NOUN\n",
            ". PUNCT\n",
            "successful ADJ\n",
            "anesthetic NOUN\n",
            ", PUNCT\n",
            "patient ADJ\n",
            "position NOUN\n",
            "operating NOUN\n",
            "table NOUN\n",
            ". PUNCT\n",
            "tourniquet NOUN\n",
            "apply VERB\n",
            "upper ADJ\n",
            "arm NOUN\n",
            ". PUNCT\n",
            "extremity NOUN\n",
            "preppe PROPN\n",
            "usual ADJ\n",
            "manner NOUN\n",
            "surgical ADJ\n",
            "procedure NOUN\n",
            "drape NOUN\n",
            ". PUNCT\n",
            "superficial ADJ\n",
            "vessel NOUN\n",
            "exsanguinate NOUN\n",
            "elastic ADJ\n",
            "wrap NOUN\n",
            "tourniquet NOUN\n",
            "inflate VERB\n",
            "usual ADJ\n",
            "arm NOUN\n",
            "pressure NOUN\n",
            ". PUNCT\n",
            "curved ADJ\n",
            "incision NOUN\n",
            "make VERB\n",
            "present ADJ\n",
            "ganglion NOUN\n",
            "dorsal NOUN\n",
            "aspect NOUN\n",
            "wrist NOUN\n",
            ". PUNCT\n",
            "blunt ADJ\n",
            "sharp ADJ\n",
            "dissection NOUN\n",
            ", PUNCT\n",
            "dissect VERB\n",
            "extensor PROPN\n",
            "tendon PROPN\n",
            "stalk PROPN\n",
            "appear VERB\n",
            "arise VERB\n",
            "distal ADJ\n",
            "radiocapitellar ADJ\n",
            "joint PROPN\n",
            "dorsal NOUN\n",
            "capsule PROPN\n",
            "excise PROPN\n",
            "ganglion NOUN\n",
            "specimen PROPN\n",
            "remove NOUN\n",
            "submit VERB\n",
            ". PUNCT\n",
            "small ADJ\n",
            "superficial ADJ\n",
            "vessel NOUN\n",
            "electrocoagulate PROPN\n",
            "instill PROPN\n",
            "close ADJ\n",
            "skin NOUN\n",
            "4 NUM\n",
            "0 NUM\n",
            "prolene ADJ\n",
            ", PUNCT\n",
            "area NOUN\n",
            "6 NUM\n",
            "7 NUM\n",
            "ml NOUN\n",
            "0.25 NUM\n",
            "marcaine ADJ\n",
            "epinephrine NOUN\n",
            ". PUNCT\n",
            "jackson PROPN\n",
            "- PUNCT\n",
            "pratt PROPN\n",
            "drain NOUN\n",
            "insert NOUN\n",
            "tourniquet NOUN\n",
            "release NOUN\n",
            ", PUNCT\n",
            "keep VERB\n",
            "deflate VERB\n",
            "5 NUM\n",
            "10 NUM\n",
            "minute NOUN\n",
            "pass NOUN\n",
            "activate VERB\n",
            "remove VERB\n",
            "recovery NOUN\n",
            "room NOUN\n",
            ". PUNCT\n",
            "dressing VERB\n",
            "apply NOUN\n",
            "hand NOUN\n",
            "xeroform PROPN\n",
            ", PUNCT\n",
            "4x4s NOUN\n",
            ", PUNCT\n",
            "abd PROPN\n",
            ", PUNCT\n",
            "kerlix NOUN\n",
            ", PUNCT\n",
            "elastic ADJ\n",
            "wrap NOUN\n",
            "volar NOUN\n",
            "fiberglass NOUN\n",
            "splint NOUN\n",
            ". PUNCT\n",
            "tourniquet NOUN\n",
            "release NOUN\n",
            ". PUNCT\n",
            "circulation NOUN\n",
            "return NOUN\n",
            "finger NOUN\n",
            ". PUNCT\n",
            "patient NOUN\n",
            "allow VERB\n",
            "awaken VERB\n",
            "leave VERB\n",
            "operating NOUN\n",
            "room NOUN\n",
            "good ADJ\n",
            "condition NOUN\n",
            ". PUNCT\n"
          ]
        }
      ],
      "source": [
        "sample_text = df.clean_text.iloc[1] # sa,[;e text]\n",
        "doc = nlp(sample_text)\n",
        "for token in doc:\n",
        "    print(token.text, token.pos_)\n",
        "    #print token dari text, dan pos nya\n",
        "# POS = PART OF SPEECH\n",
        "# NOUN = Kata benda\n",
        "# ADJ = Kata Sifat\n",
        "# PUNCT = Tanda Baca\n",
        "# Num = Numerik\n",
        "# Verb = Kata Kerja\n",
        "# Propn = Kata benda spesifik"
      ]
    },
    {
      "cell_type": "markdown",
      "metadata": {
        "id": "oblT801NJsbJ"
      },
      "source": [
        "# Stopword hoho"
      ]
    },
    {
      "cell_type": "code",
      "execution_count": null,
      "metadata": {
        "colab": {
          "base_uri": "https://localhost:8080/"
        },
        "id": "cNcdz4FXJvqG",
        "outputId": "b78f56fe-d663-4c9a-991d-2627964c8bf8"
      },
      "outputs": [
        {
          "data": {
            "text/plain": [
              ".            32135\n",
              ",            15402\n",
              "patient       3492\n",
              "-             2952\n",
              "right         1674\n",
              "left          1451\n",
              "normal        1386\n",
              "use           1373\n",
              "place         1373\n",
              "pain          1152\n",
              "1              938\n",
              "procedure      879\n",
              "note           805\n",
              "time           794\n",
              "2              743\n",
              "take           692\n",
              "0              683\n",
              "history        673\n",
              "low            638\n",
              "see            626\n",
              "dtype: int64"
            ]
          },
          "execution_count": 26,
          "metadata": {},
          "output_type": "execute_result"
        }
      ],
      "source": [
        "pd.Series(\" \".join(df.clean_text.values).split()).value_counts().head(20)\n",
        "# pertama kita cek dulu kata yang paling sering muncul ~"
      ]
    },
    {
      "cell_type": "code",
      "execution_count": null,
      "metadata": {
        "colab": {
          "base_uri": "https://localhost:8080/"
        },
        "id": "f-Qh8YymJ5o0",
        "outputId": "a43ff48a-47e4-437b-c87d-2a5099f942e6"
      },
      "outputs": [
        {
          "name": "stdout",
          "output_type": "stream",
          "text": [
            "['i', 'me', 'my', 'myself', 'we', 'our', 'ours', 'ourselves', 'you', \"you're\", \"you've\", \"you'll\", \"you'd\", 'your', 'yours', 'yourself', 'yourselves', 'he', 'him', 'his']\n"
          ]
        },
        {
          "name": "stderr",
          "output_type": "stream",
          "text": [
            "[nltk_data] Downloading package stopwords to /root/nltk_data...\n",
            "[nltk_data]   Package stopwords is already up-to-date!\n"
          ]
        }
      ],
      "source": [
        "nltk.download('stopwords') #download list stopword dari nltk\n",
        "stopword_list = nltk.corpus.stopwords.words('english')\n",
        "# set nltk ke inggris (karena data bhs inggris) terus panggil fungsi stopword(base corpus) dari nltk\n",
        "\n",
        "print(stopword_list[:20]) # buat ngecek list stopword coba aja pasang 30 misalnya"
      ]
    },
    {
      "cell_type": "code",
      "execution_count": null,
      "metadata": {
        "id": "xUMz-jkAKF_z"
      },
      "outputs": [],
      "source": [
        "def lemmatize_and_remove_stopwords(text):\n",
        "    doc = nlp(text)\n",
        "    tokens = [word.lemma_ if word.lemma_ != '-PRON-' else word.text for word in doc]\n",
        "    filtered_tokens = [token for token in tokens if token.lower() not in stopword_list]\n",
        "    filtered_text = ' '.join(filtered_tokens)\n",
        "    return filtered_text\n",
        "    # kenapa harus di lemmatize baru di, group token lalu baru di buang lewat stopword\n",
        "    # line 4 menunjukan, harus di grouping dulu lewat token, jadi spt yang sudah dijelaskan\n",
        "    # pada saat tokenization, pengartian dari kata dasar juga di grouping via token\n",
        "    # jadi tidak ada kata yang wasted dalam proses"
      ]
    },
    {
      "cell_type": "code",
      "execution_count": null,
      "metadata": {
        "colab": {
          "base_uri": "https://localhost:8080/",
          "height": 209
        },
        "id": "uxpZOgZ3KLEh",
        "outputId": "89f831f5-440d-42a0-93ca-d41f3bbed9a2"
      },
      "outputs": [
        {
          "data": {
            "application/vnd.google.colaboratory.intrinsic+json": {
              "type": "string"
            },
            "text/plain": [
              "'preoperative ganglion left wrist . postoperative ganglion left wrist . excision ganglion . general . estimate blood less 5 ml . successful anesthetic , patient position operating table . tourniquet apply upper arm . extremity preppe usual manner surgical procedure drape . superficial vessel exsanguinate elastic wrap tourniquet inflate usual arm pressure . curved incision make present ganglion dorsal aspect wrist . blunt sharp dissection , dissect extensor tendon stalk appear arise distal radiocapitellar joint dorsal capsule excise ganglion specimen remove submit . small superficial vessel electrocoagulate instill close skin 4 0 prolene , area 6 7 ml 0.25 marcaine epinephrine . jackson - pratt drain insert tourniquet release , keep deflate 5 10 minute pass activate remove recovery room . dressing apply hand xeroform , 4x4s , abd , kerlix , elastic wrap volar fiberglass splint . tourniquet release . circulation return finger . patient allow awaken leave operating room good condition .'"
            ]
          },
          "execution_count": 30,
          "metadata": {},
          "output_type": "execute_result"
        }
      ],
      "source": [
        "sample_text"
      ]
    },
    {
      "cell_type": "code",
      "execution_count": null,
      "metadata": {
        "colab": {
          "base_uri": "https://localhost:8080/"
        },
        "id": "VCE9mqUvKL_q",
        "outputId": "104a8cf4-5f15-4b5d-8f7b-b0e6aa733c72"
      },
      "outputs": [
        {
          "name": "stdout",
          "output_type": "stream",
          "text": [
            "preoperative ganglion leave wrist . postoperative ganglion leave wrist . excision ganglion . general . estimate blood less 5 ml . successful anesthetic , patient position operating table . tourniquet apply upper arm . extremity preppe usual manner surgical procedure drape . superficial vessel exsanguinate elastic wrap tourniquet inflate usual arm pressure . curved incision make present ganglion dorsal aspect wrist . blunt sharp dissection , dissect extensor tendon stalk appear arise distal radiocapitellar joint dorsal capsule excise ganglion specimen remove submit . small superficial vessel electrocoagulate instill close skin 4 0 prolene , area 6 7 ml 0.25 marcaine epinephrine . jackson - pratt drain insert tourniquet release , keep deflate 5 10 minute pass activate remove recovery room . dress apply hand xeroform , 4x4s , abd , kerlix , elastic wrap volar fiberglass splint . tourniquet release . circulation return finger . patient allow awaken leave operating room good condition .\n"
          ]
        }
      ],
      "source": [
        "sample_text_processed = lemmatize_and_remove_stopwords(sample_text)\n",
        "print (sample_text_processed) # kalo ga ada yang berubah bisa ganti sample textnya"
      ]
    },
    {
      "cell_type": "code",
      "execution_count": null,
      "metadata": {
        "colab": {
          "base_uri": "https://localhost:8080/",
          "height": 209
        },
        "id": "Pfp_bJ05QQe0",
        "outputId": "0102bfc9-671b-478b-daa3-caa9732c0d51"
      },
      "outputs": [
        {
          "data": {
            "application/vnd.google.colaboratory.intrinsic+json": {
              "type": "string"
            },
            "text/plain": [
              "'preoperative ganglion leave wrist . postoperative ganglion leave wrist . excision ganglion . general . estimate blood less 5 ml . successful anesthetic , patient position operating table . tourniquet apply upper arm . extremity preppe usual manner surgical procedure drape . superficial vessel exsanguinate elastic wrap tourniquet inflate usual arm pressure . curved incision make present ganglion dorsal aspect wrist . blunt sharp dissection , dissect extensor tendon stalk appear arise distal radiocapitellar joint dorsal capsule excise ganglion specimen remove submit . small superficial vessel electrocoagulate instill close skin 4 0 prolene , area 6 7 ml 0.25 marcaine epinephrine . jackson - pratt drain insert tourniquet release , keep deflate 5 10 minute pass activate remove recovery room . dress apply hand xeroform , 4x4s , abd , kerlix , elastic wrap volar fiberglass splint . tourniquet release . circulation return finger . patient allow awaken leave operating room good condition .'"
            ]
          },
          "execution_count": 32,
          "metadata": {},
          "output_type": "execute_result"
        }
      ],
      "source": [
        "sample_text_processed"
      ]
    },
    {
      "cell_type": "code",
      "execution_count": null,
      "metadata": {
        "id": "oHjo9ph5K8EH"
      },
      "outputs": [],
      "source": [
        "clean = df.clean_text.apply(lemmatize_and_remove_stopwords) # masukin fungsi"
      ]
    },
    {
      "cell_type": "code",
      "execution_count": null,
      "metadata": {
        "colab": {
          "base_uri": "https://localhost:8080/",
          "height": 452
        },
        "id": "JJgzCf3xLGiL",
        "outputId": "2ebb8f91-dadd-43fc-b809-6f25374c3103"
      },
      "outputs": [
        {
          "data": {
            "image/png": "[encoded data removed]",
            "text/plain": [
              "<Figure size 640x480 with 1 Axes>"
            ]
          },
          "metadata": {},
          "output_type": "display_data"
        }
      ],
      "source": [
        "df.text.apply(lambda x: len(x.split())).plot.hist()\n",
        "clean.apply(lambda y: len(y.split())).plot.hist()\n",
        "plt.title(\"Distribution of total number of words in the texts\")\n",
        "plt.legend([\"sebelum\",\"sesudah\"])\n",
        "plt.show()"
      ]
    },
    {
      "cell_type": "code",
      "execution_count": null,
      "metadata": {
        "colab": {
          "base_uri": "https://localhost:8080/"
        },
        "id": "vu26UulPLHjx",
        "outputId": "173f2d1f-1ddc-424c-ce4e-a9db079388ce"
      },
      "outputs": [
        {
          "data": {
            "text/plain": [
              "0      3851\n",
              "1       996\n",
              "2      4429\n",
              "3      1943\n",
              "4      2232\n",
              "       ... \n",
              "813     564\n",
              "814    4294\n",
              "815     483\n",
              "816     733\n",
              "817    1380\n",
              "Name: clean_text, Length: 818, dtype: int64"
            ]
          },
          "execution_count": 37,
          "metadata": {},
          "output_type": "execute_result"
        }
      ],
      "source": [
        "clean.apply(len)"
      ]
    },
    {
      "cell_type": "code",
      "execution_count": null,
      "metadata": {
        "colab": {
          "base_uri": "https://localhost:8080/"
        },
        "id": "yILlNwwpLYhh",
        "outputId": "d4b5270c-c771-4261-b032-e4df2d6e8ff1"
      },
      "outputs": [
        {
          "data": {
            "text/plain": [
              "0      3866\n",
              "1       997\n",
              "2      4428\n",
              "3      1975\n",
              "4      2227\n",
              "       ... \n",
              "813     564\n",
              "814    4303\n",
              "815     484\n",
              "816     734\n",
              "817    1372\n",
              "Name: clean_text, Length: 818, dtype: int64"
            ]
          },
          "execution_count": 38,
          "metadata": {},
          "output_type": "execute_result"
        }
      ],
      "source": [
        "df.clean_text.apply(len)\n",
        "# ada yang nambah, tapi ada yang berkurang, tergantung dari\n",
        "# proses lemmatizenya\n",
        "# karena data berupa medical records, jadi tidak banyak banget yang berkurang."
      ]
    }
  ],
  "metadata": {
    "colab": {
      "provenance": [],
      "include_colab_link": true
    },
    "kernelspec": {
      "display_name": "Python 3",
      "name": "python3"
    },
    "language_info": {
      "name": "python"
    }
  },
  "nbformat": 4,
  "nbformat_minor": 0
}