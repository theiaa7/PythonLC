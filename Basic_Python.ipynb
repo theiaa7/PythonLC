{
  "nbformat": 4,
  "nbformat_minor": 0,
  "metadata": {
    "colab": {
      "provenance": [],
      "include_colab_link": true
    },
    "kernelspec": {
      "name": "python3",
      "display_name": "Python 3"
    },
    "language_info": {
      "name": "python"
    }
  },
  "cells": [
    {
      "cell_type": "markdown",
      "metadata": {
        "id": "view-in-github",
        "colab_type": "text"
      },
      "source": [
        "<a href=\"https://colab.research.google.com/github/theiaa7/PythonLC/blob/main/Basic_Python.ipynb\" target=\"_parent\"><img src=\"https://colab.research.google.com/assets/colab-badge.svg\" alt=\"Open In Colab\"/></a>"
      ]
    },
    {
      "cell_type": "markdown",
      "source": [
        "# Basic Python Course, read comments to understand the syntax purpose"
      ],
      "metadata": {
        "id": "IuHV_LyvyWqT"
      }
    },
    {
      "cell_type": "markdown",
      "source": [
        "1. Basic Google Colaboratory knowledge you must know"
      ],
      "metadata": {
        "id": "-rg2xAZEzt5Y"
      }
    },
    {
      "cell_type": "code",
      "source": [
        "# Run Python syntax or module, example: 'print()'\n",
        "print('Hello students!')"
      ],
      "metadata": {
        "id": "NkATlPG3z9f4"
      },
      "execution_count": null,
      "outputs": []
    },
    {
      "cell_type": "code",
      "source": [
        "# Run serverside command, example 'apt'\n",
        "!sudo apt update && sudo apt upgrade"
      ],
      "metadata": {
        "id": "6_Js0bvx0FEz"
      },
      "execution_count": null,
      "outputs": []
    },
    {
      "cell_type": "code",
      "source": [
        "# Declare variable from this section\n",
        "test = \"Laboratorium Ilmu Komputer\""
      ],
      "metadata": {
        "id": "D8cz-44-5W9H"
      },
      "execution_count": null,
      "outputs": []
    },
    {
      "cell_type": "code",
      "source": [
        "# You can call variable on the top of this section, but you must run the top before\n",
        "print(test)"
      ],
      "metadata": {
        "id": "dP29OYJJ5jkB",
        "outputId": "ee2096fc-25c4-4a43-a051-e4a9b6755ed2",
        "colab": {
          "base_uri": "https://localhost:8080/"
        }
      },
      "execution_count": null,
      "outputs": [
        {
          "output_type": "stream",
          "name": "stdout",
          "text": [
            "Laboratorium Ilmu Komputer\n"
          ]
        }
      ]
    },
    {
      "cell_type": "markdown",
      "source": [
        "2. Standard Input Output (STDIO) in Python using ```print()``` and ```input()```"
      ],
      "metadata": {
        "id": "VOMnNpBCyytG"
      }
    },
    {
      "cell_type": "code",
      "source": [
        "# Print to console like 'cout' in C++, 'echo' in PHP and Shell, and 'console.log' in JavaScript\n",
        "print('Laboratorium Ilmu Komputer')"
      ],
      "metadata": {
        "id": "Qbd7kydjyxre"
      },
      "execution_count": null,
      "outputs": []
    },
    {
      "cell_type": "code",
      "execution_count": null,
      "metadata": {
        "id": "xaOL1HnKyWBB"
      },
      "outputs": [],
      "source": [
        "# Get user input\n",
        "var = input()\n",
        "\n",
        "# Then print at console\n",
        "print('Hello ' + var + ', how are you?')"
      ]
    },
    {
      "cell_type": "markdown",
      "source": [
        "3. Creating variables and data types\n",
        "</br>Python has no command for declaring a variable. A variable is created the moment you first assign a value to it."
      ],
      "metadata": {
        "id": "AUneYo2h07DY"
      }
    },
    {
      "cell_type": "code",
      "source": [
        "# Integer\n",
        "var_a = 1 # <<< Automatically detected as 'int'\n",
        "var_a = int(var_a)\n",
        "print(var_a)"
      ],
      "metadata": {
        "id": "SzaEC5X91Gy6"
      },
      "execution_count": null,
      "outputs": []
    },
    {
      "cell_type": "code",
      "source": [
        "# Float\n",
        "var_b = 1.0 # <<< Automatically detected as 'float'\n",
        "var_b = float(var_b)\n",
        "print(var_b)"
      ],
      "metadata": {
        "id": "pt0Atr1V5Rr-"
      },
      "execution_count": null,
      "outputs": []
    },
    {
      "cell_type": "code",
      "source": [
        "# Char or String\n",
        "var_c = \"Maroon Labkom\" # <<< Automatically detected as 'str'\n",
        "var_c = str(var_c)\n",
        "print(var_c)"
      ],
      "metadata": {
        "id": "Z9JdKuhq5Pyu"
      },
      "execution_count": null,
      "outputs": []
    },
    {
      "cell_type": "code",
      "source": [
        "# Boolean\n",
        "var_d = True # <<< 'True' not 'true'\n",
        "var_e = False # <<< 'False' not 'false'\n",
        "print(var_d)\n",
        "print(var_e)"
      ],
      "metadata": {
        "id": "xMYN1j0T5Ola"
      },
      "execution_count": null,
      "outputs": []
    },
    {
      "cell_type": "code",
      "source": [
        "# Variable handler\n",
        "var_f = '' # <<< Automatically detected as 'str'\n",
        "var_f = 1 # <<< Automatically detected as 'int'\n",
        "var_f = 1.0 # <<< Automatically detected as 'float'\n",
        "var_f = True # <<< Automatically detected as 'bool'\n",
        "print(var_f) # At the end, 'var_f' is boolean"
      ],
      "metadata": {
        "id": "j1idtVQM5M7_"
      },
      "execution_count": null,
      "outputs": []
    },
    {
      "cell_type": "code",
      "source": [
        "# Assign multiple\n",
        "x, y, z = 1, 2, 3 # <<< x = 1, y = 2, z = 3\n",
        "print(x + y + z) # 1 + 2 + 3"
      ],
      "metadata": {
        "id": "Hq9zWlJy5LMd"
      },
      "execution_count": null,
      "outputs": []
    },
    {
      "cell_type": "code",
      "source": [
        "# Global scope\n",
        "name = \"Maroon Labkom\" # <<< This is global\n",
        "print(name)\n",
        "def printName():\n",
        "  print(name) # <<< This will call 'name' variable from line 35\n",
        "# ^ Don't forget to add spaces! (2 or 4)"
      ],
      "metadata": {
        "id": "e8coHikS5KQ1"
      },
      "execution_count": null,
      "outputs": []
    },
    {
      "cell_type": "code",
      "source": [
        "# Local scope\n",
        "def setVariable():\n",
        "  a = 1\n",
        "print(a) # <<< You can't print 'a' variable because 'a' is on another scope"
      ],
      "metadata": {
        "colab": {
          "base_uri": "https://localhost:8080/",
          "height": 200
        },
        "id": "ElUo_zOx493c",
        "outputId": "7029094b-2b59-48e9-d917-aacc2c0d8be8"
      },
      "execution_count": null,
      "outputs": [
        {
          "output_type": "error",
          "ename": "NameError",
          "evalue": "ignored",
          "traceback": [
            "\u001b[0;31m---------------------------------------------------------------------------\u001b[0m",
            "\u001b[0;31mNameError\u001b[0m                                 Traceback (most recent call last)",
            "\u001b[0;32m<ipython-input-58-8e4c37d69f72>\u001b[0m in \u001b[0;36m<module>\u001b[0;34m\u001b[0m\n\u001b[1;32m      2\u001b[0m \u001b[0;32mdef\u001b[0m \u001b[0msetVariable\u001b[0m\u001b[0;34m(\u001b[0m\u001b[0;34m)\u001b[0m\u001b[0;34m:\u001b[0m\u001b[0;34m\u001b[0m\u001b[0;34m\u001b[0m\u001b[0m\n\u001b[1;32m      3\u001b[0m   \u001b[0ma\u001b[0m \u001b[0;34m=\u001b[0m \u001b[0;36m1\u001b[0m\u001b[0;34m\u001b[0m\u001b[0;34m\u001b[0m\u001b[0m\n\u001b[0;32m----> 4\u001b[0;31m \u001b[0mprint\u001b[0m\u001b[0;34m(\u001b[0m\u001b[0ma\u001b[0m\u001b[0;34m)\u001b[0m \u001b[0;31m# <<< You can't print 'a' variable because 'a' is on another scope\u001b[0m\u001b[0;34m\u001b[0m\u001b[0;34m\u001b[0m\u001b[0m\n\u001b[0m",
            "\u001b[0;31mNameError\u001b[0m: name 'a' is not defined"
          ]
        }
      ]
    },
    {
      "cell_type": "markdown",
      "source": [
        "4. Data Structures - List\n",
        "</br>Lists are used to store multiple items in a single variable. Lists are created using square brackets."
      ],
      "metadata": {
        "id": "6MaiFwjH58wU"
      }
    },
    {
      "cell_type": "code",
      "source": [
        "# List []\n",
        "names = ['Adam', 'Yoga', 'Akbar', 'Reyhan', 'Fauzan', 'Faradila', 'Devy', 'Bila']\n",
        "print(names)"
      ],
      "metadata": {
        "id": "wdSdLITk56Tt"
      },
      "execution_count": null,
      "outputs": []
    },
    {
      "cell_type": "code",
      "source": [
        "# Print index 0\n",
        "print(names[0]) # <<< Return string 'Adam'"
      ],
      "metadata": {
        "id": "FnigIP037AXl"
      },
      "execution_count": null,
      "outputs": []
    },
    {
      "cell_type": "code",
      "source": [
        "# Print latest value from list\n",
        "print(names[-1]) # <<< Return string 'Bila'"
      ],
      "metadata": {
        "id": "OQTwcpZL7Oq4"
      },
      "execution_count": null,
      "outputs": []
    },
    {
      "cell_type": "code",
      "source": [
        "# Print (latest - 1)  value from list\n",
        "print(names[-2]) # <<< Return string 'Devy'"
      ],
      "metadata": {
        "id": "mx2jmSOv7hxS"
      },
      "execution_count": null,
      "outputs": []
    },
    {
      "cell_type": "code",
      "source": [
        "# Sort ascending the list using sort()\n",
        "names.sort()\n",
        "print(names)"
      ],
      "metadata": {
        "id": "sSCaZj9a7u5T"
      },
      "execution_count": null,
      "outputs": []
    },
    {
      "cell_type": "code",
      "source": [
        "# Sort descending the list using sort()\n",
        "names.sort(reverse = True)\n",
        "print(names)"
      ],
      "metadata": {
        "id": "PQ6qZd228AZG"
      },
      "execution_count": null,
      "outputs": []
    },
    {
      "cell_type": "code",
      "source": [
        "# Add data to end of the list\n",
        "names.append('New Member?')\n",
        "print(names)"
      ],
      "metadata": {
        "id": "bvzqnE_L8LWv"
      },
      "execution_count": null,
      "outputs": []
    },
    {
      "cell_type": "code",
      "source": [
        "# Delete latest data from the list\n",
        "names.pop()\n",
        "print(names)"
      ],
      "metadata": {
        "id": "Ka5l84W78VFh"
      },
      "execution_count": null,
      "outputs": []
    },
    {
      "cell_type": "code",
      "source": [
        "# Delete data using index from the list\n",
        "names.pop(0) # <<< Delete 'Yoga' from the list\n",
        "print(names)"
      ],
      "metadata": {
        "id": "q8CGpDcL8hJq"
      },
      "execution_count": null,
      "outputs": []
    },
    {
      "cell_type": "code",
      "source": [
        "# Get length of the list\n",
        "print(len(names))"
      ],
      "metadata": {
        "id": "z_Msx230825f"
      },
      "execution_count": null,
      "outputs": []
    },
    {
      "cell_type": "code",
      "source": [
        "# Duplicate or Copy to new variable\n",
        "names_backup = names.copy()\n",
        "print(names_backup)"
      ],
      "metadata": {
        "id": "TPTzXkgX9P2p"
      },
      "execution_count": null,
      "outputs": []
    },
    {
      "cell_type": "code",
      "source": [
        "# Join two or more lists\n",
        "names_joined = names + names_backup\n",
        "print(names_joined)"
      ],
      "metadata": {
        "id": "RFP5FLFY9kn8"
      },
      "execution_count": null,
      "outputs": []
    },
    {
      "cell_type": "code",
      "source": [
        "print(names)\n",
        "# Item 1 = index 0 = 'Reyhan'\n",
        "# Item 2 = index 1 = 'Fauzan'\n",
        "# Item 3 = index 2 = 'Faradilla'\n",
        "# Item 4 = index 3 = 'Devy'\n",
        "# Item 5 = index 4 = 'Bila'\n",
        "# Item 6 = index 5 = 'Akbar'\n",
        "# Item 7 = index 6 = 'Adam'\n",
        "print(names[0:3]) # <<< Print values from index 0 to item 3, the first num represent index, the second one represent item"
      ],
      "metadata": {
        "id": "-Tj45vUP-ONS"
      },
      "execution_count": null,
      "outputs": []
    },
    {
      "cell_type": "markdown",
      "source": [
        "5. Data Structures - Tupple\n",
        "</br>Tuples are used to store multiple items in a single variable. A tuple is a collection which is ordered and unchangeable. Tuples are written with round brackets."
      ],
      "metadata": {
        "id": "XWO4YGHA9wtV"
      }
    },
    {
      "cell_type": "code",
      "source": [
        "# Tupple ()\n",
        "names = ('Adam', 'Yoga', 'Akbar', 'Reyhan', 'Fauzan', 'Faradila', 'Devy', 'Bila')\n",
        "print(names)"
      ],
      "metadata": {
        "id": "KI5NBAgs_bAc"
      },
      "execution_count": null,
      "outputs": []
    },
    {
      "cell_type": "code",
      "source": [
        "# Print index 0\n",
        "print(names[0]) # <<< Return string 'Adam'"
      ],
      "metadata": {
        "id": "mEWwvq_7AA6C"
      },
      "execution_count": null,
      "outputs": []
    },
    {
      "cell_type": "code",
      "source": [
        "# Print latest value from list\n",
        "print(names[-1]) # <<< Return string 'Bila'"
      ],
      "metadata": {
        "id": "ch2jv-SEAFOI"
      },
      "execution_count": null,
      "outputs": []
    },
    {
      "cell_type": "code",
      "source": [
        "# Print (latest - 1)  value from list\n",
        "print(names[-2]) # <<< Return string 'Devy'"
      ],
      "metadata": {
        "id": "PxDbmooyAJQK"
      },
      "execution_count": null,
      "outputs": []
    },
    {
      "cell_type": "code",
      "source": [
        "# Add data to tuple, convert to list, then make it tuple again\n",
        "names_to_list = list(names)\n",
        "names_to_list.append('New Member?')\n",
        "names = tuple(names_to_list)\n",
        "print(names)"
      ],
      "metadata": {
        "id": "_3qI29tYAwLQ"
      },
      "execution_count": null,
      "outputs": []
    },
    {
      "cell_type": "markdown",
      "source": [
        "6. Data Structures - Set\n",
        "</br>Sets are used to store multiple items in a single variable. Sets are used to store multiple items in a single variable."
      ],
      "metadata": {
        "id": "hbr28B_OBrSX"
      }
    },
    {
      "cell_type": "code",
      "source": [
        "# Set {}\n",
        "names = {'Adam', 'Yoga', 'Akbar', 'Reyhan', 'Fauzan', 'Faradila', 'Devy', 'Bila'}\n",
        "print(names)"
      ],
      "metadata": {
        "id": "EaJLgpyzB38Y"
      },
      "execution_count": null,
      "outputs": []
    },
    {
      "cell_type": "code",
      "source": [
        "# Call value from set\n",
        "print(names[0]) # <<< You can't print value from set with index! :("
      ],
      "metadata": {
        "id": "wy-WL5JpB8YK"
      },
      "execution_count": null,
      "outputs": []
    },
    {
      "cell_type": "code",
      "source": [
        "# Call values from set\n",
        "for name in names:\n",
        "  print(name)"
      ],
      "metadata": {
        "id": "Ie6VHU0ECNWO"
      },
      "execution_count": null,
      "outputs": []
    },
    {
      "cell_type": "code",
      "source": [
        "# Add data to set\n",
        "names.add('New Member?')\n",
        "\n",
        "# Call values from set again\n",
        "for name in names:\n",
        "  print(name)"
      ],
      "metadata": {
        "id": "KPE9HU-jCnTA"
      },
      "execution_count": null,
      "outputs": []
    },
    {
      "cell_type": "code",
      "source": [
        "# Remove data from the set\n",
        "names.remove('Adam')\n",
        "print(names)"
      ],
      "metadata": {
        "id": "xfJer83qDAF0"
      },
      "execution_count": null,
      "outputs": []
    },
    {
      "cell_type": "code",
      "source": [
        "# Join sets\n",
        "names_copy = {'Adam'}\n",
        "names_joined = names.union(names_copy)\n",
        "print(names_joined)"
      ],
      "metadata": {
        "id": "vaGHSh4LDQdM"
      },
      "execution_count": null,
      "outputs": []
    },
    {
      "cell_type": "markdown",
      "source": [
        "7. Data Structures - Dictionaries\n",
        "</br>Dictionaries are used to store data values in key:value pairs. A dictionary is a collection which is ordered*, changeable and do not allow duplicates. Dictionaries are like JavaScript Object Notation (JSON)"
      ],
      "metadata": {
        "id": "wnPRlgy9D6r9"
      }
    },
    {
      "cell_type": "code",
      "source": [
        "# Dictionary\n",
        "maroonlabkom_member_1 = {\n",
        "    'name': 'Adam',\n",
        "    'region': 'Bogor'\n",
        "}\n",
        "\n",
        "maroonlabkom_member_2 = {\n",
        "    'name': 'Prayoga',\n",
        "    'region': 'Depok'\n",
        "}\n",
        "\n",
        "print(maroonlabkom_member_1)\n",
        "print(maroonlabkom_member_2)"
      ],
      "metadata": {
        "id": "JdEUdtbpD58z"
      },
      "execution_count": null,
      "outputs": []
    },
    {
      "cell_type": "code",
      "source": [
        "# Dictionary to list\n",
        "list_members_name = list()\n",
        "list_members_name.append(maroonlabkom_member_1.get('name'))\n",
        "list_members_name.append(maroonlabkom_member_2.get('name'))\n",
        "print(list_members_name)"
      ],
      "metadata": {
        "id": "ZxDkaeWCEiRX"
      },
      "execution_count": null,
      "outputs": []
    },
    {
      "cell_type": "code",
      "source": [
        "# Get keys from dict\n",
        "maroonlabkom_member_1.keys()"
      ],
      "metadata": {
        "id": "zE_rc1_dFVQx"
      },
      "execution_count": null,
      "outputs": []
    },
    {
      "cell_type": "code",
      "source": [
        "# Change value by key\n",
        "maroonlabkom_member_1['name'] = 'Dila'\n",
        "maroonlabkom_member_2['name'] = 'Bila'\n",
        "print(maroonlabkom_member_1)\n",
        "print(maroonlabkom_member_2)"
      ],
      "metadata": {
        "id": "Nmf5IBb9FmaH"
      },
      "execution_count": null,
      "outputs": []
    },
    {
      "cell_type": "code",
      "source": [
        "# Change value using update() method\n",
        "maroonlabkom_member_1.update({'name': 'Akbar'})\n",
        "maroonlabkom_member_2.update({'name': 'Reyhan'})\n",
        "print(maroonlabkom_member_1)\n",
        "print(maroonlabkom_member_2)"
      ],
      "metadata": {
        "id": "oy1PiDMzF44y"
      },
      "execution_count": null,
      "outputs": []
    },
    {
      "cell_type": "code",
      "source": [
        "# Add key and value\n",
        "maroonlabkom_member_1['age'] = 17\n",
        "maroonlabkom_member_2['age'] = 21\n",
        "print(maroonlabkom_member_1)\n",
        "print(maroonlabkom_member_2)"
      ],
      "metadata": {
        "id": "JqfbNFodGQul"
      },
      "execution_count": null,
      "outputs": []
    },
    {
      "cell_type": "code",
      "source": [
        "# Remove key and value\n",
        "maroonlabkom_member_1.pop('age')\n",
        "maroonlabkom_member_2.pop('age')\n",
        "print(maroonlabkom_member_1)\n",
        "print(maroonlabkom_member_2)"
      ],
      "metadata": {
        "id": "DrbE3i0qGePv"
      },
      "execution_count": null,
      "outputs": []
    },
    {
      "cell_type": "code",
      "source": [
        "# Print keys from dict\n",
        "for key in maroonlabkom_member_1.keys():\n",
        "  print(key)"
      ],
      "metadata": {
        "id": "mnfvm17yHCUj"
      },
      "execution_count": null,
      "outputs": []
    },
    {
      "cell_type": "code",
      "source": [
        "# Print values from dict\n",
        "for value in maroonlabkom_member_1.values():\n",
        "  print(value)"
      ],
      "metadata": {
        "id": "_1wqxAIFG0t6"
      },
      "execution_count": null,
      "outputs": []
    },
    {
      "cell_type": "code",
      "source": [
        "# Copy to new variable\n",
        "maroonlabkom_member_3 = maroonlabkom_member_1\n",
        "print(maroonlabkom_member_3)"
      ],
      "metadata": {
        "id": "VdFeicVyHmeh"
      },
      "execution_count": null,
      "outputs": []
    },
    {
      "cell_type": "code",
      "source": [
        "# Nested dictionary\n",
        "maroon_19 = {\n",
        "    'member1' : {\n",
        "        'name': 'Devy'\n",
        "    },\n",
        "    'member2' : {\n",
        "        'name': 'Reyhan'\n",
        "    }\n",
        "}\n",
        "print(maroon_19)"
      ],
      "metadata": {
        "id": "OKfRZTtdHxST"
      },
      "execution_count": null,
      "outputs": []
    },
    {
      "cell_type": "code",
      "source": [
        "# Add new item to nested dictionary\n",
        "maroon_19['member3'] = {'name': 'Adam'}\n",
        "print(maroon_19)"
      ],
      "metadata": {
        "id": "ES_tbJgKIHTu"
      },
      "execution_count": null,
      "outputs": []
    },
    {
      "cell_type": "code",
      "source": [
        "# Update item nested dictionary\n",
        "maroon_19.update({'member3': {'name': 'Fauzan'}})\n",
        "print(maroon_19)"
      ],
      "metadata": {
        "colab": {
          "base_uri": "https://localhost:8080/"
        },
        "id": "OoebLky_I9aU",
        "outputId": "4d76dc49-e2c6-43eb-ca94-f0d81886c3d0"
      },
      "execution_count": null,
      "outputs": [
        {
          "output_type": "stream",
          "name": "stdout",
          "text": [
            "{'member1': {'name': 'Devy'}, 'member2': {'name': 'Reyhan'}, 'member3': {'name': 'Fauzan'}}\n"
          ]
        }
      ]
    },
    {
      "cell_type": "code",
      "source": [
        "# Remove item from nested dictionary\n",
        "maroon_19.pop('member3')\n",
        "print(maroon_19)"
      ],
      "metadata": {
        "id": "SPxEDf6qJPUW"
      },
      "execution_count": null,
      "outputs": []
    },
    {
      "cell_type": "markdown",
      "source": [
        "6. Conditions and If statement"
      ],
      "metadata": {
        "id": "ZZEQdwklJ7b8"
      }
    },
    {
      "cell_type": "code",
      "source": [
        "# Greater using >\n",
        "a = 33\n",
        "b = 200\n",
        "if b > a:\n",
        "  print(\"b is greater than a\")\n",
        "# ^ Look at the spaces!"
      ],
      "metadata": {
        "colab": {
          "base_uri": "https://localhost:8080/"
        },
        "id": "EnR6W6avKHcO",
        "outputId": "4318f7f9-1918-4037-e444-344fa523f0f2"
      },
      "execution_count": null,
      "outputs": [
        {
          "output_type": "stream",
          "name": "stdout",
          "text": [
            "b is greater than a\n"
          ]
        }
      ]
    },
    {
      "cell_type": "code",
      "source": [
        "# Greater using >\n",
        "a = 33\n",
        "b = 200\n",
        "if b > a:\n",
        "print(\"b is greater than a\")\n",
        "# ^ This will return error!"
      ],
      "metadata": {
        "id": "kBpnJCgwKTmf"
      },
      "execution_count": null,
      "outputs": []
    },
    {
      "cell_type": "markdown",
      "source": [
        "7. Loops - While"
      ],
      "metadata": {
        "id": "yEqdhAOvKeGx"
      }
    },
    {
      "cell_type": "code",
      "source": [
        "i = 1\n",
        "while i < 6:\n",
        "  print(i)\n",
        "  i += 1"
      ],
      "metadata": {
        "id": "mkJB2P16KiTp"
      },
      "execution_count": null,
      "outputs": []
    },
    {
      "cell_type": "code",
      "source": [
        "# With break statement\n",
        "i = 1\n",
        "while i < 6:\n",
        "  print(i)\n",
        "  if i == 3:\n",
        "    break\n",
        "  i += 1"
      ],
      "metadata": {
        "id": "Kmxwb_4rKoWy"
      },
      "execution_count": null,
      "outputs": []
    },
    {
      "cell_type": "markdown",
      "source": [
        "8. Loops - For"
      ],
      "metadata": {
        "id": "OllHVVYJK62A"
      }
    },
    {
      "cell_type": "code",
      "source": [
        "# List []\n",
        "names = ['Adam', 'Yoga', 'Akbar', 'Reyhan', 'Fauzan', 'Faradila', 'Devy', 'Bila']\n",
        "\n",
        "for name in names:\n",
        "  print(name)"
      ],
      "metadata": {
        "id": "8wWn1gg0K50M"
      },
      "execution_count": null,
      "outputs": []
    },
    {
      "cell_type": "code",
      "source": [
        "# Print single character from Labkom\n",
        "name = \"Labkom\"\n",
        "\n",
        "for char in name:\n",
        "  print(char)"
      ],
      "metadata": {
        "id": "HKcvMc0GLGgI"
      },
      "execution_count": null,
      "outputs": []
    },
    {
      "cell_type": "markdown",
      "source": [
        "9. Function"
      ],
      "metadata": {
        "id": "v_GVUN3BLUzg"
      }
    },
    {
      "cell_type": "code",
      "source": [
        "# Get user input\n",
        "var = input()\n",
        "\n",
        "def greeter():\n",
        "  print('Hello ' + var + ', how are you?')\n",
        "\n",
        "# Call the function\n",
        "greeter()"
      ],
      "metadata": {
        "id": "jYEhcI-JLYHA"
      },
      "execution_count": null,
      "outputs": []
    },
    {
      "cell_type": "markdown",
      "source": [
        "10. Object Oriented / Class"
      ],
      "metadata": {
        "id": "PIKAxKmHLlrz"
      }
    },
    {
      "cell_type": "code",
      "source": [
        "# Maroon as Object or Class\n",
        "class Maroon:\n",
        "\n",
        "  # Constructor\n",
        "  def __init__(self, name, region, age):\n",
        "    self.name = name\n",
        "    self.region = region\n",
        "    self.age = age\n",
        "\n",
        "member1 = Maroon(\"Yoga\", 'Bogor', 21)\n",
        "\n",
        "print(member1.name)"
      ],
      "metadata": {
        "colab": {
          "base_uri": "https://localhost:8080/"
        },
        "id": "qATcvjBXLoYL",
        "outputId": "00bf3c18-b8eb-4476-ba37-27427f910199"
      },
      "execution_count": null,
      "outputs": [
        {
          "output_type": "stream",
          "name": "stdout",
          "text": [
            "Yoga\n"
          ]
        }
      ]
    },
    {
      "cell_type": "markdown",
      "source": [
        "# Whoaa! you reach the bottom of this course, thank you! </br>"
      ],
      "metadata": {
        "id": "Q-GAjU1GMF0Q"
      }
    }
  ]
}