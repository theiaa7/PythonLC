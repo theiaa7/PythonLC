{
  "nbformat": 4,
  "nbformat_minor": 0,
  "metadata": {
    "colab": {
      "provenance": [],
      "include_colab_link": true
    },
    "kernelspec": {
      "name": "python3",
      "display_name": "Python 3"
    },
    "language_info": {
      "name": "python"
    }
  },
  "cells": [
    {
      "cell_type": "markdown",
      "metadata": {
        "id": "view-in-github",
        "colab_type": "text"
      },
      "source": [
        "<a href=\"https://colab.research.google.com/github/theiaa7/PythonLC/blob/main/P2_Data_Cleansing_text_Sample.ipynb\" target=\"_parent\"><img src=\"https://colab.research.google.com/assets/colab-badge.svg\" alt=\"Open In Colab\"/></a>"
      ]
    },
    {
      "cell_type": "code",
      "execution_count": null,
      "metadata": {
        "id": "clihAZzCuIJt"
      },
      "outputs": [],
      "source": [
        "# It is defined by the kaggle/python Docker image: https://github.com/kaggle/docker-python\n",
        "\n",
        "import numpy as np # pemakaian linear algebra\n",
        "import pandas as pd # data processing, CSV file I/O (e.g. pd.read_csv)\n",
        "from tqdm import tqdm # looping\n",
        "\n",
        "pd.options.display.max_colwidth = 200 #max display lebar dari column nya\n",
        "\n",
        "import warnings\n",
        "warnings.filterwarnings('ignore')"
      ]
    },
    {
      "cell_type": "markdown",
      "source": [
        "# Contents\n",
        "\n",
        "*   Read the dataset (corpus)\n",
        "*   Data Cleaning\n"
      ],
      "metadata": {
        "id": "k6xDcOEVum9Y"
      }
    },
    {
      "cell_type": "markdown",
      "source": [
        "# Read the Dataset\n",
        "Dataset link : https://www.kaggle.com/c/medical-notes/data. /- https://www.mtsamples.com/"
      ],
      "metadata": {
        "id": "zstbRXUo0YCf"
      }
    },
    {
      "cell_type": "code",
      "source": [
        "from google.colab import files\n",
        "uploaded = files.upload()"
      ],
      "metadata": {
        "colab": {
          "base_uri": "https://localhost:8080/",
          "height": 73
        },
        "id": "CnOux-NzzQyZ",
        "outputId": "45d85931-c099-4910-e54d-2a8dd619ae18"
      },
      "execution_count": null,
      "outputs": [
        {
          "output_type": "display_data",
          "data": {
            "text/plain": [
              "<IPython.core.display.HTML object>"
            ],
            "text/html": [
              "\n",
              "     <input type=\"file\" id=\"files-5a99bf54-c3c0-488b-bb36-47f44ac8322e\" name=\"files[]\" multiple disabled\n",
              "        style=\"border:none\" />\n",
              "     <output id=\"result-5a99bf54-c3c0-488b-bb36-47f44ac8322e\">\n",
              "      Upload widget is only available when the cell has been executed in the\n",
              "      current browser session. Please rerun this cell to enable.\n",
              "      </output>\n",
              "      <script>// Copyright 2017 Google LLC\n",
              "//\n",
              "// Licensed under the Apache License, Version 2.0 (the \"License\");\n",
              "// you may not use this file except in compliance with the License.\n",
              "// You may obtain a copy of the License at\n",
              "//\n",
              "//      http://www.apache.org/licenses/LICENSE-2.0\n",
              "//\n",
              "// Unless required by applicable law or agreed to in writing, software\n",
              "// distributed under the License is distributed on an \"AS IS\" BASIS,\n",
              "// WITHOUT WARRANTIES OR CONDITIONS OF ANY KIND, either express or implied.\n",
              "// See the License for the specific language governing permissions and\n",
              "// limitations under the License.\n",
              "\n",
              "/**\n",
              " * @fileoverview Helpers for google.colab Python module.\n",
              " */\n",
              "(function(scope) {\n",
              "function span(text, styleAttributes = {}) {\n",
              "  const element = document.createElement('span');\n",
              "  element.textContent = text;\n",
              "  for (const key of Object.keys(styleAttributes)) {\n",
              "    element.style[key] = styleAttributes[key];\n",
              "  }\n",
              "  return element;\n",
              "}\n",
              "\n",
              "// Max number of bytes which will be uploaded at a time.\n",
              "const MAX_PAYLOAD_SIZE = 100 * 1024;\n",
              "\n",
              "function _uploadFiles(inputId, outputId) {\n",
              "  const steps = uploadFilesStep(inputId, outputId);\n",
              "  const outputElement = document.getElementById(outputId);\n",
              "  // Cache steps on the outputElement to make it available for the next call\n",
              "  // to uploadFilesContinue from Python.\n",
              "  outputElement.steps = steps;\n",
              "\n",
              "  return _uploadFilesContinue(outputId);\n",
              "}\n",
              "\n",
              "// This is roughly an async generator (not supported in the browser yet),\n",
              "// where there are multiple asynchronous steps and the Python side is going\n",
              "// to poll for completion of each step.\n",
              "// This uses a Promise to block the python side on completion of each step,\n",
              "// then passes the result of the previous step as the input to the next step.\n",
              "function _uploadFilesContinue(outputId) {\n",
              "  const outputElement = document.getElementById(outputId);\n",
              "  const steps = outputElement.steps;\n",
              "\n",
              "  const next = steps.next(outputElement.lastPromiseValue);\n",
              "  return Promise.resolve(next.value.promise).then((value) => {\n",
              "    // Cache the last promise value to make it available to the next\n",
              "    // step of the generator.\n",
              "    outputElement.lastPromiseValue = value;\n",
              "    return next.value.response;\n",
              "  });\n",
              "}\n",
              "\n",
              "/**\n",
              " * Generator function which is called between each async step of the upload\n",
              " * process.\n",
              " * @param {string} inputId Element ID of the input file picker element.\n",
              " * @param {string} outputId Element ID of the output display.\n",
              " * @return {!Iterable<!Object>} Iterable of next steps.\n",
              " */\n",
              "function* uploadFilesStep(inputId, outputId) {\n",
              "  const inputElement = document.getElementById(inputId);\n",
              "  inputElement.disabled = false;\n",
              "\n",
              "  const outputElement = document.getElementById(outputId);\n",
              "  outputElement.innerHTML = '';\n",
              "\n",
              "  const pickedPromise = new Promise((resolve) => {\n",
              "    inputElement.addEventListener('change', (e) => {\n",
              "      resolve(e.target.files);\n",
              "    });\n",
              "  });\n",
              "\n",
              "  const cancel = document.createElement('button');\n",
              "  inputElement.parentElement.appendChild(cancel);\n",
              "  cancel.textContent = 'Cancel upload';\n",
              "  const cancelPromise = new Promise((resolve) => {\n",
              "    cancel.onclick = () => {\n",
              "      resolve(null);\n",
              "    };\n",
              "  });\n",
              "\n",
              "  // Wait for the user to pick the files.\n",
              "  const files = yield {\n",
              "    promise: Promise.race([pickedPromise, cancelPromise]),\n",
              "    response: {\n",
              "      action: 'starting',\n",
              "    }\n",
              "  };\n",
              "\n",
              "  cancel.remove();\n",
              "\n",
              "  // Disable the input element since further picks are not allowed.\n",
              "  inputElement.disabled = true;\n",
              "\n",
              "  if (!files) {\n",
              "    return {\n",
              "      response: {\n",
              "        action: 'complete',\n",
              "      }\n",
              "    };\n",
              "  }\n",
              "\n",
              "  for (const file of files) {\n",
              "    const li = document.createElement('li');\n",
              "    li.append(span(file.name, {fontWeight: 'bold'}));\n",
              "    li.append(span(\n",
              "        `(${file.type || 'n/a'}) - ${file.size} bytes, ` +\n",
              "        `last modified: ${\n",
              "            file.lastModifiedDate ? file.lastModifiedDate.toLocaleDateString() :\n",
              "                                    'n/a'} - `));\n",
              "    const percent = span('0% done');\n",
              "    li.appendChild(percent);\n",
              "\n",
              "    outputElement.appendChild(li);\n",
              "\n",
              "    const fileDataPromise = new Promise((resolve) => {\n",
              "      const reader = new FileReader();\n",
              "      reader.onload = (e) => {\n",
              "        resolve(e.target.result);\n",
              "      };\n",
              "      reader.readAsArrayBuffer(file);\n",
              "    });\n",
              "    // Wait for the data to be ready.\n",
              "    let fileData = yield {\n",
              "      promise: fileDataPromise,\n",
              "      response: {\n",
              "        action: 'continue',\n",
              "      }\n",
              "    };\n",
              "\n",
              "    // Use a chunked sending to avoid message size limits. See b/62115660.\n",
              "    let position = 0;\n",
              "    do {\n",
              "      const length = Math.min(fileData.byteLength - position, MAX_PAYLOAD_SIZE);\n",
              "      const chunk = new Uint8Array(fileData, position, length);\n",
              "      position += length;\n",
              "\n",
              "      const base64 = btoa(String.fromCharCode.apply(null, chunk));\n",
              "      yield {\n",
              "        response: {\n",
              "          action: 'append',\n",
              "          file: file.name,\n",
              "          data: base64,\n",
              "        },\n",
              "      };\n",
              "\n",
              "      let percentDone = fileData.byteLength === 0 ?\n",
              "          100 :\n",
              "          Math.round((position / fileData.byteLength) * 100);\n",
              "      percent.textContent = `${percentDone}% done`;\n",
              "\n",
              "    } while (position < fileData.byteLength);\n",
              "  }\n",
              "\n",
              "  // All done.\n",
              "  yield {\n",
              "    response: {\n",
              "      action: 'complete',\n",
              "    }\n",
              "  };\n",
              "}\n",
              "\n",
              "scope.google = scope.google || {};\n",
              "scope.google.colab = scope.google.colab || {};\n",
              "scope.google.colab._files = {\n",
              "  _uploadFiles,\n",
              "  _uploadFilesContinue,\n",
              "};\n",
              "})(self);\n",
              "</script> "
            ]
          },
          "metadata": {}
        },
        {
          "output_type": "stream",
          "name": "stdout",
          "text": [
            "Saving Cleaned_POS_Medical_Notes.csv to Cleaned_POS_Medical_Notes.csv\n"
          ]
        }
      ]
    },
    {
      "cell_type": "code",
      "source": [
        "import io\n",
        "df = pd.read_csv(io.StringIO(uploaded['Cleaned_POS_Medical_Notes.csv'].decode('utf-8')))\n",
        "# io.StringIO, ngubah semua character yang ada di filenya menjadi string jadi data ini text-only data\n",
        "# decode('utf-8') ini buat decoder kode universal untuk internasionalisasi dan mampu mengodekan seluruh set karakter Unicode\n",
        "df"
      ],
      "metadata": {
        "colab": {
          "base_uri": "https://localhost:8080/",
          "height": 1000
        },
        "id": "IeXBDR42zl73",
        "outputId": "449fba4c-1782-4660-92c8-ec35a6d603d8"
      },
      "execution_count": null,
      "outputs": [
        {
          "output_type": "execute_result",
          "data": {
            "text/plain": [
              "                                                                                                                                                                                                        text  \\\n",
              "0    \\n \\n \\n \\n \\n <B>CC:</B> Difficulty with word finding.\\n \\n <B>HX: </B>This 27y/o RHF experienced sudden onset word finding difficulty and slurred speech on the evening of 2/19/96. She denied any...   \n",
              "1    \\n \\n \\n \\n \\n <B>PREOPERATIVE DIAGNOSIS: </B> Ganglion of the left wrist.\\n \\n <B>POSTOPERATIVE DIAGNOSIS: </B> Ganglion of the left wrist.\\n \\n <B>OPERATION: </B> Excision of ganglion.\\n \\n <B>A...   \n",
              "2    \\n \\n \\n \\n \\n <B>PREOPERATIVE DIAGNOSIS: </B> Cervical myelopathy, C3-4, secondary to stenosis from herniated nucleus pulposus, C3-4.\\n \\n <B>POSTOPERATIVE DIAGNOSES: </B> Cervical myelopathy, C3...   \n",
              "3    \\n \\n \\n \\n \\n <B>EXAM:</B>MRI LEFT SHOULDER\\n \\n <B>CLINICAL:</B>This is a 69-year-old male with pain in the shoulder. Evaluate for rotator cuff tear.\\n \\n <B>FINDINGS:</B>\\n \\n Examination was p...   \n",
              "4    \\n \\n \\n \\n \\n <B>HISTORY OF PRESENT ILLNESS: </B> The patient is a 57-year-old female being seen today for evaluation of pain and symptoms related to a recurrent bunion deformity in bilateral fee...   \n",
              "..                                                                                                                                                                                                       ...   \n",
              "813  \\n \\n \\n \\n \\n <B>EXAM: </B> CT chest with contrast.\\n \\n <B>HISTORY: </B> Abnormal chest x-ray, which demonstrated a region of consolidation versus mass in the right upper lobe.\\n \\n <B>TECHNIQUE...   \n",
              "814  \\n \\n \\n \\n \\n <B>CC:</B> Episodic mental status change and RUE numbness, and chorea (found on exam).\\n \\n <B>HX:</B> This 78y/o RHM was referred for an episode of unusual behavior and RUE numbnes...   \n",
              "815  \\n \\n \\n \\n \\n <B>PROCEDURE IN DETAIL: </B> Following premedication with Vistaril 50 mg and Atropine 0.4 mg IM, the patient received Versed 5.0 mg intravenously after Cetacaine spray to the poster...   \n",
              "816  \\n \\n \\n \\n \\n <B>REASON FOR VISIT: </B> Overactive bladder with microscopic hematuria.\\n \\n <B>HISTORY OF PRESENT ILLNESS: </B> The patient is a 56-year-old noted to have microscopic hematuria wi...   \n",
              "817  \\n \\n \\n \\n \\n <B>HISTORY:</B>  The patient is a 46-year-old right-handed gentleman with a past medical history of a left L5-S1 lumbar microdiskectomy in 1998 with complete resolution of left leg ...   \n",
              "\n",
              "                label  \\\n",
              "0           Neurology   \n",
              "1          Orthopedic   \n",
              "2          Orthopedic   \n",
              "3           Radiology   \n",
              "4          Orthopedic   \n",
              "..                ...   \n",
              "813         Radiology   \n",
              "814         Radiology   \n",
              "815  Gastroenterology   \n",
              "816           Urology   \n",
              "817         Neurology   \n",
              "\n",
              "                                                                                                                                                                                                  clean_text  \n",
              "0    difficulty word find . rhf experience sudden onset word find difficulty slurred speech evening 2/19/96 . deny associate dysphagia , diplopia , numbness weakness extremity . go sleep symptom 2/19/9...  \n",
              "1    preoperative ganglion left wrist . postoperative ganglion left wrist . excision ganglion . general . estimate blood less 5 ml . successful anesthetic , patient position operating table . tournique...  \n",
              "2    preoperative cervical myelopathy , c3 - 4 , secondary stenosis herniated nucleus pulposus , c3 - 4 . postoperative cervical myelopathy , c3 - 4 , secondary stenosis herniated nucleus pulposus , c3...  \n",
              "3    mri leave shoulder 69-year - old male pain shoulder . evaluate rotator cuff tear . examination perform 9/1/05 . mark supraspinatus tendinosis extensive tearing substance tendon articular surface ,...  \n",
              "4    history present patient 57-year - old female see today evaluation pain symptom relate recurrent bunion deformity bilateral foot , great leave . patient state increase symptom pain discomfort assoc...  \n",
              "..                                                                                                                                                                                                       ...  \n",
              "813  ct chest contrast . abnormal chest x - ray , demonstrate region consolidation mass right upper lobe . post contrast - enhance spiral image obtain chest . several , discrete , patchy air - space op...  \n",
              "814  episodic mental status change numbness , chorea find exam . 78y rhm refer episode unusual behavior numbness . 9/91 , experience loss consciousness , generalize weakness , headache vomiting . evalu...  \n",
              "815  procedure follow premedication vistaril 50 mg atropine 0.4 mg , patient receive versed 5.0 mg cetacaine spray posterior palate . olympus video gastroscope introduce upper esophagus pass direct vis...  \n",
              "816  reason overactive bladder microscopic hematuria . history present patient 56-year - old note microscopic hematuria overactive bladder . cystoscopy perform unremarkable . continue episode frequency...  \n",
              "817  patient 46-year - old right - handed gentleman medical history left l5-s1 lumbar microdiskectomy 1998 complete resolution left leg symptom , present four - month history gradual onset right - side...  \n",
              "\n",
              "[818 rows x 3 columns]"
            ],
            "text/html": [
              "\n",
              "  <div id=\"df-8931c32d-f4dc-4ff4-9e55-ba13e9a74e4e\">\n",
              "    <div class=\"colab-df-container\">\n",
              "      <div>\n",
              "<style scoped>\n",
              "    .dataframe tbody tr th:only-of-type {\n",
              "        vertical-align: middle;\n",
              "    }\n",
              "\n",
              "    .dataframe tbody tr th {\n",
              "        vertical-align: top;\n",
              "    }\n",
              "\n",
              "    .dataframe thead th {\n",
              "        text-align: right;\n",
              "    }\n",
              "</style>\n",
              "<table border=\"1\" class=\"dataframe\">\n",
              "  <thead>\n",
              "    <tr style=\"text-align: right;\">\n",
              "      <th></th>\n",
              "      <th>text</th>\n",
              "      <th>label</th>\n",
              "      <th>clean_text</th>\n",
              "    </tr>\n",
              "  </thead>\n",
              "  <tbody>\n",
              "    <tr>\n",
              "      <th>0</th>\n",
              "      <td>\\n \\n \\n \\n \\n &lt;B&gt;CC:&lt;/B&gt; Difficulty with word finding.\\n \\n &lt;B&gt;HX: &lt;/B&gt;This 27y/o RHF experienced sudden onset word finding difficulty and slurred speech on the evening of 2/19/96. She denied any...</td>\n",
              "      <td>Neurology</td>\n",
              "      <td>difficulty word find . rhf experience sudden onset word find difficulty slurred speech evening 2/19/96 . deny associate dysphagia , diplopia , numbness weakness extremity . go sleep symptom 2/19/9...</td>\n",
              "    </tr>\n",
              "    <tr>\n",
              "      <th>1</th>\n",
              "      <td>\\n \\n \\n \\n \\n &lt;B&gt;PREOPERATIVE DIAGNOSIS: &lt;/B&gt; Ganglion of the left wrist.\\n \\n &lt;B&gt;POSTOPERATIVE DIAGNOSIS: &lt;/B&gt; Ganglion of the left wrist.\\n \\n &lt;B&gt;OPERATION: &lt;/B&gt; Excision of ganglion.\\n \\n &lt;B&gt;A...</td>\n",
              "      <td>Orthopedic</td>\n",
              "      <td>preoperative ganglion left wrist . postoperative ganglion left wrist . excision ganglion . general . estimate blood less 5 ml . successful anesthetic , patient position operating table . tournique...</td>\n",
              "    </tr>\n",
              "    <tr>\n",
              "      <th>2</th>\n",
              "      <td>\\n \\n \\n \\n \\n &lt;B&gt;PREOPERATIVE DIAGNOSIS: &lt;/B&gt; Cervical myelopathy, C3-4, secondary to stenosis from herniated nucleus pulposus, C3-4.\\n \\n &lt;B&gt;POSTOPERATIVE DIAGNOSES: &lt;/B&gt; Cervical myelopathy, C3...</td>\n",
              "      <td>Orthopedic</td>\n",
              "      <td>preoperative cervical myelopathy , c3 - 4 , secondary stenosis herniated nucleus pulposus , c3 - 4 . postoperative cervical myelopathy , c3 - 4 , secondary stenosis herniated nucleus pulposus , c3...</td>\n",
              "    </tr>\n",
              "    <tr>\n",
              "      <th>3</th>\n",
              "      <td>\\n \\n \\n \\n \\n &lt;B&gt;EXAM:&lt;/B&gt;MRI LEFT SHOULDER\\n \\n &lt;B&gt;CLINICAL:&lt;/B&gt;This is a 69-year-old male with pain in the shoulder. Evaluate for rotator cuff tear.\\n \\n &lt;B&gt;FINDINGS:&lt;/B&gt;\\n \\n Examination was p...</td>\n",
              "      <td>Radiology</td>\n",
              "      <td>mri leave shoulder 69-year - old male pain shoulder . evaluate rotator cuff tear . examination perform 9/1/05 . mark supraspinatus tendinosis extensive tearing substance tendon articular surface ,...</td>\n",
              "    </tr>\n",
              "    <tr>\n",
              "      <th>4</th>\n",
              "      <td>\\n \\n \\n \\n \\n &lt;B&gt;HISTORY OF PRESENT ILLNESS: &lt;/B&gt; The patient is a 57-year-old female being seen today for evaluation of pain and symptoms related to a recurrent bunion deformity in bilateral fee...</td>\n",
              "      <td>Orthopedic</td>\n",
              "      <td>history present patient 57-year - old female see today evaluation pain symptom relate recurrent bunion deformity bilateral foot , great leave . patient state increase symptom pain discomfort assoc...</td>\n",
              "    </tr>\n",
              "    <tr>\n",
              "      <th>...</th>\n",
              "      <td>...</td>\n",
              "      <td>...</td>\n",
              "      <td>...</td>\n",
              "    </tr>\n",
              "    <tr>\n",
              "      <th>813</th>\n",
              "      <td>\\n \\n \\n \\n \\n &lt;B&gt;EXAM: &lt;/B&gt; CT chest with contrast.\\n \\n &lt;B&gt;HISTORY: &lt;/B&gt; Abnormal chest x-ray, which demonstrated a region of consolidation versus mass in the right upper lobe.\\n \\n &lt;B&gt;TECHNIQUE...</td>\n",
              "      <td>Radiology</td>\n",
              "      <td>ct chest contrast . abnormal chest x - ray , demonstrate region consolidation mass right upper lobe . post contrast - enhance spiral image obtain chest . several , discrete , patchy air - space op...</td>\n",
              "    </tr>\n",
              "    <tr>\n",
              "      <th>814</th>\n",
              "      <td>\\n \\n \\n \\n \\n &lt;B&gt;CC:&lt;/B&gt; Episodic mental status change and RUE numbness, and chorea (found on exam).\\n \\n &lt;B&gt;HX:&lt;/B&gt; This 78y/o RHM was referred for an episode of unusual behavior and RUE numbnes...</td>\n",
              "      <td>Radiology</td>\n",
              "      <td>episodic mental status change numbness , chorea find exam . 78y rhm refer episode unusual behavior numbness . 9/91 , experience loss consciousness , generalize weakness , headache vomiting . evalu...</td>\n",
              "    </tr>\n",
              "    <tr>\n",
              "      <th>815</th>\n",
              "      <td>\\n \\n \\n \\n \\n &lt;B&gt;PROCEDURE IN DETAIL: &lt;/B&gt; Following premedication with Vistaril 50 mg and Atropine 0.4 mg IM, the patient received Versed 5.0 mg intravenously after Cetacaine spray to the poster...</td>\n",
              "      <td>Gastroenterology</td>\n",
              "      <td>procedure follow premedication vistaril 50 mg atropine 0.4 mg , patient receive versed 5.0 mg cetacaine spray posterior palate . olympus video gastroscope introduce upper esophagus pass direct vis...</td>\n",
              "    </tr>\n",
              "    <tr>\n",
              "      <th>816</th>\n",
              "      <td>\\n \\n \\n \\n \\n &lt;B&gt;REASON FOR VISIT: &lt;/B&gt; Overactive bladder with microscopic hematuria.\\n \\n &lt;B&gt;HISTORY OF PRESENT ILLNESS: &lt;/B&gt; The patient is a 56-year-old noted to have microscopic hematuria wi...</td>\n",
              "      <td>Urology</td>\n",
              "      <td>reason overactive bladder microscopic hematuria . history present patient 56-year - old note microscopic hematuria overactive bladder . cystoscopy perform unremarkable . continue episode frequency...</td>\n",
              "    </tr>\n",
              "    <tr>\n",
              "      <th>817</th>\n",
              "      <td>\\n \\n \\n \\n \\n &lt;B&gt;HISTORY:&lt;/B&gt;  The patient is a 46-year-old right-handed gentleman with a past medical history of a left L5-S1 lumbar microdiskectomy in 1998 with complete resolution of left leg ...</td>\n",
              "      <td>Neurology</td>\n",
              "      <td>patient 46-year - old right - handed gentleman medical history left l5-s1 lumbar microdiskectomy 1998 complete resolution left leg symptom , present four - month history gradual onset right - side...</td>\n",
              "    </tr>\n",
              "  </tbody>\n",
              "</table>\n",
              "<p>818 rows × 3 columns</p>\n",
              "</div>\n",
              "      <button class=\"colab-df-convert\" onclick=\"convertToInteractive('df-8931c32d-f4dc-4ff4-9e55-ba13e9a74e4e')\"\n",
              "              title=\"Convert this dataframe to an interactive table.\"\n",
              "              style=\"display:none;\">\n",
              "        \n",
              "  <svg xmlns=\"http://www.w3.org/2000/svg\" height=\"24px\"viewBox=\"0 0 24 24\"\n",
              "       width=\"24px\">\n",
              "    <path d=\"M0 0h24v24H0V0z\" fill=\"none\"/>\n",
              "    <path d=\"M18.56 5.44l.94 2.06.94-2.06 2.06-.94-2.06-.94-.94-2.06-.94 2.06-2.06.94zm-11 1L8.5 8.5l.94-2.06 2.06-.94-2.06-.94L8.5 2.5l-.94 2.06-2.06.94zm10 10l.94 2.06.94-2.06 2.06-.94-2.06-.94-.94-2.06-.94 2.06-2.06.94z\"/><path d=\"M17.41 7.96l-1.37-1.37c-.4-.4-.92-.59-1.43-.59-.52 0-1.04.2-1.43.59L10.3 9.45l-7.72 7.72c-.78.78-.78 2.05 0 2.83L4 21.41c.39.39.9.59 1.41.59.51 0 1.02-.2 1.41-.59l7.78-7.78 2.81-2.81c.8-.78.8-2.07 0-2.86zM5.41 20L4 18.59l7.72-7.72 1.47 1.35L5.41 20z\"/>\n",
              "  </svg>\n",
              "      </button>\n",
              "      \n",
              "  <style>\n",
              "    .colab-df-container {\n",
              "      display:flex;\n",
              "      flex-wrap:wrap;\n",
              "      gap: 12px;\n",
              "    }\n",
              "\n",
              "    .colab-df-convert {\n",
              "      background-color: #E8F0FE;\n",
              "      border: none;\n",
              "      border-radius: 50%;\n",
              "      cursor: pointer;\n",
              "      display: none;\n",
              "      fill: #1967D2;\n",
              "      height: 32px;\n",
              "      padding: 0 0 0 0;\n",
              "      width: 32px;\n",
              "    }\n",
              "\n",
              "    .colab-df-convert:hover {\n",
              "      background-color: #E2EBFA;\n",
              "      box-shadow: 0px 1px 2px rgba(60, 64, 67, 0.3), 0px 1px 3px 1px rgba(60, 64, 67, 0.15);\n",
              "      fill: #174EA6;\n",
              "    }\n",
              "\n",
              "    [theme=dark] .colab-df-convert {\n",
              "      background-color: #3B4455;\n",
              "      fill: #D2E3FC;\n",
              "    }\n",
              "\n",
              "    [theme=dark] .colab-df-convert:hover {\n",
              "      background-color: #434B5C;\n",
              "      box-shadow: 0px 1px 3px 1px rgba(0, 0, 0, 0.15);\n",
              "      filter: drop-shadow(0px 1px 2px rgba(0, 0, 0, 0.3));\n",
              "      fill: #FFFFFF;\n",
              "    }\n",
              "  </style>\n",
              "\n",
              "      <script>\n",
              "        const buttonEl =\n",
              "          document.querySelector('#df-8931c32d-f4dc-4ff4-9e55-ba13e9a74e4e button.colab-df-convert');\n",
              "        buttonEl.style.display =\n",
              "          google.colab.kernel.accessAllowed ? 'block' : 'none';\n",
              "\n",
              "        async function convertToInteractive(key) {\n",
              "          const element = document.querySelector('#df-8931c32d-f4dc-4ff4-9e55-ba13e9a74e4e');\n",
              "          const dataTable =\n",
              "            await google.colab.kernel.invokeFunction('convertToInteractive',\n",
              "                                                     [key], {});\n",
              "          if (!dataTable) return;\n",
              "\n",
              "          const docLinkHtml = 'Like what you see? Visit the ' +\n",
              "            '<a target=\"_blank\" href=https://colab.research.google.com/notebooks/data_table.ipynb>data table notebook</a>'\n",
              "            + ' to learn more about interactive tables.';\n",
              "          element.innerHTML = '';\n",
              "          dataTable['output_type'] = 'display_data';\n",
              "          await google.colab.output.renderOutput(dataTable, element);\n",
              "          const docLink = document.createElement('div');\n",
              "          docLink.innerHTML = docLinkHtml;\n",
              "          element.appendChild(docLink);\n",
              "        }\n",
              "      </script>\n",
              "    </div>\n",
              "  </div>\n",
              "  "
            ]
          },
          "metadata": {},
          "execution_count": 4
        }
      ]
    },
    {
      "cell_type": "code",
      "source": [
        "df.columns # check field"
      ],
      "metadata": {
        "colab": {
          "base_uri": "https://localhost:8080/"
        },
        "id": "y3jzPTNk0gZm",
        "outputId": "700b0ef8-ceec-4394-c7ad-a0ef4209252e"
      },
      "execution_count": null,
      "outputs": [
        {
          "output_type": "execute_result",
          "data": {
            "text/plain": [
              "Index(['text', 'label', 'clean_text'], dtype='object')"
            ]
          },
          "metadata": {},
          "execution_count": 5
        }
      ]
    },
    {
      "cell_type": "code",
      "source": [
        "df.head(5) # check head data"
      ],
      "metadata": {
        "colab": {
          "base_uri": "https://localhost:8080/",
          "height": 597
        },
        "id": "4UWHeiEu0kxn",
        "outputId": "eb67ceb6-8604-4517-d091-a8da2dd357b9"
      },
      "execution_count": null,
      "outputs": [
        {
          "output_type": "execute_result",
          "data": {
            "text/plain": [
              "                                                                                                                                                                                                      text  \\\n",
              "0  \\n \\n \\n \\n \\n <B>CC:</B> Difficulty with word finding.\\n \\n <B>HX: </B>This 27y/o RHF experienced sudden onset word finding difficulty and slurred speech on the evening of 2/19/96. She denied any...   \n",
              "1  \\n \\n \\n \\n \\n <B>PREOPERATIVE DIAGNOSIS: </B> Ganglion of the left wrist.\\n \\n <B>POSTOPERATIVE DIAGNOSIS: </B> Ganglion of the left wrist.\\n \\n <B>OPERATION: </B> Excision of ganglion.\\n \\n <B>A...   \n",
              "2  \\n \\n \\n \\n \\n <B>PREOPERATIVE DIAGNOSIS: </B> Cervical myelopathy, C3-4, secondary to stenosis from herniated nucleus pulposus, C3-4.\\n \\n <B>POSTOPERATIVE DIAGNOSES: </B> Cervical myelopathy, C3...   \n",
              "3  \\n \\n \\n \\n \\n <B>EXAM:</B>MRI LEFT SHOULDER\\n \\n <B>CLINICAL:</B>This is a 69-year-old male with pain in the shoulder. Evaluate for rotator cuff tear.\\n \\n <B>FINDINGS:</B>\\n \\n Examination was p...   \n",
              "4  \\n \\n \\n \\n \\n <B>HISTORY OF PRESENT ILLNESS: </B> The patient is a 57-year-old female being seen today for evaluation of pain and symptoms related to a recurrent bunion deformity in bilateral fee...   \n",
              "\n",
              "        label  \\\n",
              "0   Neurology   \n",
              "1  Orthopedic   \n",
              "2  Orthopedic   \n",
              "3   Radiology   \n",
              "4  Orthopedic   \n",
              "\n",
              "                                                                                                                                                                                                clean_text  \n",
              "0  difficulty word find . rhf experience sudden onset word find difficulty slurred speech evening 2/19/96 . deny associate dysphagia , diplopia , numbness weakness extremity . go sleep symptom 2/19/9...  \n",
              "1  preoperative ganglion left wrist . postoperative ganglion left wrist . excision ganglion . general . estimate blood less 5 ml . successful anesthetic , patient position operating table . tournique...  \n",
              "2  preoperative cervical myelopathy , c3 - 4 , secondary stenosis herniated nucleus pulposus , c3 - 4 . postoperative cervical myelopathy , c3 - 4 , secondary stenosis herniated nucleus pulposus , c3...  \n",
              "3  mri leave shoulder 69-year - old male pain shoulder . evaluate rotator cuff tear . examination perform 9/1/05 . mark supraspinatus tendinosis extensive tearing substance tendon articular surface ,...  \n",
              "4  history present patient 57-year - old female see today evaluation pain symptom relate recurrent bunion deformity bilateral foot , great leave . patient state increase symptom pain discomfort assoc...  "
            ],
            "text/html": [
              "\n",
              "  <div id=\"df-407fb340-5503-4ebe-8020-2bc451e7b0d8\">\n",
              "    <div class=\"colab-df-container\">\n",
              "      <div>\n",
              "<style scoped>\n",
              "    .dataframe tbody tr th:only-of-type {\n",
              "        vertical-align: middle;\n",
              "    }\n",
              "\n",
              "    .dataframe tbody tr th {\n",
              "        vertical-align: top;\n",
              "    }\n",
              "\n",
              "    .dataframe thead th {\n",
              "        text-align: right;\n",
              "    }\n",
              "</style>\n",
              "<table border=\"1\" class=\"dataframe\">\n",
              "  <thead>\n",
              "    <tr style=\"text-align: right;\">\n",
              "      <th></th>\n",
              "      <th>text</th>\n",
              "      <th>label</th>\n",
              "      <th>clean_text</th>\n",
              "    </tr>\n",
              "  </thead>\n",
              "  <tbody>\n",
              "    <tr>\n",
              "      <th>0</th>\n",
              "      <td>\\n \\n \\n \\n \\n &lt;B&gt;CC:&lt;/B&gt; Difficulty with word finding.\\n \\n &lt;B&gt;HX: &lt;/B&gt;This 27y/o RHF experienced sudden onset word finding difficulty and slurred speech on the evening of 2/19/96. She denied any...</td>\n",
              "      <td>Neurology</td>\n",
              "      <td>difficulty word find . rhf experience sudden onset word find difficulty slurred speech evening 2/19/96 . deny associate dysphagia , diplopia , numbness weakness extremity . go sleep symptom 2/19/9...</td>\n",
              "    </tr>\n",
              "    <tr>\n",
              "      <th>1</th>\n",
              "      <td>\\n \\n \\n \\n \\n &lt;B&gt;PREOPERATIVE DIAGNOSIS: &lt;/B&gt; Ganglion of the left wrist.\\n \\n &lt;B&gt;POSTOPERATIVE DIAGNOSIS: &lt;/B&gt; Ganglion of the left wrist.\\n \\n &lt;B&gt;OPERATION: &lt;/B&gt; Excision of ganglion.\\n \\n &lt;B&gt;A...</td>\n",
              "      <td>Orthopedic</td>\n",
              "      <td>preoperative ganglion left wrist . postoperative ganglion left wrist . excision ganglion . general . estimate blood less 5 ml . successful anesthetic , patient position operating table . tournique...</td>\n",
              "    </tr>\n",
              "    <tr>\n",
              "      <th>2</th>\n",
              "      <td>\\n \\n \\n \\n \\n &lt;B&gt;PREOPERATIVE DIAGNOSIS: &lt;/B&gt; Cervical myelopathy, C3-4, secondary to stenosis from herniated nucleus pulposus, C3-4.\\n \\n &lt;B&gt;POSTOPERATIVE DIAGNOSES: &lt;/B&gt; Cervical myelopathy, C3...</td>\n",
              "      <td>Orthopedic</td>\n",
              "      <td>preoperative cervical myelopathy , c3 - 4 , secondary stenosis herniated nucleus pulposus , c3 - 4 . postoperative cervical myelopathy , c3 - 4 , secondary stenosis herniated nucleus pulposus , c3...</td>\n",
              "    </tr>\n",
              "    <tr>\n",
              "      <th>3</th>\n",
              "      <td>\\n \\n \\n \\n \\n &lt;B&gt;EXAM:&lt;/B&gt;MRI LEFT SHOULDER\\n \\n &lt;B&gt;CLINICAL:&lt;/B&gt;This is a 69-year-old male with pain in the shoulder. Evaluate for rotator cuff tear.\\n \\n &lt;B&gt;FINDINGS:&lt;/B&gt;\\n \\n Examination was p...</td>\n",
              "      <td>Radiology</td>\n",
              "      <td>mri leave shoulder 69-year - old male pain shoulder . evaluate rotator cuff tear . examination perform 9/1/05 . mark supraspinatus tendinosis extensive tearing substance tendon articular surface ,...</td>\n",
              "    </tr>\n",
              "    <tr>\n",
              "      <th>4</th>\n",
              "      <td>\\n \\n \\n \\n \\n &lt;B&gt;HISTORY OF PRESENT ILLNESS: &lt;/B&gt; The patient is a 57-year-old female being seen today for evaluation of pain and symptoms related to a recurrent bunion deformity in bilateral fee...</td>\n",
              "      <td>Orthopedic</td>\n",
              "      <td>history present patient 57-year - old female see today evaluation pain symptom relate recurrent bunion deformity bilateral foot , great leave . patient state increase symptom pain discomfort assoc...</td>\n",
              "    </tr>\n",
              "  </tbody>\n",
              "</table>\n",
              "</div>\n",
              "      <button class=\"colab-df-convert\" onclick=\"convertToInteractive('df-407fb340-5503-4ebe-8020-2bc451e7b0d8')\"\n",
              "              title=\"Convert this dataframe to an interactive table.\"\n",
              "              style=\"display:none;\">\n",
              "        \n",
              "  <svg xmlns=\"http://www.w3.org/2000/svg\" height=\"24px\"viewBox=\"0 0 24 24\"\n",
              "       width=\"24px\">\n",
              "    <path d=\"M0 0h24v24H0V0z\" fill=\"none\"/>\n",
              "    <path d=\"M18.56 5.44l.94 2.06.94-2.06 2.06-.94-2.06-.94-.94-2.06-.94 2.06-2.06.94zm-11 1L8.5 8.5l.94-2.06 2.06-.94-2.06-.94L8.5 2.5l-.94 2.06-2.06.94zm10 10l.94 2.06.94-2.06 2.06-.94-2.06-.94-.94-2.06-.94 2.06-2.06.94z\"/><path d=\"M17.41 7.96l-1.37-1.37c-.4-.4-.92-.59-1.43-.59-.52 0-1.04.2-1.43.59L10.3 9.45l-7.72 7.72c-.78.78-.78 2.05 0 2.83L4 21.41c.39.39.9.59 1.41.59.51 0 1.02-.2 1.41-.59l7.78-7.78 2.81-2.81c.8-.78.8-2.07 0-2.86zM5.41 20L4 18.59l7.72-7.72 1.47 1.35L5.41 20z\"/>\n",
              "  </svg>\n",
              "      </button>\n",
              "      \n",
              "  <style>\n",
              "    .colab-df-container {\n",
              "      display:flex;\n",
              "      flex-wrap:wrap;\n",
              "      gap: 12px;\n",
              "    }\n",
              "\n",
              "    .colab-df-convert {\n",
              "      background-color: #E8F0FE;\n",
              "      border: none;\n",
              "      border-radius: 50%;\n",
              "      cursor: pointer;\n",
              "      display: none;\n",
              "      fill: #1967D2;\n",
              "      height: 32px;\n",
              "      padding: 0 0 0 0;\n",
              "      width: 32px;\n",
              "    }\n",
              "\n",
              "    .colab-df-convert:hover {\n",
              "      background-color: #E2EBFA;\n",
              "      box-shadow: 0px 1px 2px rgba(60, 64, 67, 0.3), 0px 1px 3px 1px rgba(60, 64, 67, 0.15);\n",
              "      fill: #174EA6;\n",
              "    }\n",
              "\n",
              "    [theme=dark] .colab-df-convert {\n",
              "      background-color: #3B4455;\n",
              "      fill: #D2E3FC;\n",
              "    }\n",
              "\n",
              "    [theme=dark] .colab-df-convert:hover {\n",
              "      background-color: #434B5C;\n",
              "      box-shadow: 0px 1px 3px 1px rgba(0, 0, 0, 0.15);\n",
              "      filter: drop-shadow(0px 1px 2px rgba(0, 0, 0, 0.3));\n",
              "      fill: #FFFFFF;\n",
              "    }\n",
              "  </style>\n",
              "\n",
              "      <script>\n",
              "        const buttonEl =\n",
              "          document.querySelector('#df-407fb340-5503-4ebe-8020-2bc451e7b0d8 button.colab-df-convert');\n",
              "        buttonEl.style.display =\n",
              "          google.colab.kernel.accessAllowed ? 'block' : 'none';\n",
              "\n",
              "        async function convertToInteractive(key) {\n",
              "          const element = document.querySelector('#df-407fb340-5503-4ebe-8020-2bc451e7b0d8');\n",
              "          const dataTable =\n",
              "            await google.colab.kernel.invokeFunction('convertToInteractive',\n",
              "                                                     [key], {});\n",
              "          if (!dataTable) return;\n",
              "\n",
              "          const docLinkHtml = 'Like what you see? Visit the ' +\n",
              "            '<a target=\"_blank\" href=https://colab.research.google.com/notebooks/data_table.ipynb>data table notebook</a>'\n",
              "            + ' to learn more about interactive tables.';\n",
              "          element.innerHTML = '';\n",
              "          dataTable['output_type'] = 'display_data';\n",
              "          await google.colab.output.renderOutput(dataTable, element);\n",
              "          const docLink = document.createElement('div');\n",
              "          docLink.innerHTML = docLinkHtml;\n",
              "          element.appendChild(docLink);\n",
              "        }\n",
              "      </script>\n",
              "    </div>\n",
              "  </div>\n",
              "  "
            ]
          },
          "metadata": {},
          "execution_count": 6
        }
      ]
    },
    {
      "cell_type": "code",
      "source": [
        "df.shape # check total row + column"
      ],
      "metadata": {
        "colab": {
          "base_uri": "https://localhost:8080/"
        },
        "id": "ylxc_E9A1amQ",
        "outputId": "0867a871-ccc9-47c4-e3ba-8024edf572aa"
      },
      "execution_count": null,
      "outputs": [
        {
          "output_type": "execute_result",
          "data": {
            "text/plain": [
              "(818, 3)"
            ]
          },
          "metadata": {},
          "execution_count": 7
        }
      ]
    },
    {
      "cell_type": "markdown",
      "source": [
        "## Basic data cleaning\n",
        "Data teks yang berbentuk bahasa menghasilkan banyak keabu-abuan di dalamnya. Kita perlu membersihkan data terlebih dahulu untuk dapat mengetahui statistical/machine learning model yang tepat. beberapa dibawah ini adalah teknik yang digunakan :\n",
        "\n",
        "Using RegEx (regular expressions) untuk identifying text tidak relevan untuk dibuang.\n",
        "Standardizing/normalizing teks untuk - singkatan, dan ejaan yang salah seperti typo\n",
        "dan untuk social media data - membuang smileys emote, email ids jika tidak diperlukan"
      ],
      "metadata": {
        "id": "6j4g9Qs01kDw"
      }
    },
    {
      "cell_type": "code",
      "source": [
        "sample_text = df.text.iloc[3] # buat variable sample_text dengan bentuk text dari iloc = index location ke-3\n",
        "print(sample_text)\n",
        "# dibawah ini isi text yang telah di decode dengan utf-8"
      ],
      "metadata": {
        "colab": {
          "base_uri": "https://localhost:8080/"
        },
        "id": "hP-GIUAW1lWA",
        "outputId": "69e3093c-10a4-4461-c783-e10b3ec01bb8"
      },
      "execution_count": null,
      "outputs": [
        {
          "output_type": "stream",
          "name": "stdout",
          "text": [
            "\n",
            " \n",
            " \n",
            " \n",
            " \n",
            " <B>EXAM:</B>MRI LEFT SHOULDER\n",
            " \n",
            " <B>CLINICAL:</B>This is a 69-year-old male with pain in the shoulder. Evaluate for rotator cuff tear.\n",
            " \n",
            " <B>FINDINGS:</B>\n",
            " \n",
            " Examination was performed on 9/1/05.\n",
            " \n",
            " There is marked supraspinatus tendinosis and extensive tearing of the substance of the tendon and articular surface, extending into the myotendinous junction as well. There is still a small rim of tendon along the bursal surface, although there may be a small tear at the level of the rotator interval. There is no retracted tendon or muscular atrophy (series #6 images #6-17).\n",
            " \n",
            " Normal infraspinatus tendon.\n",
            " \n",
            " There is subscapularis tendinosis with fraying and partial tearing of the superior most fibers extending to the level of the rotator interval (series #9 images #8-13; series #3 images #8-14). There is no complete tear, gap or fiber retraction and there is no muscular atrophy.\n",
            " \n",
            " There is tendinosis and superficial tearing of the long biceps tendon within the bicipital groove, and there is high grade (near complete) partial tearing of the intracapsular portion of the tendon. The biceps anchor is intact. There are degenerative changes in the greater tuberosity of the humerus but there is no fracture or subluxation.\n",
            " \n",
            " There is degeneration of the superior labrum and there is a small nondisplaced tear in the posterior superior labrum at the one to two o’clock position (series #6 images #12-14; series #3 images #8-10; series #9 images #5-8). There is a small sublabral foramen at the eleven o’clock position (series #9 image #6). There is no osseous Bankart lesion.\n",
            " \n",
            " Normal superior, middle and inferior glenohumeral ligaments.\n",
            " \n",
            " There is hypertrophic osteoarthropathy of the acromioclavicular joint with narrowing of the subacromial space and flattening of the superior surface of the supraspinatus musculotendinous junction, which in the appropriate clinical setting is an MRI manifestation of an impinging lesion (series #8 images #3-12).\n",
            " \n",
            " Normal coracoacromial, coracohumeral and coracoclavicular ligaments. There is minimal fluid within the glenohumeral joint. There is no atrophy of the deltoid muscle.\n",
            " \n",
            " <B>IMPRESSION:</B>  There is extensive supraspinatus tendinosis and partial tearing as described. There is no retracted tendon or muscular atrophy, but there may be a small tear along the anterior edge of the tendon at the level of the rotator interval, and this associated partial tearing of the superior most fibers of the subscapularis tendon.  There is also a high-grade partial tear of the long biceps tendon as it courses under the transverse humeral ligament. There is no evidence of a complete tear or retracted tendon. Small nondisplaced posterior superior labral tear. Outlet narrowing from the acromioclavicular joint, which in the appropriate clinical setting is an MRI manifestation of an impinging lesion.\n",
            " \n",
            " \n",
            " \n",
            " \n",
            " \n",
            " \n",
            " \n",
            "\n"
          ]
        }
      ]
    },
    {
      "cell_type": "code",
      "source": [
        "import re # re ini regular expression yang tadi di atas di jelasin\n",
        "def remove_html(text): #define variable fungsi remove html/html tag dalam bentuk dari variable apapun yang berbentuk text\n",
        "    text = text.replace(\"\\n\",\" \") #yang ini tiap ada baris baru pake /n di ganti pake spasi aja yang ada di var text\n",
        "    pattern = re.compile('<.*?>') #semua HTML tags\n",
        "    return pattern.sub(r'', text) #return"
      ],
      "metadata": {
        "id": "DNTz5Nxy2EKp"
      },
      "execution_count": null,
      "outputs": []
    },
    {
      "cell_type": "code",
      "source": [
        "sample_text_processed = remove_html(sample_text) #var baru jalanin fungsi dari var remove_html dengan parameter sample_text\n",
        "print(sample_text_processed)"
      ],
      "metadata": {
        "colab": {
          "base_uri": "https://localhost:8080/"
        },
        "id": "Yw6dSSFR2Kby",
        "outputId": "c638b3f2-9f97-47ae-b3cf-a473da6756ca"
      },
      "execution_count": null,
      "outputs": [
        {
          "output_type": "stream",
          "name": "stdout",
          "text": [
            "          EXAM:MRI LEFT SHOULDER    CLINICAL:This is a 69-year-old male with pain in the shoulder. Evaluate for rotator cuff tear.    FINDINGS:    Examination was performed on 9/1/05.    There is marked supraspinatus tendinosis and extensive tearing of the substance of the tendon and articular surface, extending into the myotendinous junction as well. There is still a small rim of tendon along the bursal surface, although there may be a small tear at the level of the rotator interval. There is no retracted tendon or muscular atrophy (series #6 images #6-17).    Normal infraspinatus tendon.    There is subscapularis tendinosis with fraying and partial tearing of the superior most fibers extending to the level of the rotator interval (series #9 images #8-13; series #3 images #8-14). There is no complete tear, gap or fiber retraction and there is no muscular atrophy.    There is tendinosis and superficial tearing of the long biceps tendon within the bicipital groove, and there is high grade (near complete) partial tearing of the intracapsular portion of the tendon. The biceps anchor is intact. There are degenerative changes in the greater tuberosity of the humerus but there is no fracture or subluxation.    There is degeneration of the superior labrum and there is a small nondisplaced tear in the posterior superior labrum at the one to two o’clock position (series #6 images #12-14; series #3 images #8-10; series #9 images #5-8). There is a small sublabral foramen at the eleven o’clock position (series #9 image #6). There is no osseous Bankart lesion.    Normal superior, middle and inferior glenohumeral ligaments.    There is hypertrophic osteoarthropathy of the acromioclavicular joint with narrowing of the subacromial space and flattening of the superior surface of the supraspinatus musculotendinous junction, which in the appropriate clinical setting is an MRI manifestation of an impinging lesion (series #8 images #3-12).    Normal coracoacromial, coracohumeral and coracoclavicular ligaments. There is minimal fluid within the glenohumeral joint. There is no atrophy of the deltoid muscle.    IMPRESSION:  There is extensive supraspinatus tendinosis and partial tearing as described. There is no retracted tendon or muscular atrophy, but there may be a small tear along the anterior edge of the tendon at the level of the rotator interval, and this associated partial tearing of the superior most fibers of the subscapularis tendon.  There is also a high-grade partial tear of the long biceps tendon as it courses under the transverse humeral ligament. There is no evidence of a complete tear or retracted tendon. Small nondisplaced posterior superior labral tear. Outlet narrowing from the acromioclavicular joint, which in the appropriate clinical setting is an MRI manifestation of an impinging lesion.               \n"
          ]
        }
      ]
    },
    {
      "cell_type": "markdown",
      "source": [
        "Membuat fungsi untuk menghilangkan Heading"
      ],
      "metadata": {
        "id": "CehipjEy2U_r"
      }
    },
    {
      "cell_type": "code",
      "source": [
        "def remove_headings(text):\n",
        "    pattern = re.compile('\\w+:')\n",
        "    return pattern.sub(r'', text)"
      ],
      "metadata": {
        "id": "vkAt7y1k2NFa"
      },
      "execution_count": null,
      "outputs": []
    },
    {
      "cell_type": "code",
      "source": [
        "sample_text_processed = remove_headings(sample_text_processed)\n",
        "print (sample_text_processed)\n",
        "# liat EXAM : <~ ini adalah heading yang hilang dari contoh sebelumnya"
      ],
      "metadata": {
        "colab": {
          "base_uri": "https://localhost:8080/"
        },
        "id": "k6mdk5Ql2VmV",
        "outputId": "fe61f0ae-9ba2-4141-a4e6-b63f365c7c33"
      },
      "execution_count": null,
      "outputs": [
        {
          "output_type": "stream",
          "name": "stdout",
          "text": [
            "          MRI LEFT SHOULDER    This is a 69-year-old male with pain in the shoulder. Evaluate for rotator cuff tear.        Examination was performed on 9/1/05.    There is marked supraspinatus tendinosis and extensive tearing of the substance of the tendon and articular surface, extending into the myotendinous junction as well. There is still a small rim of tendon along the bursal surface, although there may be a small tear at the level of the rotator interval. There is no retracted tendon or muscular atrophy (series #6 images #6-17).    Normal infraspinatus tendon.    There is subscapularis tendinosis with fraying and partial tearing of the superior most fibers extending to the level of the rotator interval (series #9 images #8-13; series #3 images #8-14). There is no complete tear, gap or fiber retraction and there is no muscular atrophy.    There is tendinosis and superficial tearing of the long biceps tendon within the bicipital groove, and there is high grade (near complete) partial tearing of the intracapsular portion of the tendon. The biceps anchor is intact. There are degenerative changes in the greater tuberosity of the humerus but there is no fracture or subluxation.    There is degeneration of the superior labrum and there is a small nondisplaced tear in the posterior superior labrum at the one to two o’clock position (series #6 images #12-14; series #3 images #8-10; series #9 images #5-8). There is a small sublabral foramen at the eleven o’clock position (series #9 image #6). There is no osseous Bankart lesion.    Normal superior, middle and inferior glenohumeral ligaments.    There is hypertrophic osteoarthropathy of the acromioclavicular joint with narrowing of the subacromial space and flattening of the superior surface of the supraspinatus musculotendinous junction, which in the appropriate clinical setting is an MRI manifestation of an impinging lesion (series #8 images #3-12).    Normal coracoacromial, coracohumeral and coracoclavicular ligaments. There is minimal fluid within the glenohumeral joint. There is no atrophy of the deltoid muscle.      There is extensive supraspinatus tendinosis and partial tearing as described. There is no retracted tendon or muscular atrophy, but there may be a small tear along the anterior edge of the tendon at the level of the rotator interval, and this associated partial tearing of the superior most fibers of the subscapularis tendon.  There is also a high-grade partial tear of the long biceps tendon as it courses under the transverse humeral ligament. There is no evidence of a complete tear or retracted tendon. Small nondisplaced posterior superior labral tear. Outlet narrowing from the acromioclavicular joint, which in the appropriate clinical setting is an MRI manifestation of an impinging lesion.               \n"
          ]
        }
      ]
    },
    {
      "cell_type": "markdown",
      "source": [
        "Remove &quot marks dan character lain. mengganti double spasi dengan single"
      ],
      "metadata": {
        "id": "j-RUVBr_2gCI"
      }
    },
    {
      "cell_type": "code",
      "source": [
        "def replace_mult_spaces(text):\n",
        "    text = text.replace(\"&quot\",\"\")\n",
        "    pattern = re.compile(' +')\n",
        "    text = pattern.sub(r' ', text)\n",
        "    text = text.strip()\n",
        "    return text\n",
        "\n",
        "def replace_other_chars(text):\n",
        "    pattern = re.compile(r'[()!@&;#]')\n",
        "    text = pattern.sub(r'', text)\n",
        "    return text"
      ],
      "metadata": {
        "id": "tsMZwdSD2bnV"
      },
      "execution_count": null,
      "outputs": []
    },
    {
      "cell_type": "code",
      "source": [
        "sample_text_processed = replace_mult_spaces(sample_text_processed)\n",
        "print (sample_text_processed)"
      ],
      "metadata": {
        "colab": {
          "base_uri": "https://localhost:8080/"
        },
        "id": "o76Q7D8G2jmQ",
        "outputId": "53584574-ba26-4a13-e350-cbb141c18243"
      },
      "execution_count": null,
      "outputs": [
        {
          "output_type": "stream",
          "name": "stdout",
          "text": [
            "MRI LEFT SHOULDER This is a 69-year-old male with pain in the shoulder. Evaluate for rotator cuff tear. Examination was performed on 9/1/05. There is marked supraspinatus tendinosis and extensive tearing of the substance of the tendon and articular surface, extending into the myotendinous junction as well. There is still a small rim of tendon along the bursal surface, although there may be a small tear at the level of the rotator interval. There is no retracted tendon or muscular atrophy (series #6 images #6-17). Normal infraspinatus tendon. There is subscapularis tendinosis with fraying and partial tearing of the superior most fibers extending to the level of the rotator interval (series #9 images #8-13; series #3 images #8-14). There is no complete tear, gap or fiber retraction and there is no muscular atrophy. There is tendinosis and superficial tearing of the long biceps tendon within the bicipital groove, and there is high grade (near complete) partial tearing of the intracapsular portion of the tendon. The biceps anchor is intact. There are degenerative changes in the greater tuberosity of the humerus but there is no fracture or subluxation. There is degeneration of the superior labrum and there is a small nondisplaced tear in the posterior superior labrum at the one to two o’clock position (series #6 images #12-14; series #3 images #8-10; series #9 images #5-8). There is a small sublabral foramen at the eleven o’clock position (series #9 image #6). There is no osseous Bankart lesion. Normal superior, middle and inferior glenohumeral ligaments. There is hypertrophic osteoarthropathy of the acromioclavicular joint with narrowing of the subacromial space and flattening of the superior surface of the supraspinatus musculotendinous junction, which in the appropriate clinical setting is an MRI manifestation of an impinging lesion (series #8 images #3-12). Normal coracoacromial, coracohumeral and coracoclavicular ligaments. There is minimal fluid within the glenohumeral joint. There is no atrophy of the deltoid muscle. There is extensive supraspinatus tendinosis and partial tearing as described. There is no retracted tendon or muscular atrophy, but there may be a small tear along the anterior edge of the tendon at the level of the rotator interval, and this associated partial tearing of the superior most fibers of the subscapularis tendon. There is also a high-grade partial tear of the long biceps tendon as it courses under the transverse humeral ligament. There is no evidence of a complete tear or retracted tendon. Small nondisplaced posterior superior labral tear. Outlet narrowing from the acromioclavicular joint, which in the appropriate clinical setting is an MRI manifestation of an impinging lesion.\n"
          ]
        }
      ]
    },
    {
      "cell_type": "code",
      "source": [
        "sample_text_processed = replace_other_chars(sample_text_processed)\n",
        "print (sample_text_processed)"
      ],
      "metadata": {
        "colab": {
          "base_uri": "https://localhost:8080/"
        },
        "id": "xLsknSWA2uM2",
        "outputId": "81a78d4d-99ec-4ed9-eee9-e7197177ad1e"
      },
      "execution_count": null,
      "outputs": [
        {
          "output_type": "stream",
          "name": "stdout",
          "text": [
            "MRI LEFT SHOULDER This is a 69-year-old male with pain in the shoulder. Evaluate for rotator cuff tear. Examination was performed on 9/1/05. There is marked supraspinatus tendinosis and extensive tearing of the substance of the tendon and articular surface, extending into the myotendinous junction as well. There is still a small rim of tendon along the bursal surface, although there may be a small tear at the level of the rotator interval. There is no retracted tendon or muscular atrophy series 6 images 6-17. Normal infraspinatus tendon. There is subscapularis tendinosis with fraying and partial tearing of the superior most fibers extending to the level of the rotator interval series 9 images 8-13 series 3 images 8-14. There is no complete tear, gap or fiber retraction and there is no muscular atrophy. There is tendinosis and superficial tearing of the long biceps tendon within the bicipital groove, and there is high grade near complete partial tearing of the intracapsular portion of the tendon. The biceps anchor is intact. There are degenerative changes in the greater tuberosity of the humerus but there is no fracture or subluxation. There is degeneration of the superior labrum and there is a small nondisplaced tear in the posterior superior labrum at the one to two o’clock position series 6 images 12-14 series 3 images 8-10 series 9 images 5-8. There is a small sublabral foramen at the eleven o’clock position series 9 image 6. There is no osseous Bankart lesion. Normal superior, middle and inferior glenohumeral ligaments. There is hypertrophic osteoarthropathy of the acromioclavicular joint with narrowing of the subacromial space and flattening of the superior surface of the supraspinatus musculotendinous junction, which in the appropriate clinical setting is an MRI manifestation of an impinging lesion series 8 images 3-12. Normal coracoacromial, coracohumeral and coracoclavicular ligaments. There is minimal fluid within the glenohumeral joint. There is no atrophy of the deltoid muscle. There is extensive supraspinatus tendinosis and partial tearing as described. There is no retracted tendon or muscular atrophy, but there may be a small tear along the anterior edge of the tendon at the level of the rotator interval, and this associated partial tearing of the superior most fibers of the subscapularis tendon. There is also a high-grade partial tear of the long biceps tendon as it courses under the transverse humeral ligament. There is no evidence of a complete tear or retracted tendon. Small nondisplaced posterior superior labral tear. Outlet narrowing from the acromioclavicular joint, which in the appropriate clinical setting is an MRI manifestation of an impinging lesion.\n"
          ]
        }
      ]
    },
    {
      "cell_type": "markdown",
      "source": [
        "Membuat fungsi untuk membuat clean-text dalam 1 function lalu membuat semua text lower case (huruf kecil)."
      ],
      "metadata": {
        "id": "O7nDsTCV2zX5"
      }
    },
    {
      "cell_type": "code",
      "source": [
        "def clean_text(text):\n",
        "    text = remove_html(text)\n",
        "    text = remove_headings(text)\n",
        "    text = replace_mult_spaces(text)\n",
        "    text = replace_other_chars(text)\n",
        "    text = text.lower()\n",
        "    return text"
      ],
      "metadata": {
        "id": "34ATEb722v5h"
      },
      "execution_count": null,
      "outputs": []
    },
    {
      "cell_type": "code",
      "source": [
        "clean = clean_text(sample_text)\n",
        "print(clean)"
      ],
      "metadata": {
        "colab": {
          "base_uri": "https://localhost:8080/"
        },
        "id": "PKOBooKH24LF",
        "outputId": "2479561c-fbae-4cc7-b828-d13678b00347"
      },
      "execution_count": null,
      "outputs": [
        {
          "output_type": "stream",
          "name": "stdout",
          "text": [
            "mri left shoulder this is a 69-year-old male with pain in the shoulder. evaluate for rotator cuff tear. examination was performed on 9/1/05. there is marked supraspinatus tendinosis and extensive tearing of the substance of the tendon and articular surface, extending into the myotendinous junction as well. there is still a small rim of tendon along the bursal surface, although there may be a small tear at the level of the rotator interval. there is no retracted tendon or muscular atrophy series 6 images 6-17. normal infraspinatus tendon. there is subscapularis tendinosis with fraying and partial tearing of the superior most fibers extending to the level of the rotator interval series 9 images 8-13 series 3 images 8-14. there is no complete tear, gap or fiber retraction and there is no muscular atrophy. there is tendinosis and superficial tearing of the long biceps tendon within the bicipital groove, and there is high grade near complete partial tearing of the intracapsular portion of the tendon. the biceps anchor is intact. there are degenerative changes in the greater tuberosity of the humerus but there is no fracture or subluxation. there is degeneration of the superior labrum and there is a small nondisplaced tear in the posterior superior labrum at the one to two o’clock position series 6 images 12-14 series 3 images 8-10 series 9 images 5-8. there is a small sublabral foramen at the eleven o’clock position series 9 image 6. there is no osseous bankart lesion. normal superior, middle and inferior glenohumeral ligaments. there is hypertrophic osteoarthropathy of the acromioclavicular joint with narrowing of the subacromial space and flattening of the superior surface of the supraspinatus musculotendinous junction, which in the appropriate clinical setting is an mri manifestation of an impinging lesion series 8 images 3-12. normal coracoacromial, coracohumeral and coracoclavicular ligaments. there is minimal fluid within the glenohumeral joint. there is no atrophy of the deltoid muscle. there is extensive supraspinatus tendinosis and partial tearing as described. there is no retracted tendon or muscular atrophy, but there may be a small tear along the anterior edge of the tendon at the level of the rotator interval, and this associated partial tearing of the superior most fibers of the subscapularis tendon. there is also a high-grade partial tear of the long biceps tendon as it courses under the transverse humeral ligament. there is no evidence of a complete tear or retracted tendon. small nondisplaced posterior superior labral tear. outlet narrowing from the acromioclavicular joint, which in the appropriate clinical setting is an mri manifestation of an impinging lesion.\n"
          ]
        }
      ]
    },
    {
      "cell_type": "markdown",
      "source": [
        "## **Basic descriptive analysis on the texts**\n",
        "dibawah ada perbandingan nya, semua process diatas itu udah di looping dengan defining function text, sample_processed_text ataupun sample_text itu cuma buat kita ambil sample untuk melihat process didalam 1 index location"
      ],
      "metadata": {
        "id": "sVW10CNL3b73"
      }
    },
    {
      "cell_type": "code",
      "source": [
        "df.clean_text"
      ],
      "metadata": {
        "colab": {
          "base_uri": "https://localhost:8080/"
        },
        "id": "KljSIt2aOvHJ",
        "outputId": "ae52f75c-271b-449f-fae5-ae08f805d245"
      },
      "execution_count": null,
      "outputs": [
        {
          "output_type": "execute_result",
          "data": {
            "text/plain": [
              "0      difficulty word find . rhf experience sudden onset word find difficulty slurred speech evening 2/19/96 . deny associate dysphagia , diplopia , numbness weakness extremity . go sleep symptom 2/19/9...\n",
              "1      preoperative ganglion left wrist . postoperative ganglion left wrist . excision ganglion . general . estimate blood less 5 ml . successful anesthetic , patient position operating table . tournique...\n",
              "2      preoperative cervical myelopathy , c3 - 4 , secondary stenosis herniated nucleus pulposus , c3 - 4 . postoperative cervical myelopathy , c3 - 4 , secondary stenosis herniated nucleus pulposus , c3...\n",
              "3      mri leave shoulder 69-year - old male pain shoulder . evaluate rotator cuff tear . examination perform 9/1/05 . mark supraspinatus tendinosis extensive tearing substance tendon articular surface ,...\n",
              "4      history present patient 57-year - old female see today evaluation pain symptom relate recurrent bunion deformity bilateral foot , great leave . patient state increase symptom pain discomfort assoc...\n",
              "                                                                                                        ...                                                                                                   \n",
              "813    ct chest contrast . abnormal chest x - ray , demonstrate region consolidation mass right upper lobe . post contrast - enhance spiral image obtain chest . several , discrete , patchy air - space op...\n",
              "814    episodic mental status change numbness , chorea find exam . 78y rhm refer episode unusual behavior numbness . 9/91 , experience loss consciousness , generalize weakness , headache vomiting . evalu...\n",
              "815    procedure follow premedication vistaril 50 mg atropine 0.4 mg , patient receive versed 5.0 mg cetacaine spray posterior palate . olympus video gastroscope introduce upper esophagus pass direct vis...\n",
              "816    reason overactive bladder microscopic hematuria . history present patient 56-year - old note microscopic hematuria overactive bladder . cystoscopy perform unremarkable . continue episode frequency...\n",
              "817    patient 46-year - old right - handed gentleman medical history left l5-s1 lumbar microdiskectomy 1998 complete resolution left leg symptom , present four - month history gradual onset right - side...\n",
              "Name: clean_text, Length: 818, dtype: object"
            ]
          },
          "metadata": {},
          "execution_count": 20
        }
      ]
    },
    {
      "cell_type": "code",
      "source": [
        "df.text"
      ],
      "metadata": {
        "colab": {
          "base_uri": "https://localhost:8080/"
        },
        "id": "Zx5G_aK2PnhL",
        "outputId": "8a4e482f-c7eb-41ca-a42c-ef0160c7dd86"
      },
      "execution_count": null,
      "outputs": [
        {
          "output_type": "execute_result",
          "data": {
            "text/plain": [
              "0      \\n \\n \\n \\n \\n <B>CC:</B> Difficulty with word finding.\\n \\n <B>HX: </B>This 27y/o RHF experienced sudden onset word finding difficulty and slurred speech on the evening of 2/19/96. She denied any...\n",
              "1      \\n \\n \\n \\n \\n <B>PREOPERATIVE DIAGNOSIS: </B> Ganglion of the left wrist.\\n \\n <B>POSTOPERATIVE DIAGNOSIS: </B> Ganglion of the left wrist.\\n \\n <B>OPERATION: </B> Excision of ganglion.\\n \\n <B>A...\n",
              "2      \\n \\n \\n \\n \\n <B>PREOPERATIVE DIAGNOSIS: </B> Cervical myelopathy, C3-4, secondary to stenosis from herniated nucleus pulposus, C3-4.\\n \\n <B>POSTOPERATIVE DIAGNOSES: </B> Cervical myelopathy, C3...\n",
              "3      \\n \\n \\n \\n \\n <B>EXAM:</B>MRI LEFT SHOULDER\\n \\n <B>CLINICAL:</B>This is a 69-year-old male with pain in the shoulder. Evaluate for rotator cuff tear.\\n \\n <B>FINDINGS:</B>\\n \\n Examination was p...\n",
              "4      \\n \\n \\n \\n \\n <B>HISTORY OF PRESENT ILLNESS: </B> The patient is a 57-year-old female being seen today for evaluation of pain and symptoms related to a recurrent bunion deformity in bilateral fee...\n",
              "                                                                                                        ...                                                                                                   \n",
              "813    \\n \\n \\n \\n \\n <B>EXAM: </B> CT chest with contrast.\\n \\n <B>HISTORY: </B> Abnormal chest x-ray, which demonstrated a region of consolidation versus mass in the right upper lobe.\\n \\n <B>TECHNIQUE...\n",
              "814    \\n \\n \\n \\n \\n <B>CC:</B> Episodic mental status change and RUE numbness, and chorea (found on exam).\\n \\n <B>HX:</B> This 78y/o RHM was referred for an episode of unusual behavior and RUE numbnes...\n",
              "815    \\n \\n \\n \\n \\n <B>PROCEDURE IN DETAIL: </B> Following premedication with Vistaril 50 mg and Atropine 0.4 mg IM, the patient received Versed 5.0 mg intravenously after Cetacaine spray to the poster...\n",
              "816    \\n \\n \\n \\n \\n <B>REASON FOR VISIT: </B> Overactive bladder with microscopic hematuria.\\n \\n <B>HISTORY OF PRESENT ILLNESS: </B> The patient is a 56-year-old noted to have microscopic hematuria wi...\n",
              "817    \\n \\n \\n \\n \\n <B>HISTORY:</B>  The patient is a 46-year-old right-handed gentleman with a past medical history of a left L5-S1 lumbar microdiskectomy in 1998 with complete resolution of left leg ...\n",
              "Name: text, Length: 818, dtype: object"
            ]
          },
          "metadata": {},
          "execution_count": 21
        }
      ]
    },
    {
      "cell_type": "code",
      "source": [
        "import matplotlib.pyplot as plt\n",
        "\n",
        "df.text.apply(len).plot.hist()\n",
        "df.clean_text.apply(len).plot.hist()\n",
        "plt.title(\"Distribusi total karakter dalam file\")\n",
        "plt.legend([\"sesudah\",\"sebelum\"])\n",
        "plt.show()\n",
        "# x = density, y = freq\n",
        "# maksudnya density itu, 0-5000, yang dalam 1 index ada 0-5000 kata itu ada berapa banyak\n",
        "# frequency, contohnya lihat pada bar 0 density text, terdapat 500+ index yang mempunyai 0 character pada text nya\n",
        "# pada mark 5000 density, bisa diliat sebelum < 100 data, tapi sesudah > 200 data\n",
        "# maka bisa disimpulkan, penggunaan spasi yang tidak dibutuhkan dan karakter pemisah telah di buang"
      ],
      "metadata": {
        "colab": {
          "base_uri": "https://localhost:8080/",
          "height": 452
        },
        "id": "iEyfCzDg3K-e",
        "outputId": "e68026e0-1273-4c3d-b1df-8c9afd4c2760"
      },
      "execution_count": null,
      "outputs": [
        {
          "output_type": "display_data",
          "data": {
            "text/plain": [
              "<Figure size 640x480 with 1 Axes>"
            ],
            "image/png": "[encoded data removed]"
          },
          "metadata": {}
        }
      ]
    },
    {
      "cell_type": "code",
      "source": [
        "df.text.apply(len)"
      ],
      "metadata": {
        "colab": {
          "base_uri": "https://localhost:8080/"
        },
        "id": "yfw-4jG8RK7L",
        "outputId": "69b321e2-775f-434d-8770-54a6c256cad4"
      },
      "execution_count": null,
      "outputs": [
        {
          "output_type": "execute_result",
          "data": {
            "text/plain": [
              "0      5594\n",
              "1      1664\n",
              "2      6914\n",
              "3      2880\n",
              "4      3367\n",
              "       ... \n",
              "813     864\n",
              "814    5888\n",
              "815     733\n",
              "816    1269\n",
              "817    1947\n",
              "Name: text, Length: 818, dtype: int64"
            ]
          },
          "metadata": {},
          "execution_count": 23
        }
      ]
    },
    {
      "cell_type": "code",
      "source": [
        "df.clean_text.apply(len)"
      ],
      "metadata": {
        "colab": {
          "base_uri": "https://localhost:8080/"
        },
        "id": "BiNmaPwCSW-h",
        "outputId": "42bf7d59-6551-4cc6-e8a1-ca907817d6ea"
      },
      "execution_count": null,
      "outputs": [
        {
          "output_type": "execute_result",
          "data": {
            "text/plain": [
              "0      3866\n",
              "1       997\n",
              "2      4428\n",
              "3      1975\n",
              "4      2227\n",
              "       ... \n",
              "813     564\n",
              "814    4303\n",
              "815     484\n",
              "816     734\n",
              "817    1372\n",
              "Name: clean_text, Length: 818, dtype: int64"
            ]
          },
          "metadata": {},
          "execution_count": 24
        }
      ]
    }
  ]
}