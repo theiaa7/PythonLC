{
  "nbformat": 4,
  "nbformat_minor": 0,
  "metadata": {
    "colab": {
      "provenance": [],
      "include_colab_link": true
    },
    "kernelspec": {
      "name": "python3",
      "display_name": "Python 3"
    },
    "language_info": {
      "name": "python"
    }
  },
  "cells": [
    {
      "cell_type": "markdown",
      "metadata": {
        "id": "view-in-github",
        "colab_type": "text"
      },
      "source": [
        "<a href=\"https://colab.research.google.com/github/theiaa7/PythonLC/blob/main/P2SubCode_datacleansing101.ipynb\" target=\"_parent\"><img src=\"https://colab.research.google.com/assets/colab-badge.svg\" alt=\"Open In Colab\"/></a>"
      ]
    },
    {
      "cell_type": "markdown",
      "source": [
        "## DATACLEANSING101\n",
        "Note: Codingan ini hanya contoh beberapa metodenya, tanpa library dan file yang bisa di proses\n"
      ],
      "metadata": {
        "id": "a9Qy_5ubJs7y"
      }
    },
    {
      "cell_type": "code",
      "execution_count": null,
      "metadata": {
        "id": "y5L5J2LWe_EP"
      },
      "outputs": [],
      "source": [
        "import pandas as pd\n",
        "df.drop_duplicates(inplace=True)"
      ]
    },
    {
      "cell_type": "code",
      "source": [
        "df.fillna(value, inplace=True)"
      ],
      "metadata": {
        "id": "Dch0Y87lfB2G"
      },
      "execution_count": null,
      "outputs": []
    },
    {
      "cell_type": "code",
      "source": [
        "df.dropna(inplace=True)"
      ],
      "metadata": {
        "id": "effaff5zfM1V"
      },
      "execution_count": null,
      "outputs": []
    },
    {
      "cell_type": "code",
      "source": [
        "# Contoh: Mengganti nilai yang tidak mungkin dengan nilai yang valid\n",
        "df['age'] = df['age'].apply(lambda x: x if 0 <= x <= 120 else None)"
      ],
      "metadata": {
        "id": "UPIxWQWJfReN"
      },
      "execution_count": null,
      "outputs": []
    },
    {
      "cell_type": "code",
      "source": [
        "# Contoh: Menghapus tanda baca dan karakter khusus dari kolom \"text\"\n",
        "import re\n",
        "df['text'] = df['text'].apply(lambda x: re.sub('[^a-zA-Z0-9\\s]', '', x))"
      ],
      "metadata": {
        "id": "RN_KNgIGfURw"
      },
      "execution_count": null,
      "outputs": []
    },
    {
      "cell_type": "code",
      "source": [
        "# Contoh: Mengubah format tanggal menjadi \"YYYY-MM-DD\"\n",
        "df['date'] = pd.to_datetime(df['date'], format='%d/%m/%Y').dt.strftime('%Y-%m-%d')"
      ],
      "metadata": {
        "id": "PlsyddoUfX3b"
      },
      "execution_count": null,
      "outputs": []
    }
  ]
}